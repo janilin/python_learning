{
 "cells": [
  {
   "cell_type": "markdown",
   "id": "be16a304",
   "metadata": {},
   "source": [
    "## <font color=\"green\">Machine Learning and Deep Learning at a Glimpse</font>\n",
    "\n",
    "1. [Importing essential packages and tools](#Importing-essential-packages-and-tools)<br>\n",
    "2. [Creating dtaframe using mathematical expressions](#Creating-a-dataset-df-using-following-algorithm)<br>\n",
    "3. [Exploring the dataframe](#Inspecting-the-dataframe)<br>\n",
    "4. [Data correlation, visual](#Checking-correlation-visually)<br>\n",
    "5. [Data correlation, numerical](#Checking-the-correlation-numerically)<br>\n",
    "6. [Numerical Prediction with Deep Neural Network (DNN)](#Prediction-with-Deep-Neural-Network-(DNN))<br>\n",
    "    6.1. [Activation Functions](#Activation-Functions)<br>\n",
    "    6.2. [Defining the DNN model](#Defining-the-DNN-model)<br>\n",
    "    6.3. [DNN Model Training](#DNN-Model-Training)<br>\n",
    "    6.4. [DNN Prediction Result](#DNN-prediction-result)\n",
    "7. [Prediction with Linear Regression Model](#Prediction-with-Linear-Regression-Model)<br>\n",
    "    7.1. [LinearRegression Prediction Result](#LinearRegression-prediction-result)\n",
    "8. [Prediction with Polynomial Regression Model](#Polynomial-Regression)<br>\n",
    "    8.1. [Polynomial Regression Prediction Result](#Polynomial-Regression-Prediction-Result)<br>\n",
    "9. [Conclusion](#Conclusion:)\n",
    "    \n",
    "    \n"
   ]
  },
  {
   "cell_type": "markdown",
   "id": "a97b49ba",
   "metadata": {},
   "source": [
    "Hi, this is a glimpse of DL, and ML. The discussion about the concerning topics are extremely brief and the purpose of making this notebook is to have an over-generalized idea. Here, a small dataset is used, certainly not viable for DL, but despite of that, been used to get a shot understanding."
   ]
  },
  {
   "cell_type": "markdown",
   "id": "1ff9599d",
   "metadata": {},
   "source": [
    "<h5>Importing essential packages and tools</h5>"
   ]
  },
  {
   "cell_type": "code",
   "execution_count": 1,
   "id": "1e4b3d7a",
   "metadata": {
    "ExecuteTime": {
     "end_time": "2022-06-04T07:39:01.609307Z",
     "start_time": "2022-06-04T07:38:49.961842Z"
    }
   },
   "outputs": [],
   "source": [
    "import matplotlib.pyplot as plt\n",
    "import numpy as np\n",
    "import pandas as pd\n",
    "import seaborn as sns\n",
    "\n",
    "import tensorflow as tf\n",
    "from tensorflow import keras\n",
    "from tensorflow.keras import layers\n",
    "from tensorflow.keras import activations"
   ]
  },
  {
   "cell_type": "markdown",
   "id": "92050997",
   "metadata": {},
   "source": [
    "<h5>Creating a dataset <font color=\"lime\">df</font> using following algorithm</h5>"
   ]
  },
  {
   "cell_type": "markdown",
   "id": "73cdcd81",
   "metadata": {},
   "source": [
    "|   <font color=\"red\"> a    | <font color=\"green\">   b    |  <font color=\"red\">  c   |  <font color=\"green\">  d    |\n",
    "|:-:|:-:|:-:|:-:|\n",
    "|<font color=\"red\"> $$ a = i $$ | <font color=\"green\"> $$ b = i^{2} + 5 $$ | <font color=\"red\"> $$ c = ( \\sqrt[2]{b/2} )^{3} $$ | <font color=\"green\"> $$ d = ( \\sqrt[2]{c/2} )^{3} $$ |\n"
   ]
  },
  {
   "cell_type": "code",
   "execution_count": 6,
   "id": "47a86670",
   "metadata": {},
   "outputs": [],
   "source": [
    "!jt -t chesterish"
   ]
  },
  {
   "cell_type": "code",
   "execution_count": 51,
   "id": "4c9cc83e",
   "metadata": {
    "ExecuteTime": {
     "end_time": "2022-06-04T08:00:08.882408Z",
     "start_time": "2022-06-04T08:00:08.875408Z"
    }
   },
   "outputs": [],
   "source": [
    "# creating a series from 1 to 20\n",
    "a = list(range(1, 21))"
   ]
  },
  {
   "cell_type": "code",
   "execution_count": 53,
   "id": "ef586c93",
   "metadata": {
    "ExecuteTime": {
     "end_time": "2022-06-04T08:00:12.635063Z",
     "start_time": "2022-06-04T08:00:12.627950Z"
    }
   },
   "outputs": [],
   "source": [
    "# converting the format into array\n",
    "a = np.array(a)"
   ]
  },
  {
   "cell_type": "code",
   "execution_count": 60,
   "id": "d918e5d7",
   "metadata": {
    "ExecuteTime": {
     "end_time": "2022-06-04T08:00:57.359486Z",
     "start_time": "2022-06-04T08:00:57.351501Z"
    }
   },
   "outputs": [
    {
     "data": {
      "text/plain": [
       "array([ 1,  2,  3,  4,  5,  6,  7,  8,  9, 10, 11, 12, 13, 14, 15, 16, 17,\n",
       "       18, 19, 20])"
      ]
     },
     "execution_count": 60,
     "metadata": {},
     "output_type": "execute_result"
    }
   ],
   "source": [
    "# checking the array\n",
    "a"
   ]
  },
  {
   "cell_type": "code",
   "execution_count": 54,
   "id": "be785f85",
   "metadata": {
    "ExecuteTime": {
     "end_time": "2022-06-04T08:00:13.315821Z",
     "start_time": "2022-06-04T08:00:13.308817Z"
    }
   },
   "outputs": [],
   "source": [
    "# applying the b's function into a for b's values\n",
    "b = a**2+5"
   ]
  },
  {
   "cell_type": "code",
   "execution_count": 59,
   "id": "4fcd159b",
   "metadata": {
    "ExecuteTime": {
     "end_time": "2022-06-04T08:00:39.277519Z",
     "start_time": "2022-06-04T08:00:39.270517Z"
    }
   },
   "outputs": [
    {
     "data": {
      "text/plain": [
       "array([  6,   9,  14,  21,  30,  41,  54,  69,  86, 105, 126, 149, 174,\n",
       "       201, 230, 261, 294, 329, 366, 405], dtype=int32)"
      ]
     },
     "execution_count": 59,
     "metadata": {},
     "output_type": "execute_result"
    }
   ],
   "source": [
    "# checking the array\n",
    "b"
   ]
  },
  {
   "cell_type": "code",
   "execution_count": 55,
   "id": "a90f4b9d",
   "metadata": {
    "ExecuteTime": {
     "end_time": "2022-06-04T08:00:13.871587Z",
     "start_time": "2022-06-04T08:00:13.864571Z"
    }
   },
   "outputs": [],
   "source": [
    "# importing math package for square-root operation\n",
    "import math"
   ]
  },
  {
   "cell_type": "code",
   "execution_count": 56,
   "id": "ef91e81f",
   "metadata": {
    "ExecuteTime": {
     "end_time": "2022-06-04T08:00:14.399823Z",
     "start_time": "2022-06-04T08:00:14.392822Z"
    }
   },
   "outputs": [],
   "source": [
    "# applying the c's function into b for c's values\n",
    "c = map(lambda x: (math.sqrt(x)/2)**3, b)"
   ]
  },
  {
   "cell_type": "code",
   "execution_count": 57,
   "id": "475ad8ae",
   "metadata": {
    "ExecuteTime": {
     "end_time": "2022-06-04T08:00:15.020091Z",
     "start_time": "2022-06-04T08:00:15.012970Z"
    }
   },
   "outputs": [],
   "source": [
    "# converting the format into array\n",
    "c = np.array(list(c))"
   ]
  },
  {
   "cell_type": "code",
   "execution_count": 68,
   "id": "7210ee4c",
   "metadata": {
    "ExecuteTime": {
     "end_time": "2022-06-04T08:03:45.020241Z",
     "start_time": "2022-06-04T08:03:45.013240Z"
    }
   },
   "outputs": [
    {
     "data": {
      "text/plain": [
       "array([   1.83711731,    3.375     ,    6.54790043,   12.0292612 ,\n",
       "         20.53959591,   32.81601172,   49.60216729,   71.64463082,\n",
       "         99.69139883,  134.4912288 ,  176.79331153,  227.34709834,\n",
       "        286.90220459,  356.20835283,  436.01533803,  527.0730055 ,\n",
       "        630.13123633,  745.93993768,  875.24903599, 1018.80847225])"
      ]
     },
     "execution_count": 68,
     "metadata": {},
     "output_type": "execute_result"
    }
   ],
   "source": [
    "# checking the array\n",
    "c"
   ]
  },
  {
   "cell_type": "code",
   "execution_count": 75,
   "id": "3dd05908",
   "metadata": {
    "ExecuteTime": {
     "end_time": "2022-06-04T08:05:26.622830Z",
     "start_time": "2022-06-04T08:05:26.614824Z"
    }
   },
   "outputs": [],
   "source": [
    "# applying the d's function into c for d's values\n",
    "d = map(lambda x: (math.sqrt(x)/2)**3, c)"
   ]
  },
  {
   "cell_type": "code",
   "execution_count": 76,
   "id": "78fed3ee",
   "metadata": {
    "ExecuteTime": {
     "end_time": "2022-06-04T08:05:38.141854Z",
     "start_time": "2022-06-04T08:05:38.134846Z"
    }
   },
   "outputs": [],
   "source": [
    "# converting the format into array\n",
    "d = np.array(list(d))"
   ]
  },
  {
   "cell_type": "code",
   "execution_count": 77,
   "id": "ba644f9d",
   "metadata": {
    "ExecuteTime": {
     "end_time": "2022-06-04T08:05:44.561080Z",
     "start_time": "2022-06-04T08:05:44.554079Z"
    }
   },
   "outputs": [
    {
     "data": {
      "text/plain": [
       "array([3.11254290e-01, 7.75033864e-01, 2.09441680e+00, 5.21516971e+00,\n",
       "       1.16358431e+01, 2.34984226e+01, 4.36677678e+01, 7.58028417e+01,\n",
       "       1.24421819e+02, 1.94962442e+02, 2.93838541e+02, 4.28493399e+02,\n",
       "       6.07450426e+02, 8.40361527e+02, 1.13805346e+03, 1.51257241e+03,\n",
       "       1.97722697e+03, 2.54662972e+03, 3.23673746e+03, 4.06489035e+03])"
      ]
     },
     "execution_count": 77,
     "metadata": {},
     "output_type": "execute_result"
    }
   ],
   "source": [
    "# checking the array\n",
    "d"
   ]
  },
  {
   "cell_type": "code",
   "execution_count": 78,
   "id": "31fcb63a",
   "metadata": {
    "ExecuteTime": {
     "end_time": "2022-06-04T08:06:40.634955Z",
     "start_time": "2022-06-04T08:06:40.610954Z"
    }
   },
   "outputs": [],
   "source": [
    "# creating a dataframe with the values\n",
    "df = pd.DataFrame({\"a\":a,\n",
    "                  \"b\":b,\n",
    "                  \"c\":c,\n",
    "                  \"d\":d})"
   ]
  },
  {
   "cell_type": "markdown",
   "id": "184fdda0",
   "metadata": {},
   "source": [
    "Let's check the dataset:"
   ]
  },
  {
   "cell_type": "code",
   "execution_count": 79,
   "id": "a6906d89",
   "metadata": {
    "ExecuteTime": {
     "end_time": "2022-06-04T08:06:48.152076Z",
     "start_time": "2022-06-04T08:06:48.122072Z"
    }
   },
   "outputs": [
    {
     "data": {
      "text/html": [
       "<div>\n",
       "<style scoped>\n",
       "    .dataframe tbody tr th:only-of-type {\n",
       "        vertical-align: middle;\n",
       "    }\n",
       "\n",
       "    .dataframe tbody tr th {\n",
       "        vertical-align: top;\n",
       "    }\n",
       "\n",
       "    .dataframe thead th {\n",
       "        text-align: right;\n",
       "    }\n",
       "</style>\n",
       "<table border=\"1\" class=\"dataframe\">\n",
       "  <thead>\n",
       "    <tr style=\"text-align: right;\">\n",
       "      <th></th>\n",
       "      <th>a</th>\n",
       "      <th>b</th>\n",
       "      <th>c</th>\n",
       "      <th>d</th>\n",
       "    </tr>\n",
       "  </thead>\n",
       "  <tbody>\n",
       "    <tr>\n",
       "      <th>0</th>\n",
       "      <td>1</td>\n",
       "      <td>6</td>\n",
       "      <td>1.837117</td>\n",
       "      <td>0.311254</td>\n",
       "    </tr>\n",
       "    <tr>\n",
       "      <th>1</th>\n",
       "      <td>2</td>\n",
       "      <td>9</td>\n",
       "      <td>3.375000</td>\n",
       "      <td>0.775034</td>\n",
       "    </tr>\n",
       "    <tr>\n",
       "      <th>2</th>\n",
       "      <td>3</td>\n",
       "      <td>14</td>\n",
       "      <td>6.547900</td>\n",
       "      <td>2.094417</td>\n",
       "    </tr>\n",
       "  </tbody>\n",
       "</table>\n",
       "</div>"
      ],
      "text/plain": [
       "   a   b         c         d\n",
       "0  1   6  1.837117  0.311254\n",
       "1  2   9  3.375000  0.775034\n",
       "2  3  14  6.547900  2.094417"
      ]
     },
     "execution_count": 79,
     "metadata": {},
     "output_type": "execute_result"
    }
   ],
   "source": [
    "df.head(3)"
   ]
  },
  {
   "cell_type": "code",
   "execution_count": 5,
   "id": "af043f4e",
   "metadata": {},
   "outputs": [
    {
     "data": {
      "text/html": [
       "<div>\n",
       "<style scoped>\n",
       "    .dataframe tbody tr th:only-of-type {\n",
       "        vertical-align: middle;\n",
       "    }\n",
       "\n",
       "    .dataframe tbody tr th {\n",
       "        vertical-align: top;\n",
       "    }\n",
       "\n",
       "    .dataframe thead th {\n",
       "        text-align: right;\n",
       "    }\n",
       "</style>\n",
       "<table border=\"1\" class=\"dataframe\">\n",
       "  <thead>\n",
       "    <tr style=\"text-align: right;\">\n",
       "      <th></th>\n",
       "      <th>count</th>\n",
       "      <th>mean</th>\n",
       "      <th>std</th>\n",
       "      <th>min</th>\n",
       "      <th>25%</th>\n",
       "      <th>50%</th>\n",
       "      <th>75%</th>\n",
       "      <th>max</th>\n",
       "    </tr>\n",
       "  </thead>\n",
       "  <tbody>\n",
       "    <tr>\n",
       "      <th>a</th>\n",
       "      <td>20.0</td>\n",
       "      <td>10.500000</td>\n",
       "      <td>5.916080</td>\n",
       "      <td>1.000000</td>\n",
       "      <td>5.750000</td>\n",
       "      <td>10.500000</td>\n",
       "      <td>15.250000</td>\n",
       "      <td>20.000000</td>\n",
       "    </tr>\n",
       "    <tr>\n",
       "      <th>b</th>\n",
       "      <td>20.0</td>\n",
       "      <td>148.500000</td>\n",
       "      <td>127.902306</td>\n",
       "      <td>6.000000</td>\n",
       "      <td>38.250000</td>\n",
       "      <td>115.500000</td>\n",
       "      <td>237.750000</td>\n",
       "      <td>405.000000</td>\n",
       "    </tr>\n",
       "    <tr>\n",
       "      <th>c</th>\n",
       "      <td>20.0</td>\n",
       "      <td>285.652115</td>\n",
       "      <td>318.132429</td>\n",
       "      <td>1.837117</td>\n",
       "      <td>29.746908</td>\n",
       "      <td>155.642270</td>\n",
       "      <td>458.779755</td>\n",
       "      <td>1018.808472</td>\n",
       "    </tr>\n",
       "    <tr>\n",
       "      <th>d</th>\n",
       "      <td>20.0</td>\n",
       "      <td>856.431964</td>\n",
       "      <td>1207.762052</td>\n",
       "      <td>0.311254</td>\n",
       "      <td>20.532778</td>\n",
       "      <td>244.400491</td>\n",
       "      <td>1231.683197</td>\n",
       "      <td>4064.890347</td>\n",
       "    </tr>\n",
       "  </tbody>\n",
       "</table>\n",
       "</div>"
      ],
      "text/plain": [
       "   count        mean          std       min        25%         50%  \\\n",
       "a   20.0   10.500000     5.916080  1.000000   5.750000   10.500000   \n",
       "b   20.0  148.500000   127.902306  6.000000  38.250000  115.500000   \n",
       "c   20.0  285.652115   318.132429  1.837117  29.746908  155.642270   \n",
       "d   20.0  856.431964  1207.762052  0.311254  20.532778  244.400491   \n",
       "\n",
       "           75%          max  \n",
       "a    15.250000    20.000000  \n",
       "b   237.750000   405.000000  \n",
       "c   458.779755  1018.808472  \n",
       "d  1231.683197  4064.890347  "
      ]
     },
     "execution_count": 5,
     "metadata": {},
     "output_type": "execute_result"
    }
   ],
   "source": [
    "df.describe().transpose()"
   ]
  },
  {
   "cell_type": "markdown",
   "id": "c37c9569",
   "metadata": {
    "ExecuteTime": {
     "end_time": "2022-06-04T09:07:58.763918Z",
     "start_time": "2022-06-04T09:07:58.748274Z"
    }
   },
   "source": [
    "<h5>Inspecting the dataframe</h5>"
   ]
  },
  {
   "cell_type": "markdown",
   "id": "37ef4b1a",
   "metadata": {},
   "source": [
    "Let's check how many \"na\" values the dataset contains:"
   ]
  },
  {
   "cell_type": "code",
   "execution_count": 6,
   "id": "fb40c938",
   "metadata": {},
   "outputs": [
    {
     "data": {
      "text/plain": [
       "a    0\n",
       "b    0\n",
       "c    0\n",
       "d    0\n",
       "dtype: int64"
      ]
     },
     "execution_count": 6,
     "metadata": {},
     "output_type": "execute_result"
    }
   ],
   "source": [
    "df.isna().sum()"
   ]
  },
  {
   "cell_type": "markdown",
   "id": "96438a83",
   "metadata": {},
   "source": [
    "Let's remove \"na\" values if exists (a routine work for me):"
   ]
  },
  {
   "cell_type": "code",
   "execution_count": 7,
   "id": "708f5e51",
   "metadata": {},
   "outputs": [],
   "source": [
    "df = df.dropna()"
   ]
  },
  {
   "cell_type": "markdown",
   "id": "9a402a41",
   "metadata": {},
   "source": [
    "Let's inspect the correlation between variables visually, through pairplot:"
   ]
  },
  {
   "cell_type": "markdown",
   "id": "6aabea5a",
   "metadata": {},
   "source": [
    "<h5>Checking correlation visually</h5>"
   ]
  },
  {
   "cell_type": "code",
   "execution_count": 7,
   "id": "5fc63d6a",
   "metadata": {},
   "outputs": [
    {
     "data": {
      "text/plain": [
       "<seaborn.axisgrid.PairGrid at 0x24b291e9610>"
      ]
     },
     "execution_count": 7,
     "metadata": {},
     "output_type": "execute_result"
    },
    {
     "data": {
      "image/png": "[encoded data removed]",
      "text/plain": [
       "<Figure size 720x720 with 20 Axes>"
      ]
     },
     "metadata": {
      "needs_background": "light"
     },
     "output_type": "display_data"
    }
   ],
   "source": [
    "sns.pairplot(df[[\"a\", \"b\", \"c\", \"d\"]], diag_kind=\"kde\")"
   ]
  },
  {
   "cell_type": "markdown",
   "id": "c493f0e6",
   "metadata": {},
   "source": [
    "<h5>Checking the correlation numerically</h5>"
   ]
  },
  {
   "cell_type": "code",
   "execution_count": 9,
   "id": "3240f0ea",
   "metadata": {},
   "outputs": [
    {
     "data": {
      "text/html": [
       "<div>\n",
       "<style scoped>\n",
       "    .dataframe tbody tr th:only-of-type {\n",
       "        vertical-align: middle;\n",
       "    }\n",
       "\n",
       "    .dataframe tbody tr th {\n",
       "        vertical-align: top;\n",
       "    }\n",
       "\n",
       "    .dataframe thead th {\n",
       "        text-align: right;\n",
       "    }\n",
       "</style>\n",
       "<table border=\"1\" class=\"dataframe\">\n",
       "  <thead>\n",
       "    <tr style=\"text-align: right;\">\n",
       "      <th></th>\n",
       "      <th>a</th>\n",
       "      <th>b</th>\n",
       "      <th>c</th>\n",
       "      <th>d</th>\n",
       "    </tr>\n",
       "  </thead>\n",
       "  <tbody>\n",
       "    <tr>\n",
       "      <th>a</th>\n",
       "      <td>1.000000</td>\n",
       "      <td>0.971348</td>\n",
       "      <td>0.924487</td>\n",
       "      <td>0.853829</td>\n",
       "    </tr>\n",
       "    <tr>\n",
       "      <th>b</th>\n",
       "      <td>0.971348</td>\n",
       "      <td>1.000000</td>\n",
       "      <td>0.987480</td>\n",
       "      <td>0.946735</td>\n",
       "    </tr>\n",
       "    <tr>\n",
       "      <th>c</th>\n",
       "      <td>0.924487</td>\n",
       "      <td>0.987480</td>\n",
       "      <td>1.000000</td>\n",
       "      <td>0.984989</td>\n",
       "    </tr>\n",
       "    <tr>\n",
       "      <th>d</th>\n",
       "      <td>0.853829</td>\n",
       "      <td>0.946735</td>\n",
       "      <td>0.984989</td>\n",
       "      <td>1.000000</td>\n",
       "    </tr>\n",
       "  </tbody>\n",
       "</table>\n",
       "</div>"
      ],
      "text/plain": [
       "          a         b         c         d\n",
       "a  1.000000  0.971348  0.924487  0.853829\n",
       "b  0.971348  1.000000  0.987480  0.946735\n",
       "c  0.924487  0.987480  1.000000  0.984989\n",
       "d  0.853829  0.946735  0.984989  1.000000"
      ]
     },
     "execution_count": 9,
     "metadata": {},
     "output_type": "execute_result"
    }
   ],
   "source": [
    "df[[\"a\", \"b\", \"c\", \"d\"]].corr()"
   ]
  },
  {
   "cell_type": "markdown",
   "id": "1f9760bf",
   "metadata": {},
   "source": [
    "As refresher, the dataframe was created by following algorithm:<br><br>\n",
    "\n",
    "$$\n",
    "a = i \\\\\n",
    "b = i^{2} + 5 \\\\  \n",
    "c = ( \\sqrt[2]{b/2} )^{3} \\\\ \n",
    "d ={\\sqrt[2]{c}})^{3}\n",
    "$$"
   ]
  },
  {
   "cell_type": "code",
   "execution_count": 111,
   "id": "a40ccbec",
   "metadata": {
    "ExecuteTime": {
     "end_time": "2022-06-04T09:46:22.866262Z",
     "start_time": "2022-06-04T09:46:22.812245Z"
    }
   },
   "outputs": [
    {
     "name": "stdout",
     "output_type": "stream",
     "text": [
      "correlation of:\n",
      "d and a: (0.8538285886595324, 1.6808636979870966e-06)\n",
      "d and b: (0.9467351851128935, 2.6995520652179287e-10)\n",
      "d and c: (0.9849892131679784, 3.48043409701835e-15)\n"
     ]
    }
   ],
   "source": [
    "import scipy\n",
    "from scipy import stats\n",
    "\n",
    "print(\"correlation of:\")\n",
    "print(\"d and a:\", scipy.stats.pearsonr(df.d, df.a))\n",
    "print(\"d and b:\", scipy.stats.pearsonr(df.d, df.b))\n",
    "print(\"d and c:\", scipy.stats.pearsonr(df.d, df.c))"
   ]
  },
  {
   "cell_type": "code",
   "execution_count": 112,
   "id": "fcf314c4",
   "metadata": {
    "ExecuteTime": {
     "end_time": "2022-06-04T09:46:24.930239Z",
     "start_time": "2022-06-04T09:46:24.907118Z"
    }
   },
   "outputs": [],
   "source": [
    "# seperating independent variables\n",
    "feature = df.copy()   # defining indep. variables\n",
    "\n",
    "output = feature.pop(\"d\")   # defining dep. variables"
   ]
  },
  {
   "cell_type": "code",
   "execution_count": 113,
   "id": "4b0ca0ce",
   "metadata": {
    "ExecuteTime": {
     "end_time": "2022-06-04T09:46:27.174178Z",
     "start_time": "2022-06-04T09:46:27.151081Z"
    }
   },
   "outputs": [],
   "source": [
    "feature = df[[\"a\", \"b\", \"c\"]]\n",
    "output = df[[\"d\"]]"
   ]
  },
  {
   "cell_type": "markdown",
   "id": "be7bcabb",
   "metadata": {},
   "source": [
    "<h3><font color=\"blue\">Prediction with Deep Neural Network (DNN)</font></h3>"
   ]
  },
  {
   "cell_type": "code",
   "execution_count": 114,
   "id": "8446d2d5",
   "metadata": {
    "ExecuteTime": {
     "end_time": "2022-06-04T09:46:30.087849Z",
     "start_time": "2022-06-04T09:46:29.893766Z"
    }
   },
   "outputs": [],
   "source": [
    "# normalization\n",
    "normalizer = tf.keras.layers.Normalization(axis=-1)"
   ]
  },
  {
   "cell_type": "code",
   "execution_count": 115,
   "id": "80471951",
   "metadata": {
    "ExecuteTime": {
     "end_time": "2022-06-04T09:46:33.341294Z",
     "start_time": "2022-06-04T09:46:31.845954Z"
    }
   },
   "outputs": [],
   "source": [
    "# let's fit the state of the preprocessing layer to the data\n",
    "normalizer.adapt(np.array(feature))\n",
    "normalizer.adapt(np.array(output))"
   ]
  },
  {
   "cell_type": "code",
   "execution_count": 15,
   "id": "2730df87",
   "metadata": {},
   "outputs": [
    {
     "data": {
      "text/html": [
       "<div>\n",
       "<style scoped>\n",
       "    .dataframe tbody tr th:only-of-type {\n",
       "        vertical-align: middle;\n",
       "    }\n",
       "\n",
       "    .dataframe tbody tr th {\n",
       "        vertical-align: top;\n",
       "    }\n",
       "\n",
       "    .dataframe thead th {\n",
       "        text-align: right;\n",
       "    }\n",
       "</style>\n",
       "<table border=\"1\" class=\"dataframe\">\n",
       "  <thead>\n",
       "    <tr style=\"text-align: right;\">\n",
       "      <th></th>\n",
       "      <th>d</th>\n",
       "    </tr>\n",
       "  </thead>\n",
       "  <tbody>\n",
       "    <tr>\n",
       "      <th>0</th>\n",
       "      <td>0.311254</td>\n",
       "    </tr>\n",
       "    <tr>\n",
       "      <th>1</th>\n",
       "      <td>0.775034</td>\n",
       "    </tr>\n",
       "    <tr>\n",
       "      <th>2</th>\n",
       "      <td>2.094417</td>\n",
       "    </tr>\n",
       "    <tr>\n",
       "      <th>3</th>\n",
       "      <td>5.215170</td>\n",
       "    </tr>\n",
       "    <tr>\n",
       "      <th>4</th>\n",
       "      <td>11.635843</td>\n",
       "    </tr>\n",
       "    <tr>\n",
       "      <th>5</th>\n",
       "      <td>23.498423</td>\n",
       "    </tr>\n",
       "    <tr>\n",
       "      <th>6</th>\n",
       "      <td>43.667768</td>\n",
       "    </tr>\n",
       "    <tr>\n",
       "      <th>7</th>\n",
       "      <td>75.802842</td>\n",
       "    </tr>\n",
       "    <tr>\n",
       "      <th>8</th>\n",
       "      <td>124.421819</td>\n",
       "    </tr>\n",
       "    <tr>\n",
       "      <th>9</th>\n",
       "      <td>194.962442</td>\n",
       "    </tr>\n",
       "    <tr>\n",
       "      <th>10</th>\n",
       "      <td>293.838541</td>\n",
       "    </tr>\n",
       "    <tr>\n",
       "      <th>11</th>\n",
       "      <td>428.493400</td>\n",
       "    </tr>\n",
       "    <tr>\n",
       "      <th>12</th>\n",
       "      <td>607.450426</td>\n",
       "    </tr>\n",
       "    <tr>\n",
       "      <th>13</th>\n",
       "      <td>840.361527</td>\n",
       "    </tr>\n",
       "    <tr>\n",
       "      <th>14</th>\n",
       "      <td>1138.053460</td>\n",
       "    </tr>\n",
       "    <tr>\n",
       "      <th>15</th>\n",
       "      <td>1512.572409</td>\n",
       "    </tr>\n",
       "    <tr>\n",
       "      <th>16</th>\n",
       "      <td>1977.226971</td>\n",
       "    </tr>\n",
       "    <tr>\n",
       "      <th>17</th>\n",
       "      <td>2546.629719</td>\n",
       "    </tr>\n",
       "    <tr>\n",
       "      <th>18</th>\n",
       "      <td>3236.737464</td>\n",
       "    </tr>\n",
       "    <tr>\n",
       "      <th>19</th>\n",
       "      <td>4064.890347</td>\n",
       "    </tr>\n",
       "  </tbody>\n",
       "</table>\n",
       "</div>"
      ],
      "text/plain": [
       "              d\n",
       "0      0.311254\n",
       "1      0.775034\n",
       "2      2.094417\n",
       "3      5.215170\n",
       "4     11.635843\n",
       "5     23.498423\n",
       "6     43.667768\n",
       "7     75.802842\n",
       "8    124.421819\n",
       "9    194.962442\n",
       "10   293.838541\n",
       "11   428.493400\n",
       "12   607.450426\n",
       "13   840.361527\n",
       "14  1138.053460\n",
       "15  1512.572409\n",
       "16  1977.226971\n",
       "17  2546.629719\n",
       "18  3236.737464\n",
       "19  4064.890347"
      ]
     },
     "execution_count": 15,
     "metadata": {},
     "output_type": "execute_result"
    }
   ],
   "source": [
    "output"
   ]
  },
  {
   "cell_type": "code",
   "execution_count": 150,
   "id": "29a3f9c6",
   "metadata": {
    "ExecuteTime": {
     "end_time": "2022-06-04T09:53:05.365101Z",
     "start_time": "2022-06-04T09:53:05.344113Z"
    }
   },
   "outputs": [],
   "source": [
    "# let's create a function of DNN Regression model\n",
    "\n",
    "def build_and_compile_model(norm):\n",
    "    model = tf.keras.Sequential([norm,\n",
    "                              layers.Dense(128, activation=\"PReLU\"),\n",
    "                              layers.Dense(128, activation=\"ELU\"),\n",
    "                              layers.Dense(128, activation=\"ELU\"),\n",
    "                              layers.Dense(128, activation=\"ELU\"),\n",
    "                              layers.Dense(128, activation=\"ELU\"),\n",
    "                              layers.Dense(128, activation=\"ELU\"),\n",
    "                              layers.Dense(128, activation=\"ELU\"),\n",
    "                              layers.Dense(128, activation=\"ELU\"),\n",
    "                              layers.Dense(128, activation=\"ELU\"),\n",
    "                              layers.Dense(128, activation=\"ELU\"),\n",
    "                              layers.Dense(128, activation=\"ELU\"),\n",
    "                              layers.Dense(128, activation=\"ELU\"),\n",
    "                              layers.Dense(128, activation=\"ELU\"),\n",
    "                              layers.Dense(128, activation=\"ELU\"),\n",
    "                              layers.Dense(128, activation=\"ELU\"),\n",
    "                              layers.Dense(1)])\n",
    "    \n",
    "    model.compile(loss=\"mean_absolute_error\",\n",
    "                 optimizer=tf.keras.optimizers.Adam(0.001))\n",
    "    \n",
    "    return model"
   ]
  },
  {
   "cell_type": "markdown",
   "id": "c134aae3",
   "metadata": {},
   "source": [
    "<h5>Activation Functions</h5> following the type of the graphs, the following methods could be used\n",
    "<br>\n",
    "<img src=\"https://miro.medium.com/max/864/1*9X_cq19Vp1brXdhjtFCoyQ.png\">\n",
    "\n"
   ]
  },
  {
   "cell_type": "markdown",
   "id": "f322d00c",
   "metadata": {},
   "source": [
    "<h5>Defining the DNN model</h5>"
   ]
  },
  {
   "cell_type": "code",
   "execution_count": 151,
   "id": "9c03632e",
   "metadata": {
    "ExecuteTime": {
     "end_time": "2022-06-04T09:53:09.573336Z",
     "start_time": "2022-06-04T09:53:09.393178Z"
    }
   },
   "outputs": [],
   "source": [
    "# let's define DNN Regression model\n",
    "dnn_model = build_and_compile_model(normalizer)"
   ]
  },
  {
   "cell_type": "code",
   "execution_count": 143,
   "id": "46e0e507",
   "metadata": {
    "ExecuteTime": {
     "end_time": "2022-06-04T09:52:16.452193Z",
     "start_time": "2022-06-04T09:52:16.419174Z"
    }
   },
   "outputs": [
    {
     "name": "stdout",
     "output_type": "stream",
     "text": [
      "Model: \"sequential_5\"\n",
      "_________________________________________________________________\n",
      " Layer (type)                Output Shape              Param #   \n",
      "=================================================================\n",
      " normalization (Normalizatio  (None, 3)                7         \n",
      " n)                                                              \n",
      "                                                                 \n",
      " dense_47 (Dense)            (None, 128)               512       \n",
      "                                                                 \n",
      " dense_48 (Dense)            (None, 128)               16640     \n",
      "                                                                 \n",
      " dense_49 (Dense)            (None, 128)               16512     \n",
      "                                                                 \n",
      " dense_50 (Dense)            (None, 128)               16512     \n",
      "                                                                 \n",
      " dense_51 (Dense)            (None, 128)               16512     \n",
      "                                                                 \n",
      " dense_52 (Dense)            (None, 128)               16512     \n",
      "                                                                 \n",
      " dense_53 (Dense)            (None, 1)                 129       \n",
      "                                                                 \n",
      "=================================================================\n",
      "Total params: 83,336\n",
      "Trainable params: 83,329\n",
      "Non-trainable params: 7\n",
      "_________________________________________________________________\n"
     ]
    }
   ],
   "source": [
    "# let's check the model summary\n",
    "dnn_model.summary()"
   ]
  },
  {
   "cell_type": "markdown",
   "id": "0620d2cd",
   "metadata": {},
   "source": [
    "Let's train the model"
   ]
  },
  {
   "cell_type": "code",
   "execution_count": 119,
   "id": "cb4bbdd5",
   "metadata": {
    "ExecuteTime": {
     "end_time": "2022-06-04T09:46:53.038898Z",
     "start_time": "2022-06-04T09:46:53.031897Z"
    }
   },
   "outputs": [
    {
     "data": {
      "text/plain": [
       "0      1\n",
       "1      2\n",
       "2      3\n",
       "3      4\n",
       "4      5\n",
       "5      6\n",
       "6      7\n",
       "7      8\n",
       "8      9\n",
       "9     10\n",
       "10    11\n",
       "11    12\n",
       "12    13\n",
       "13    14\n",
       "14    15\n",
       "15    16\n",
       "16    17\n",
       "17    18\n",
       "18    19\n",
       "19    20\n",
       "Name: a, dtype: int32"
      ]
     },
     "execution_count": 119,
     "metadata": {},
     "output_type": "execute_result"
    }
   ],
   "source": [
    "feature[\"a\"]"
   ]
  },
  {
   "cell_type": "markdown",
   "id": "1f747f23",
   "metadata": {},
   "source": [
    "<h5>DNN Model Training</h5>\n",
    "Training the model for 100000 times."
   ]
  },
  {
   "cell_type": "code",
   "execution_count": 155,
   "id": "40fa5796",
   "metadata": {
    "ExecuteTime": {
     "end_time": "2022-06-04T10:01:57.960200Z",
     "start_time": "2022-06-04T09:54:21.000150Z"
    }
   },
   "outputs": [],
   "source": [
    "history = dnn_model.fit(\n",
    "    feature[[\"a\",\"b\",\"c\"]],\n",
    "    output,\n",
    "    # validation_split=0.2,   # optional for this instance\n",
    "    verbose=0,   # 0 or 1 or 2, shows the training simulation \n",
    "    epochs=100000)"
   ]
  },
  {
   "cell_type": "markdown",
   "id": "9fa5fa84",
   "metadata": {},
   "source": [
    "Let's evaluate the model"
   ]
  },
  {
   "cell_type": "code",
   "execution_count": 156,
   "id": "4ad44667",
   "metadata": {
    "ExecuteTime": {
     "end_time": "2022-06-04T10:05:04.864519Z",
     "start_time": "2022-06-04T10:05:04.780198Z"
    }
   },
   "outputs": [
    {
     "data": {
      "text/plain": [
       "array([[458171.53]], dtype=float32)"
      ]
     },
     "execution_count": 156,
     "metadata": {},
     "output_type": "execute_result"
    }
   ],
   "source": [
    "dnn_model.predict(np.array([120, 14405, 216112.5098]))"
   ]
  },
  {
   "cell_type": "markdown",
   "id": "0a72a399",
   "metadata": {},
   "source": [
    "<h5>DNN prediction result</h5>"
   ]
  },
  {
   "cell_type": "code",
   "execution_count": 157,
   "id": "48d95991",
   "metadata": {
    "ExecuteTime": {
     "end_time": "2022-06-04T10:05:19.416574Z",
     "start_time": "2022-06-04T10:05:19.395509Z"
    }
   },
   "outputs": [
    {
     "name": "stdout",
     "output_type": "stream",
     "text": [
      "the accuracy is : 3.648364539360507 %\n"
     ]
    }
   ],
   "source": [
    "print(\"the accuracy is :\", 458171.53/12558271.66*100, \"%\")"
   ]
  },
  {
   "cell_type": "markdown",
   "id": "436a8de3",
   "metadata": {},
   "source": [
    "It's evident that, deep learning is not viable for small dataset, though the correlations are strong."
   ]
  },
  {
   "cell_type": "markdown",
   "id": "7f600875",
   "metadata": {},
   "source": [
    "<h3><font color=\"blue\">Prediction with Linear Regression Model<font color=\"blue\"></h3>"
   ]
  },
  {
   "cell_type": "code",
   "execution_count": 82,
   "id": "be32e179",
   "metadata": {
    "ExecuteTime": {
     "end_time": "2022-06-04T08:40:02.156033Z",
     "start_time": "2022-06-04T08:40:02.143022Z"
    }
   },
   "outputs": [
    {
     "data": {
      "text/html": [
       "<div>\n",
       "<style scoped>\n",
       "    .dataframe tbody tr th:only-of-type {\n",
       "        vertical-align: middle;\n",
       "    }\n",
       "\n",
       "    .dataframe tbody tr th {\n",
       "        vertical-align: top;\n",
       "    }\n",
       "\n",
       "    .dataframe thead th {\n",
       "        text-align: right;\n",
       "    }\n",
       "</style>\n",
       "<table border=\"1\" class=\"dataframe\">\n",
       "  <thead>\n",
       "    <tr style=\"text-align: right;\">\n",
       "      <th></th>\n",
       "      <th>a</th>\n",
       "      <th>b</th>\n",
       "      <th>c</th>\n",
       "      <th>d</th>\n",
       "    </tr>\n",
       "  </thead>\n",
       "  <tbody>\n",
       "    <tr>\n",
       "      <th>0</th>\n",
       "      <td>1</td>\n",
       "      <td>6</td>\n",
       "      <td>1.837117</td>\n",
       "      <td>0.311254</td>\n",
       "    </tr>\n",
       "    <tr>\n",
       "      <th>1</th>\n",
       "      <td>2</td>\n",
       "      <td>9</td>\n",
       "      <td>3.375000</td>\n",
       "      <td>0.775034</td>\n",
       "    </tr>\n",
       "    <tr>\n",
       "      <th>2</th>\n",
       "      <td>3</td>\n",
       "      <td>14</td>\n",
       "      <td>6.547900</td>\n",
       "      <td>2.094417</td>\n",
       "    </tr>\n",
       "    <tr>\n",
       "      <th>3</th>\n",
       "      <td>4</td>\n",
       "      <td>21</td>\n",
       "      <td>12.029261</td>\n",
       "      <td>5.215170</td>\n",
       "    </tr>\n",
       "    <tr>\n",
       "      <th>4</th>\n",
       "      <td>5</td>\n",
       "      <td>30</td>\n",
       "      <td>20.539596</td>\n",
       "      <td>11.635843</td>\n",
       "    </tr>\n",
       "    <tr>\n",
       "      <th>5</th>\n",
       "      <td>6</td>\n",
       "      <td>41</td>\n",
       "      <td>32.816012</td>\n",
       "      <td>23.498423</td>\n",
       "    </tr>\n",
       "    <tr>\n",
       "      <th>6</th>\n",
       "      <td>7</td>\n",
       "      <td>54</td>\n",
       "      <td>49.602167</td>\n",
       "      <td>43.667768</td>\n",
       "    </tr>\n",
       "    <tr>\n",
       "      <th>7</th>\n",
       "      <td>8</td>\n",
       "      <td>69</td>\n",
       "      <td>71.644631</td>\n",
       "      <td>75.802842</td>\n",
       "    </tr>\n",
       "    <tr>\n",
       "      <th>8</th>\n",
       "      <td>9</td>\n",
       "      <td>86</td>\n",
       "      <td>99.691399</td>\n",
       "      <td>124.421819</td>\n",
       "    </tr>\n",
       "    <tr>\n",
       "      <th>9</th>\n",
       "      <td>10</td>\n",
       "      <td>105</td>\n",
       "      <td>134.491229</td>\n",
       "      <td>194.962442</td>\n",
       "    </tr>\n",
       "    <tr>\n",
       "      <th>10</th>\n",
       "      <td>11</td>\n",
       "      <td>126</td>\n",
       "      <td>176.793312</td>\n",
       "      <td>293.838541</td>\n",
       "    </tr>\n",
       "    <tr>\n",
       "      <th>11</th>\n",
       "      <td>12</td>\n",
       "      <td>149</td>\n",
       "      <td>227.347098</td>\n",
       "      <td>428.493399</td>\n",
       "    </tr>\n",
       "    <tr>\n",
       "      <th>12</th>\n",
       "      <td>13</td>\n",
       "      <td>174</td>\n",
       "      <td>286.902205</td>\n",
       "      <td>607.450426</td>\n",
       "    </tr>\n",
       "    <tr>\n",
       "      <th>13</th>\n",
       "      <td>14</td>\n",
       "      <td>201</td>\n",
       "      <td>356.208353</td>\n",
       "      <td>840.361527</td>\n",
       "    </tr>\n",
       "    <tr>\n",
       "      <th>14</th>\n",
       "      <td>15</td>\n",
       "      <td>230</td>\n",
       "      <td>436.015338</td>\n",
       "      <td>1138.053460</td>\n",
       "    </tr>\n",
       "    <tr>\n",
       "      <th>15</th>\n",
       "      <td>16</td>\n",
       "      <td>261</td>\n",
       "      <td>527.073005</td>\n",
       "      <td>1512.572409</td>\n",
       "    </tr>\n",
       "    <tr>\n",
       "      <th>16</th>\n",
       "      <td>17</td>\n",
       "      <td>294</td>\n",
       "      <td>630.131236</td>\n",
       "      <td>1977.226971</td>\n",
       "    </tr>\n",
       "    <tr>\n",
       "      <th>17</th>\n",
       "      <td>18</td>\n",
       "      <td>329</td>\n",
       "      <td>745.939938</td>\n",
       "      <td>2546.629719</td>\n",
       "    </tr>\n",
       "    <tr>\n",
       "      <th>18</th>\n",
       "      <td>19</td>\n",
       "      <td>366</td>\n",
       "      <td>875.249036</td>\n",
       "      <td>3236.737464</td>\n",
       "    </tr>\n",
       "    <tr>\n",
       "      <th>19</th>\n",
       "      <td>20</td>\n",
       "      <td>405</td>\n",
       "      <td>1018.808472</td>\n",
       "      <td>4064.890347</td>\n",
       "    </tr>\n",
       "  </tbody>\n",
       "</table>\n",
       "</div>"
      ],
      "text/plain": [
       "     a    b            c            d\n",
       "0    1    6     1.837117     0.311254\n",
       "1    2    9     3.375000     0.775034\n",
       "2    3   14     6.547900     2.094417\n",
       "3    4   21    12.029261     5.215170\n",
       "4    5   30    20.539596    11.635843\n",
       "5    6   41    32.816012    23.498423\n",
       "6    7   54    49.602167    43.667768\n",
       "7    8   69    71.644631    75.802842\n",
       "8    9   86    99.691399   124.421819\n",
       "9   10  105   134.491229   194.962442\n",
       "10  11  126   176.793312   293.838541\n",
       "11  12  149   227.347098   428.493399\n",
       "12  13  174   286.902205   607.450426\n",
       "13  14  201   356.208353   840.361527\n",
       "14  15  230   436.015338  1138.053460\n",
       "15  16  261   527.073005  1512.572409\n",
       "16  17  294   630.131236  1977.226971\n",
       "17  18  329   745.939938  2546.629719\n",
       "18  19  366   875.249036  3236.737464\n",
       "19  20  405  1018.808472  4064.890347"
      ]
     },
     "execution_count": 82,
     "metadata": {},
     "output_type": "execute_result"
    }
   ],
   "source": [
    "df"
   ]
  },
  {
   "cell_type": "code",
   "execution_count": 83,
   "id": "7019e11c",
   "metadata": {
    "ExecuteTime": {
     "end_time": "2022-06-04T08:40:04.443434Z",
     "start_time": "2022-06-04T08:40:04.422420Z"
    }
   },
   "outputs": [],
   "source": [
    "ind = df[[\"a\", \"b\", \"c\"]]"
   ]
  },
  {
   "cell_type": "code",
   "execution_count": 84,
   "id": "5f71286d",
   "metadata": {
    "ExecuteTime": {
     "end_time": "2022-06-04T08:40:06.635061Z",
     "start_time": "2022-06-04T08:40:06.627059Z"
    }
   },
   "outputs": [],
   "source": [
    "dep = df[[\"d\"]]"
   ]
  },
  {
   "cell_type": "code",
   "execution_count": 85,
   "id": "55b0ea54",
   "metadata": {
    "ExecuteTime": {
     "end_time": "2022-06-04T08:40:08.905617Z",
     "start_time": "2022-06-04T08:40:08.346952Z"
    }
   },
   "outputs": [],
   "source": [
    "from sklearn import linear_model"
   ]
  },
  {
   "cell_type": "code",
   "execution_count": 86,
   "id": "51776b2b",
   "metadata": {
    "ExecuteTime": {
     "end_time": "2022-06-04T08:40:10.377159Z",
     "start_time": "2022-06-04T08:40:10.354866Z"
    }
   },
   "outputs": [],
   "source": [
    "reg = linear_model.LinearRegression()"
   ]
  },
  {
   "cell_type": "code",
   "execution_count": 87,
   "id": "aca30f5c",
   "metadata": {
    "ExecuteTime": {
     "end_time": "2022-06-04T08:40:11.421719Z",
     "start_time": "2022-06-04T08:40:11.319748Z"
    }
   },
   "outputs": [
    {
     "data": {
      "text/plain": [
       "LinearRegression()"
      ]
     },
     "execution_count": 87,
     "metadata": {},
     "output_type": "execute_result"
    }
   ],
   "source": [
    "reg.fit(ind, dep)"
   ]
  },
  {
   "cell_type": "code",
   "execution_count": 89,
   "id": "55bac462",
   "metadata": {
    "ExecuteTime": {
     "end_time": "2022-06-04T08:41:49.611350Z",
     "start_time": "2022-06-04T08:41:49.604331Z"
    }
   },
   "outputs": [],
   "source": [
    "df_test = pd.DataFrame({\"a\":[120],\n",
    "                       \"b\":[14405],\n",
    "                       \"c\":[216112.5098]})"
   ]
  },
  {
   "cell_type": "code",
   "execution_count": 90,
   "id": "be20c5e8",
   "metadata": {
    "ExecuteTime": {
     "end_time": "2022-06-04T08:41:54.080342Z",
     "start_time": "2022-06-04T08:41:54.058322Z"
    }
   },
   "outputs": [
    {
     "data": {
      "text/plain": [
       "array([[1939889.87888794]])"
      ]
     },
     "execution_count": 90,
     "metadata": {},
     "output_type": "execute_result"
    }
   ],
   "source": [
    "pred_ln = reg.predict(df_test)\n",
    "\n",
    "pred_ln"
   ]
  },
  {
   "cell_type": "markdown",
   "id": "34e99a55",
   "metadata": {},
   "source": [
    "<h5>LinearRegression prediction result</h5>"
   ]
  },
  {
   "cell_type": "code",
   "execution_count": 92,
   "id": "04428720",
   "metadata": {
    "ExecuteTime": {
     "end_time": "2022-06-04T08:42:15.735527Z",
     "start_time": "2022-06-04T08:42:15.728536Z"
    }
   },
   "outputs": [
    {
     "name": "stdout",
     "output_type": "stream",
     "text": [
      "the accuracy is : [[15.44710874]] %\n"
     ]
    }
   ],
   "source": [
    "print(\"the accuracy is :\", (100 * pred_ln/12558271.66), \"%\")"
   ]
  },
  {
   "cell_type": "markdown",
   "id": "8102ad91",
   "metadata": {},
   "source": [
    "<h5>Polynomial Regression</h5>"
   ]
  },
  {
   "cell_type": "code",
   "execution_count": 99,
   "id": "7c1c0289",
   "metadata": {
    "ExecuteTime": {
     "end_time": "2022-06-04T08:42:46.006869Z",
     "start_time": "2022-06-04T08:42:45.998869Z"
    }
   },
   "outputs": [],
   "source": [
    "import numpy as np\n",
    "import pandas as pd\n",
    "from sklearn.preprocessing import PolynomialFeatures"
   ]
  },
  {
   "cell_type": "code",
   "execution_count": 100,
   "id": "1c3b817c",
   "metadata": {
    "ExecuteTime": {
     "end_time": "2022-06-04T08:42:47.878402Z",
     "start_time": "2022-06-04T08:42:47.870390Z"
    }
   },
   "outputs": [],
   "source": [
    "poly = PolynomialFeatures(degree = 2)"
   ]
  },
  {
   "cell_type": "code",
   "execution_count": 101,
   "id": "c68b8d67",
   "metadata": {
    "ExecuteTime": {
     "end_time": "2022-06-04T08:42:50.026719Z",
     "start_time": "2022-06-04T08:42:50.018705Z"
    }
   },
   "outputs": [],
   "source": [
    "X_poly = poly.fit_transform(ind)"
   ]
  },
  {
   "cell_type": "code",
   "execution_count": 102,
   "id": "124f3a36",
   "metadata": {
    "ExecuteTime": {
     "end_time": "2022-06-04T08:42:51.713416Z",
     "start_time": "2022-06-04T08:42:51.693640Z"
    }
   },
   "outputs": [],
   "source": [
    "y = dep"
   ]
  },
  {
   "cell_type": "code",
   "execution_count": 103,
   "id": "cfad97ae",
   "metadata": {
    "ExecuteTime": {
     "end_time": "2022-06-04T08:42:53.848120Z",
     "start_time": "2022-06-04T08:42:53.828254Z"
    }
   },
   "outputs": [
    {
     "data": {
      "text/plain": [
       "PolynomialFeatures()"
      ]
     },
     "execution_count": 103,
     "metadata": {},
     "output_type": "execute_result"
    }
   ],
   "source": [
    "poly.fit(X_poly, y)"
   ]
  },
  {
   "cell_type": "code",
   "execution_count": 105,
   "id": "353bef17",
   "metadata": {
    "ExecuteTime": {
     "end_time": "2022-06-04T08:43:31.338276Z",
     "start_time": "2022-06-04T08:43:31.331273Z"
    }
   },
   "outputs": [],
   "source": [
    "lin2 = linear_model.LinearRegression()"
   ]
  },
  {
   "cell_type": "code",
   "execution_count": 106,
   "id": "59a459f9",
   "metadata": {
    "ExecuteTime": {
     "end_time": "2022-06-04T08:43:33.135952Z",
     "start_time": "2022-06-04T08:43:33.113895Z"
    }
   },
   "outputs": [
    {
     "data": {
      "text/plain": [
       "LinearRegression()"
      ]
     },
     "execution_count": 106,
     "metadata": {},
     "output_type": "execute_result"
    }
   ],
   "source": [
    "lin2.fit(X_poly, y)"
   ]
  },
  {
   "cell_type": "code",
   "execution_count": 108,
   "id": "a7bf7428",
   "metadata": {
    "ExecuteTime": {
     "end_time": "2022-06-04T08:44:39.643325Z",
     "start_time": "2022-06-04T08:44:39.636322Z"
    }
   },
   "outputs": [],
   "source": [
    "pol_result = lin2.predict(poly.fit_transform(df_test))"
   ]
  },
  {
   "cell_type": "markdown",
   "id": "df9b5bec",
   "metadata": {},
   "source": [
    "<h5>Polynomial Regression Prediction Result</h5>"
   ]
  },
  {
   "cell_type": "code",
   "execution_count": 109,
   "id": "1abb2d48",
   "metadata": {
    "ExecuteTime": {
     "end_time": "2022-06-04T08:45:02.445310Z",
     "start_time": "2022-06-04T08:45:02.440307Z"
    }
   },
   "outputs": [
    {
     "name": "stdout",
     "output_type": "stream",
     "text": [
      "the accuracy is : [[81.65326656]] %\n"
     ]
    }
   ],
   "source": [
    "print(\"the accuracy is :\", pol_result/12558271.66*100, \"%\")"
   ]
  },
  {
   "cell_type": "markdown",
   "id": "5ae70d70",
   "metadata": {},
   "source": [
    "<h2><font color=\"blue\">Conclusion:</font></h2><br><br>\n",
    "It's evident that, with a small dataset, it is better to use polynomial regression for better prediction. However, it needs to be remembered that situation to situation it may vary. So, fathoming the situation, take the leap of prediction! Cheers!"
   ]
  },
  {
   "cell_type": "code",
   "execution_count": null,
   "id": "baafde4d",
   "metadata": {},
   "outputs": [],
   "source": []
  }
 ],
 "metadata": {
  "kernelspec": {
   "display_name": "Python 3 (ipykernel)",
   "language": "python",
   "name": "python3"
  },
  "language_info": {
   "codemirror_mode": {
    "name": "ipython",
    "version": 3
   },
   "file_extension": ".py",
   "mimetype": "text/x-python",
   "name": "python",
   "nbconvert_exporter": "python",
   "pygments_lexer": "ipython3",
   "version": "3.9.7"
  },
  "toc": {
   "base_numbering": 1,
   "nav_menu": {},
   "number_sections": true,
   "sideBar": true,
   "skip_h1_title": false,
   "title_cell": "Table of Contents",
   "title_sidebar": "Contents",
   "toc_cell": false,
   "toc_position": {},
   "toc_section_display": true,
   "toc_window_display": false
  }
 },
 "nbformat": 4,
 "nbformat_minor": 5
}
