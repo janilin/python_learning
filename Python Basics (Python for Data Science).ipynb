{
 "cells": [
  {
   "cell_type": "markdown",
   "id": "ce48b516",
   "metadata": {},
   "source": [
    "# <font color=\"green\">Python for Data Science</font>"
   ]
  },
  {
   "cell_type": "markdown",
   "id": "b147d1ea",
   "metadata": {},
   "source": [
    "<div style=\"text-align: justify\"> This notebook was created during my Python course (online) for Data Science from IBM's online learning platform. It does not cover all the aspects of Python, but, will give you a fundamental idea about how to code in Python, focusing Data Science. Hope it helps you out!</div>\n",
    "\n",
    "[Enroll IBM's **\"Python fo Data Science Course\"**(Free)](https://cognitiveclass.ai/courses/python-for-data-science)"
   ]
  },
  {
   "cell_type": "markdown",
   "id": "6b5e021d",
   "metadata": {},
   "source": [
    "## <font color=\"green\">Contents</font>\n",
    "\n",
    "1. [Start Printing](#Start-Printing)<br>\n",
    "2. [Types](#Types)<br>\n",
    "3. [Expressions, Basic Math, and Variables](#Expressions,-Basic-Math,-and-Variables)<br>\n",
    "4. [String Operations](#String-Operations)<br>\n",
    "    4.1. [Slicing Strings](#Slicing-Strings)<br>\n",
    "    4.2. [Escape Sequences](#Escape-Sequences)<br>\n",
    "    4.3. [String Methods](#String-Methods)<br>\n",
    "5. [Tuples and Lists](#Tuples-and-Lists)<br>\n",
    "    5.1. [Tuples](#Tuples)<br>\n",
    "    5.2. [Nesting](#Nesting)<br>\n",
    "    5.3. [Random](#Random)\n",
    "6. [Sets](#Sets)<br>\n",
    "    6.1. [Set Operation](#Set-Operation)<br>\n",
    "7. [Dictionaries](#Dictionaries)\n",
    "8. [Conditions and Branching](#Conditions-and-Branching)<br>\n",
    "    8.1. [Branching](#Branching)<br>\n",
    "    8.2. [Logic Operators](#Logic-Operators)<br>\n",
    "    8.3. [Boolean Logic Table](#Boolean-Logic-Table)\n",
    "9. [Loops](#Loops)<br>\n",
    "    9.1. [Range](#Range)<br>\n",
    "    9.2. [For Loops](#For-Loops)<br>\n",
    "    9.3. [While Loops](#While-Loops)<br>\n",
    "10. [Functions](#Functions)<br>\n",
    "    10.1. [Sorted](#Sorted)<br>\n",
    "    10.2. [Sort](#Sort)<br>\n",
    "    10.3. [Making Function](#Making-Function)<br>\n",
    "    10.4. [Using Loops in Function](#Using-Loops-in-Function)<br>\n",
    "    10.5. [Variadic Parameters](#Variadic-Parameters)<br>\n",
    "    10.6. [Scope](#Scope)<br>\n",
    "    10.7. [Pass Statement](#Pass-Statement)<br>\n",
    "11. [Objects and Classes](#Objects-and-Classes)<br>\n",
    "    11.1  [Glimpse of Matplotlib (Elementary Concept of Data Visualization)](#Glimpse-of-Matplotlib)\n",
    "12. [Reading Files with Open](#Reading-Files-with-Open)<br>\n",
    "13. [Writing Files with Open](#Writing-Files-with-Open)<br>\n",
    "14. [Loading Data with Pandas](#Loading-Data-with-Pandas)<br>\n",
    "15. [Numpy 1D Array](#Numpy-1D-Array)<br>\n",
    "16. [Numpy 2D Array](#Numpy-2D-Array)<br>"
   ]
  },
  {
   "cell_type": "markdown",
   "id": "be88d25c",
   "metadata": {},
   "source": [
    "<h3><font color=blue>Start Printing</h3>\n"
   ]
  },
  {
   "cell_type": "code",
   "execution_count": 1,
   "id": "6dc534eb",
   "metadata": {},
   "outputs": [
    {
     "name": "stdout",
     "output_type": "stream",
     "text": [
      "Hello python 101\n"
     ]
    }
   ],
   "source": [
    "# print Hello Python 101\n",
    "print(\"Hello python 101\")"
   ]
  },
  {
   "cell_type": "markdown",
   "id": "5d8dbc89",
   "metadata": {},
   "source": [
    "<h3><font color=blue>Types</h3>"
   ]
  },
  {
   "cell_type": "markdown",
   "id": "b3ecdc25",
   "metadata": {},
   "source": [
    "<b>Data or Element Checking:</b> using <b>type()</b> function, data or element can be checked."
   ]
  },
  {
   "cell_type": "code",
   "execution_count": 6,
   "id": "d1191195",
   "metadata": {},
   "outputs": [
    {
     "data": {
      "text/plain": [
       "str"
      ]
     },
     "execution_count": 6,
     "metadata": {},
     "output_type": "execute_result"
    }
   ],
   "source": [
    "type(\"Rony\")"
   ]
  },
  {
   "cell_type": "code",
   "execution_count": 10,
   "id": "9bf35bc6",
   "metadata": {},
   "outputs": [
    {
     "data": {
      "text/plain": [
       "float"
      ]
     },
     "execution_count": 10,
     "metadata": {},
     "output_type": "execute_result"
    }
   ],
   "source": [
    "type(21.213)"
   ]
  },
  {
   "cell_type": "code",
   "execution_count": 11,
   "id": "6850bbad",
   "metadata": {},
   "outputs": [
    {
     "data": {
      "text/plain": [
       "str"
      ]
     },
     "execution_count": 11,
     "metadata": {},
     "output_type": "execute_result"
    }
   ],
   "source": [
    "type(\"Hellp Pytohn 101\")"
   ]
  },
  {
   "cell_type": "markdown",
   "id": "ca6ba2ab",
   "metadata": {},
   "source": [
    "<b> Typecasting:</b> converting the elements."
   ]
  },
  {
   "cell_type": "code",
   "execution_count": 12,
   "id": "da0b8637",
   "metadata": {},
   "outputs": [
    {
     "data": {
      "text/plain": [
       "2.0"
      ]
     },
     "execution_count": 12,
     "metadata": {},
     "output_type": "execute_result"
    }
   ],
   "source": [
    "float(2)  # converting an int into float"
   ]
  },
  {
   "cell_type": "code",
   "execution_count": 13,
   "id": "bd8b7f1d",
   "metadata": {},
   "outputs": [
    {
     "data": {
      "text/plain": [
       "1"
      ]
     },
     "execution_count": 13,
     "metadata": {},
     "output_type": "execute_result"
    }
   ],
   "source": [
    "int(1.4)  # converting a float into int"
   ]
  },
  {
   "cell_type": "code",
   "execution_count": 14,
   "id": "7d68e6a6",
   "metadata": {},
   "outputs": [
    {
     "data": {
      "text/plain": [
       "'3'"
      ]
     },
     "execution_count": 14,
     "metadata": {},
     "output_type": "execute_result"
    }
   ],
   "source": [
    "str(3)    # converting an int into str"
   ]
  },
  {
   "cell_type": "markdown",
   "id": "37c03451",
   "metadata": {},
   "source": [
    "<b> Boolean:</b> in Python, it's expressed as <b>True</b> and <b>False</b>."
   ]
  },
  {
   "cell_type": "code",
   "execution_count": 20,
   "id": "62646663",
   "metadata": {},
   "outputs": [
    {
     "data": {
      "text/plain": [
       "bool"
      ]
     },
     "execution_count": 20,
     "metadata": {},
     "output_type": "execute_result"
    }
   ],
   "source": [
    "type(True)"
   ]
  },
  {
   "cell_type": "code",
   "execution_count": 21,
   "id": "c5940024",
   "metadata": {},
   "outputs": [
    {
     "data": {
      "text/plain": [
       "1.0"
      ]
     },
     "execution_count": 21,
     "metadata": {},
     "output_type": "execute_result"
    }
   ],
   "source": [
    "float(True)  # converting bool into int"
   ]
  },
  {
   "cell_type": "code",
   "execution_count": 22,
   "id": "85c8efdf",
   "metadata": {},
   "outputs": [
    {
     "data": {
      "text/plain": [
       "0.0"
      ]
     },
     "execution_count": 22,
     "metadata": {},
     "output_type": "execute_result"
    }
   ],
   "source": [
    "float(False) # converting bool into int"
   ]
  },
  {
   "cell_type": "code",
   "execution_count": 23,
   "id": "629f5abf",
   "metadata": {},
   "outputs": [
    {
     "data": {
      "text/plain": [
       "True"
      ]
     },
     "execution_count": 23,
     "metadata": {},
     "output_type": "execute_result"
    }
   ],
   "source": [
    "bool(1)  # converting int into bool"
   ]
  },
  {
   "cell_type": "code",
   "execution_count": 24,
   "id": "4b2fb00a",
   "metadata": {},
   "outputs": [
    {
     "data": {
      "text/plain": [
       "False"
      ]
     },
     "execution_count": 24,
     "metadata": {},
     "output_type": "execute_result"
    }
   ],
   "source": [
    "bool(0)  # converting int into bool"
   ]
  },
  {
   "cell_type": "markdown",
   "id": "be687f5c",
   "metadata": {},
   "source": [
    "<b>Value of an Alphabet</b>"
   ]
  },
  {
   "cell_type": "code",
   "execution_count": 12,
   "id": "e177e985",
   "metadata": {},
   "outputs": [
    {
     "data": {
      "text/plain": [
       "122"
      ]
     },
     "execution_count": 12,
     "metadata": {},
     "output_type": "execute_result"
    }
   ],
   "source": [
    "ord(\"z\")   # shows Unicode value"
   ]
  },
  {
   "cell_type": "markdown",
   "id": "02006b7f",
   "metadata": {},
   "source": [
    "<h3><font color=blue>Expressions, Basic Math, and Variables</font></h3>"
   ]
  },
  {
   "cell_type": "code",
   "execution_count": 33,
   "id": "fcd61a87",
   "metadata": {},
   "outputs": [
    {
     "data": {
      "text/plain": [
       "162"
      ]
     },
     "execution_count": 33,
     "metadata": {},
     "output_type": "execute_result"
    }
   ],
   "source": [
    "# addition\n",
    "43+60+16+43  # The number are operands, maths symbols are operators."
   ]
  },
  {
   "cell_type": "code",
   "execution_count": 34,
   "id": "499429c7",
   "metadata": {},
   "outputs": [
    {
     "data": {
      "text/plain": [
       "-21"
      ]
     },
     "execution_count": 34,
     "metadata": {},
     "output_type": "execute_result"
    }
   ],
   "source": [
    "# subtraction\n",
    "45-66"
   ]
  },
  {
   "cell_type": "code",
   "execution_count": 35,
   "id": "a5537c83",
   "metadata": {},
   "outputs": [
    {
     "data": {
      "text/plain": [
       "448"
      ]
     },
     "execution_count": 35,
     "metadata": {},
     "output_type": "execute_result"
    }
   ],
   "source": [
    "# multiplication\n",
    "14*32"
   ]
  },
  {
   "cell_type": "code",
   "execution_count": 40,
   "id": "e23ed947",
   "metadata": {},
   "outputs": [
    {
     "data": {
      "text/plain": [
       "202.0"
      ]
     },
     "execution_count": 40,
     "metadata": {},
     "output_type": "execute_result"
    }
   ],
   "source": [
    "# division\n",
    "3434/17"
   ]
  },
  {
   "cell_type": "code",
   "execution_count": 43,
   "id": "ca003a0b",
   "metadata": {},
   "outputs": [
    {
     "data": {
      "text/plain": [
       "101"
      ]
     },
     "execution_count": 43,
     "metadata": {},
     "output_type": "execute_result"
    }
   ],
   "source": [
    "# integer division. The remainder is omitted.\n",
    "712//7"
   ]
  },
  {
   "cell_type": "code",
   "execution_count": 46,
   "id": "2cbc1b17",
   "metadata": {},
   "outputs": [
    {
     "data": {
      "text/plain": [
       "3"
      ]
     },
     "execution_count": 46,
     "metadata": {},
     "output_type": "execute_result"
    }
   ],
   "source": [
    "# modulo operation, only remainder is shown as output.\n",
    "27%8"
   ]
  },
  {
   "cell_type": "code",
   "execution_count": 41,
   "id": "161f844d",
   "metadata": {},
   "outputs": [
    {
     "data": {
      "text/plain": [
       "16"
      ]
     },
     "execution_count": 41,
     "metadata": {},
     "output_type": "execute_result"
    }
   ],
   "source": [
    "# exponential\n",
    "2**4"
   ]
  },
  {
   "cell_type": "code",
   "execution_count": 47,
   "id": "aa7b16bb",
   "metadata": {},
   "outputs": [
    {
     "data": {
      "text/plain": [
       "24.0"
      ]
     },
     "execution_count": 47,
     "metadata": {},
     "output_type": "execute_result"
    }
   ],
   "source": [
    "# regular mathematical operation\n",
    "144/(8+7-3)*2"
   ]
  },
  {
   "cell_type": "code",
   "execution_count": 49,
   "id": "a0260169",
   "metadata": {},
   "outputs": [
    {
     "name": "stdout",
     "output_type": "stream",
     "text": [
      "1\n"
     ]
    }
   ],
   "source": [
    "a=1  # assigning variable a's value as 1\n",
    "print(a)"
   ]
  },
  {
   "cell_type": "code",
   "execution_count": 58,
   "id": "df2688ad",
   "metadata": {},
   "outputs": [
    {
     "name": "stdout",
     "output_type": "stream",
     "text": [
      "11\n"
     ]
    }
   ],
   "source": [
    "a=11 # assigning new avlue to a\n",
    "print(a)"
   ]
  },
  {
   "cell_type": "code",
   "execution_count": 60,
   "id": "8fc826f1",
   "metadata": {},
   "outputs": [
    {
     "name": "stdout",
     "output_type": "stream",
     "text": [
      "89\n"
     ]
    }
   ],
   "source": [
    "x=21+23+45  # storing the expression's result into an element\n",
    "print(x)"
   ]
  },
  {
   "cell_type": "code",
   "execution_count": 61,
   "id": "9eccd6a7",
   "metadata": {},
   "outputs": [
    {
     "name": "stdout",
     "output_type": "stream",
     "text": [
      "30.0\n"
     ]
    }
   ],
   "source": [
    "y=(x+1)/3  # calculating with x's values for y\n",
    "print(y)"
   ]
  },
  {
   "cell_type": "code",
   "execution_count": 63,
   "id": "4d49bdf3",
   "metadata": {},
   "outputs": [
    {
     "name": "stdout",
     "output_type": "stream",
     "text": [
      "15.0\n"
     ]
    }
   ],
   "source": [
    "x=(x+1)/6  # making calculation with x and storing the new value to x\n",
    "print(x)"
   ]
  },
  {
   "cell_type": "markdown",
   "id": "0e732eaa",
   "metadata": {},
   "source": [
    "<h3><font color=blue>String Operations</font></h3>"
   ]
  },
  {
   "cell_type": "code",
   "execution_count": 66,
   "id": "92fd6e9d",
   "metadata": {},
   "outputs": [
    {
     "data": {
      "text/plain": [
       "'S'"
      ]
     },
     "execution_count": 66,
     "metadata": {},
     "output_type": "execute_result"
    }
   ],
   "source": [
    "string=\"Data Science\" # this string has 12 indexes, starts from D as 0\n",
    "string[5]  # printing the 5th index from the string"
   ]
  },
  {
   "cell_type": "code",
   "execution_count": 71,
   "id": "4ebc797e",
   "metadata": {},
   "outputs": [
    {
     "data": {
      "text/plain": [
       "'D'"
      ]
     },
     "execution_count": 71,
     "metadata": {},
     "output_type": "execute_result"
    }
   ],
   "source": [
    "# The string has 0 to 11 index value. The first, D is noted as 0 or -11\n",
    "string[-12]  # printing -11th index, from the last"
   ]
  },
  {
   "cell_type": "markdown",
   "id": "5ef04468",
   "metadata": {},
   "source": [
    "<h4>Slicing Strings</h4>"
   ]
  },
  {
   "cell_type": "code",
   "execution_count": 10,
   "id": "177e3d15",
   "metadata": {},
   "outputs": [
    {
     "data": {
      "text/plain": [
       "'Jack'"
      ]
     },
     "execution_count": 10,
     "metadata": {},
     "output_type": "execute_result"
    }
   ],
   "source": [
    "name=\"Michael Jackson\"  # assigning \"Michael Jackson\" to name\n",
    "name[8:12]  # printing 8th to 12th indexes, starting from 0"
   ]
  },
  {
   "cell_type": "markdown",
   "id": "3f37ce43",
   "metadata": {},
   "source": [
    "<h4>Stride Strings</h4>"
   ]
  },
  {
   "cell_type": "code",
   "execution_count": 73,
   "id": "ed4c904a",
   "metadata": {},
   "outputs": [
    {
     "data": {
      "text/plain": [
       "'McalJcsn'"
      ]
     },
     "execution_count": 73,
     "metadata": {},
     "output_type": "execute_result"
    }
   ],
   "source": [
    "name=\"Michael Jackson\"\n",
    "name[ : : 2]  # selecting every index values with 1 interval"
   ]
  },
  {
   "cell_type": "code",
   "execution_count": 74,
   "id": "e7dd097a",
   "metadata": {},
   "outputs": [
    {
     "data": {
      "text/plain": [
       "'Mca'"
      ]
     },
     "execution_count": 74,
     "metadata": {},
     "output_type": "execute_result"
    }
   ],
   "source": [
    "name=\"Michael Jackson\"\n",
    "name[0:5:2]  # starts at 0 index, and ends at 5th index, with 1 interval"
   ]
  },
  {
   "cell_type": "code",
   "execution_count": 76,
   "id": "4fae130c",
   "metadata": {},
   "outputs": [
    {
     "data": {
      "text/plain": [
       "15"
      ]
     },
     "execution_count": 76,
     "metadata": {},
     "output_type": "execute_result"
    }
   ],
   "source": [
    "name=\"Michael Jackson\"\n",
    "len(name)  # shows the length of the string"
   ]
  },
  {
   "cell_type": "code",
   "execution_count": 78,
   "id": "2589ab52",
   "metadata": {},
   "outputs": [
    {
     "name": "stdout",
     "output_type": "stream",
     "text": [
      "Michael Jackson is a great performer.\n"
     ]
    }
   ],
   "source": [
    "print(name+ \" is a great performer.\")  # concatenation"
   ]
  },
  {
   "cell_type": "code",
   "execution_count": 79,
   "id": "f895f4b9",
   "metadata": {},
   "outputs": [
    {
     "name": "stdout",
     "output_type": "stream",
     "text": [
      "Michael Jackson is an American\n"
     ]
    }
   ],
   "source": [
    "statement=name + \" is an American\"  # concatenates and stores data\n",
    "print(statement)"
   ]
  },
  {
   "cell_type": "code",
   "execution_count": 81,
   "id": "324a1dbb",
   "metadata": {},
   "outputs": [
    {
     "data": {
      "text/plain": [
       "' Zen  Zen  Zen '"
      ]
     },
     "execution_count": 81,
     "metadata": {},
     "output_type": "execute_result"
    }
   ],
   "source": [
    "3 * \" Zen \" # prints 3 times. NB: other operations don't work"
   ]
  },
  {
   "cell_type": "code",
   "execution_count": 13,
   "id": "1db213d8",
   "metadata": {},
   "outputs": [],
   "source": [
    "name = \"rony\""
   ]
  },
  {
   "cell_type": "code",
   "execution_count": 18,
   "id": "7ad3784d",
   "metadata": {},
   "outputs": [
    {
     "data": {
      "text/plain": [
       "'RONY'"
      ]
     },
     "execution_count": 18,
     "metadata": {},
     "output_type": "execute_result"
    }
   ],
   "source": [
    "name.upper()"
   ]
  },
  {
   "cell_type": "markdown",
   "id": "3836a163",
   "metadata": {},
   "source": [
    "<h4>Escape Sequences</h4>"
   ]
  },
  {
   "cell_type": "code",
   "execution_count": 92,
   "id": "bf688c79",
   "metadata": {},
   "outputs": [
    {
     "name": "stdout",
     "output_type": "stream",
     "text": [
      "Janilin Bappi \n",
      " Wu Shoaei Seing\n"
     ]
    }
   ],
   "source": [
    "print(\"Janilin Bappi \\n Wu Shoaei Seing\")  # \\n starts a new line"
   ]
  },
  {
   "cell_type": "code",
   "execution_count": 97,
   "id": "d233b10f",
   "metadata": {},
   "outputs": [
    {
     "name": "stdout",
     "output_type": "stream",
     "text": [
      "Janilin Bappi \t Wu Shoaei Seing\n"
     ]
    }
   ],
   "source": [
    "print(\"Janilin Bappi \\t Wu Shoaei Seing\")  # \\t places a tab"
   ]
  },
  {
   "cell_type": "markdown",
   "id": "870f6d46",
   "metadata": {},
   "source": [
    "<h4>String Methods</h4>"
   ]
  },
  {
   "cell_type": "code",
   "execution_count": 98,
   "id": "128bf8da",
   "metadata": {},
   "outputs": [
    {
     "name": "stdout",
     "output_type": "stream",
     "text": [
      "JANILIN\n"
     ]
    }
   ],
   "source": [
    "A=\"janilin\"  # setting value as \"janilin\" into A\n",
    "B=A.upper()  # conveting string into all upper case and storing into B\n",
    "\n",
    "print(B)"
   ]
  },
  {
   "cell_type": "code",
   "execution_count": 99,
   "id": "8c6b35f1",
   "metadata": {},
   "outputs": [
    {
     "name": "stdout",
     "output_type": "stream",
     "text": [
      "zen\n"
     ]
    }
   ],
   "source": [
    "AA=\"ZEN\"  # seting value as \"ZEN\" into AA\n",
    "BB=AA.lower() # converting string into all lower case and storing into BB\n",
    "\n",
    "print(BB)"
   ]
  },
  {
   "cell_type": "code",
   "execution_count": 100,
   "id": "28b093a4",
   "metadata": {},
   "outputs": [
    {
     "name": "stdout",
     "output_type": "stream",
     "text": [
      "I am 31 years old.\n"
     ]
    }
   ],
   "source": [
    "# Replacing certain part of the string or text.\n",
    "A=\"I am 30 years old.\"  # setting value\n",
    "B=A.replace(\"30\", \"31\") # first the existing value, then the new value\n",
    "print(B)"
   ]
  },
  {
   "cell_type": "code",
   "execution_count": 102,
   "id": "8a30634e",
   "metadata": {},
   "outputs": [
    {
     "data": {
      "text/plain": [
       "30"
      ]
     },
     "execution_count": 102,
     "metadata": {},
     "output_type": "execute_result"
    }
   ],
   "source": [
    "my_name=\"Janilin Bappi Wu Shoaei Seing Zen\"  # setting value\n",
    "my_name.find(\"Zen\") # finding the following portion's position in the string"
   ]
  },
  {
   "cell_type": "code",
   "execution_count": 103,
   "id": "7a934cf5",
   "metadata": {},
   "outputs": [
    {
     "data": {
      "text/plain": [
       "-1"
      ]
     },
     "execution_count": 103,
     "metadata": {},
     "output_type": "execute_result"
    }
   ],
   "source": [
    "my_name=\"Janilin Bappi Wu Shoaei Seing Zen\"\n",
    "my_name.find(\"Zack\")  # trying to find something that isn't in the string"
   ]
  },
  {
   "cell_type": "code",
   "execution_count": 8,
   "id": "e6aafb46",
   "metadata": {},
   "outputs": [
    {
     "data": {
      "text/plain": [
       "'HELLO'"
      ]
     },
     "execution_count": 8,
     "metadata": {},
     "output_type": "execute_result"
    }
   ],
   "source": [
    "myvar=\"hello\"\n",
    "myvar.upper()"
   ]
  },
  {
   "cell_type": "code",
   "execution_count": 53,
   "id": "6ea7bc3c",
   "metadata": {},
   "outputs": [
    {
     "data": {
      "text/plain": [
       "'My Name Is Janilin Wu Shoaei Seing Bappi'"
      ]
     },
     "execution_count": 53,
     "metadata": {},
     "output_type": "execute_result"
    }
   ],
   "source": [
    "A=\"my name is janilin wu shoaei seing bappi\"\n",
    "\n",
    "A.title()  # sets all the words' first letter to capital"
   ]
  },
  {
   "cell_type": "markdown",
   "id": "dcfa3926",
   "metadata": {},
   "source": [
    "<h3><font color=blue>Tuples and Lists"
   ]
  },
  {
   "cell_type": "markdown",
   "id": "2ef9e780",
   "metadata": {},
   "source": [
    "<h4>Tuples</h4> <br>\n",
    "They are ordered sequence."
   ]
  },
  {
   "cell_type": "code",
   "execution_count": 19,
   "id": "fd4f9121",
   "metadata": {},
   "outputs": [
    {
     "data": {
      "text/plain": [
       "tuple"
      ]
     },
     "execution_count": 19,
     "metadata": {},
     "output_type": "execute_result"
    }
   ],
   "source": [
    "ratings=(10,9,6,5,10,8,9,6,2) # comma separated elements within parentheses\n",
    "type(ratings)"
   ]
  },
  {
   "cell_type": "code",
   "execution_count": 16,
   "id": "5bfb7e94",
   "metadata": {},
   "outputs": [
    {
     "data": {
      "text/plain": [
       "tuple"
      ]
     },
     "execution_count": 16,
     "metadata": {},
     "output_type": "execute_result"
    }
   ],
   "source": [
    "\"disco\" # str element\n",
    "10  # int element\n",
    "1.2 # float element\n",
    "\n",
    "tuple1=(\"disco\", 10, 1.2) # creating a tuple using str, int, and float\n",
    "\n",
    "type(tuple1)  # checking data type"
   ]
  },
  {
   "cell_type": "code",
   "execution_count": 17,
   "id": "ec9e2a8e",
   "metadata": {},
   "outputs": [
    {
     "data": {
      "text/plain": [
       "'disco'"
      ]
     },
     "execution_count": 17,
     "metadata": {},
     "output_type": "execute_result"
    }
   ],
   "source": [
    "tuple1[0]  # extracting the 1st index from the tuple"
   ]
  },
  {
   "cell_type": "code",
   "execution_count": 21,
   "id": "3fb042d4",
   "metadata": {},
   "outputs": [
    {
     "data": {
      "text/plain": [
       "10"
      ]
     },
     "execution_count": 21,
     "metadata": {},
     "output_type": "execute_result"
    }
   ],
   "source": [
    "tuple1[1]   # extracting the 2nd index from the tuple"
   ]
  },
  {
   "cell_type": "code",
   "execution_count": 22,
   "id": "03a80a10",
   "metadata": {},
   "outputs": [
    {
     "data": {
      "text/plain": [
       "1.2"
      ]
     },
     "execution_count": 22,
     "metadata": {},
     "output_type": "execute_result"
    }
   ],
   "source": [
    "tuple1[2]   # extracting the 3rd index from the tuple"
   ]
  },
  {
   "cell_type": "code",
   "execution_count": 27,
   "id": "f84c04a1",
   "metadata": {},
   "outputs": [
    {
     "data": {
      "text/plain": [
       "'disco'"
      ]
     },
     "execution_count": 27,
     "metadata": {},
     "output_type": "execute_result"
    }
   ],
   "source": [
    "# again, like other indexings, it also contains negative values\n",
    "tuple1[-3]"
   ]
  },
  {
   "cell_type": "code",
   "execution_count": 29,
   "id": "e991ad49",
   "metadata": {},
   "outputs": [
    {
     "name": "stdout",
     "output_type": "stream",
     "text": [
      "('disco', 10, 1.2, 'hard rock', 10)\n"
     ]
    }
   ],
   "source": [
    "# concatenate tuple\n",
    "\n",
    "tuple2=tuple1+(\"hard rock\", 10)  # creating new tuple\n",
    "\n",
    "print(tuple2)"
   ]
  },
  {
   "cell_type": "code",
   "execution_count": 69,
   "id": "a74a4f14",
   "metadata": {},
   "outputs": [
    {
     "data": {
      "text/plain": [
       "('disco', 10, 1.2)"
      ]
     },
     "execution_count": 69,
     "metadata": {},
     "output_type": "execute_result"
    }
   ],
   "source": [
    "tuple2[0:3]  # extracting tuple2's 1st to 4th index, starting from 0"
   ]
  },
  {
   "cell_type": "code",
   "execution_count": 34,
   "id": "ead3cfe9",
   "metadata": {},
   "outputs": [
    {
     "data": {
      "text/plain": [
       "('disco', 10, 1.2)"
      ]
     },
     "execution_count": 34,
     "metadata": {},
     "output_type": "execute_result"
    }
   ],
   "source": [
    "tuple2[-5:-2] # extracting same elements using negative signs"
   ]
  },
  {
   "cell_type": "code",
   "execution_count": 35,
   "id": "31dd4709",
   "metadata": {},
   "outputs": [
    {
     "data": {
      "text/plain": [
       "5"
      ]
     },
     "execution_count": 35,
     "metadata": {},
     "output_type": "execute_result"
    }
   ],
   "source": [
    "len(tuple2)  # shoes the length of tuple"
   ]
  },
  {
   "cell_type": "code",
   "execution_count": 36,
   "id": "9cf60738",
   "metadata": {},
   "outputs": [
    {
     "data": {
      "text/plain": [
       "10"
      ]
     },
     "execution_count": 36,
     "metadata": {},
     "output_type": "execute_result"
    }
   ],
   "source": [
    "len((2,4,5,\"z\",12.3,34,34,5,\"e\",\"n\"))  # shows tuple length"
   ]
  },
  {
   "cell_type": "markdown",
   "id": "fda99980",
   "metadata": {},
   "source": [
    "<b>Tuples</b> are immutable, which means, they cannot be changed. In this case, select the desired elements and define it to a new tuple. In tuples, elements lie within parenthesis ()."
   ]
  },
  {
   "cell_type": "code",
   "execution_count": 61,
   "id": "aec2e9d2",
   "metadata": {},
   "outputs": [
    {
     "data": {
      "text/plain": [
       "(10, 9, 6, 5, 10, 8, 9, 6, 2)"
      ]
     },
     "execution_count": 61,
     "metadata": {},
     "output_type": "execute_result"
    }
   ],
   "source": [
    "ratings  # viewing the elements of ratings tuple"
   ]
  },
  {
   "cell_type": "code",
   "execution_count": 60,
   "id": "16ee080f",
   "metadata": {},
   "outputs": [
    {
     "data": {
      "text/plain": [
       "[2, 5, 6, 6, 8, 9, 9, 10, 10]"
      ]
     },
     "execution_count": 60,
     "metadata": {},
     "output_type": "execute_result"
    }
   ],
   "source": [
    "# sorting the order of \"ratings\" tuple, we can use sorted() function.\n",
    "# after sorting, we have to assign the value to a new tuple.\n",
    "\n",
    "ratings_sorted=sorted(ratings)\n",
    "\n",
    "ratings_sorted"
   ]
  },
  {
   "cell_type": "code",
   "execution_count": 59,
   "id": "87ae118a",
   "metadata": {},
   "outputs": [
    {
     "data": {
      "text/plain": [
       "[1, 2, 3, 4, 5, 6, 7, 8, 9]"
      ]
     },
     "execution_count": 59,
     "metadata": {},
     "output_type": "execute_result"
    }
   ],
   "source": [
    "# however, the following technique could be used for sorting.\n",
    "\n",
    "zen=(3,2,1,4,5,6,9,8,7)\n",
    "zen=sorted(zen)\n",
    "\n",
    "zen"
   ]
  },
  {
   "cell_type": "markdown",
   "id": "1cf15e0e",
   "metadata": {},
   "source": [
    "<h4>Nesting</h4> \n",
    "\n",
    "Tuples within tuple"
   ]
  },
  {
   "cell_type": "code",
   "execution_count": 56,
   "id": "924b4570",
   "metadata": {},
   "outputs": [
    {
     "name": "stdout",
     "output_type": "stream",
     "text": [
      "('pop', 'rock')\n"
     ]
    }
   ],
   "source": [
    "NT=(1, 2, (\"pop\", \"rock\"), (3,4), (\"disco\", (1,2)))\n",
    "print(NT[2])  # printing 3rd index elements from the tuple "
   ]
  },
  {
   "cell_type": "code",
   "execution_count": 58,
   "id": "3a759d92",
   "metadata": {},
   "outputs": [
    {
     "data": {
      "text/plain": [
       "'rock'"
      ]
     },
     "execution_count": 58,
     "metadata": {},
     "output_type": "execute_result"
    }
   ],
   "source": [
    "NT[2][1]  # printing 3rd inde's 2nd element from the tuple\n",
    "                 # extracting tuple index from the tuple"
   ]
  },
  {
   "cell_type": "code",
   "execution_count": 64,
   "id": "503dcbc7",
   "metadata": {},
   "outputs": [
    {
     "data": {
      "text/plain": [
       "'zen'"
      ]
     },
     "execution_count": 64,
     "metadata": {},
     "output_type": "execute_result"
    }
   ],
   "source": [
    "exp=(1,2,(\"a\", (\"x\", 3, \"y\", \"zen\"), \"b\", \"c\"), 5.5) # 2nd degree nesting\n",
    "\n",
    "exp[2][1][3]"
   ]
  },
  {
   "cell_type": "markdown",
   "id": "a4c6616f",
   "metadata": {},
   "source": [
    "<b>List:</b> List is like tuple, but is mutable. The elements of list lie within squared brackets []. "
   ]
  },
  {
   "cell_type": "code",
   "execution_count": 66,
   "id": "20786126",
   "metadata": {},
   "outputs": [
    {
     "data": {
      "text/plain": [
       "10.1"
      ]
     },
     "execution_count": 66,
     "metadata": {},
     "output_type": "execute_result"
    }
   ],
   "source": [
    "L=[\"Michael  Jakson\", 10.1, 1982]  # creating a list\n",
    "\n",
    "L[-2]  # indexing is likewise to tuple"
   ]
  },
  {
   "cell_type": "code",
   "execution_count": 1,
   "id": "2e22aeec",
   "metadata": {},
   "outputs": [],
   "source": [
    "# creating a list from 1 to 101\n",
    "ex_list = list(range(1, 101))   "
   ]
  },
  {
   "cell_type": "code",
   "execution_count": 5,
   "id": "d0fa2797",
   "metadata": {},
   "outputs": [
    {
     "data": {
      "text/plain": [
       "list"
      ]
     },
     "execution_count": 5,
     "metadata": {},
     "output_type": "execute_result"
    }
   ],
   "source": [
    "type(ex_list)"
   ]
  },
  {
   "cell_type": "code",
   "execution_count": 68,
   "id": "008cddce",
   "metadata": {},
   "outputs": [
    {
     "data": {
      "text/plain": [
       "['Michael  Jakson', 10.1]"
      ]
     },
     "execution_count": 68,
     "metadata": {},
     "output_type": "execute_result"
    }
   ],
   "source": [
    "L[0:2]  # strarts from 0, till 2nd index"
   ]
  },
  {
   "cell_type": "code",
   "execution_count": 71,
   "id": "20cc1122",
   "metadata": {},
   "outputs": [
    {
     "data": {
      "text/plain": [
       "['Michael  Jakson', 10.1, 1982, 'pop', 10, 'pop', 10]"
      ]
     },
     "execution_count": 71,
     "metadata": {},
     "output_type": "execute_result"
    }
   ],
   "source": [
    "# concatenate or extending list requires .etend() function\n",
    "# in .extend() function, elements are considered as seperate\n",
    "L.extend([\"pop\", 10])\n",
    "\n",
    "L"
   ]
  },
  {
   "cell_type": "code",
   "execution_count": 72,
   "id": "a4084a3d",
   "metadata": {},
   "outputs": [
    {
     "data": {
      "text/plain": [
       "['Michael  Jakson', 10.1, 1982, 'pop', 10, 'pop', 10, ['zen', 3, 6, 9]]"
      ]
     },
     "execution_count": 72,
     "metadata": {},
     "output_type": "execute_result"
    }
   ],
   "source": [
    "# in .append() function, elements are considered as one, like a whole\n",
    "L.append([\"zen\", 3, 6, 9])\n",
    "\n",
    "L"
   ]
  },
  {
   "cell_type": "code",
   "execution_count": 74,
   "id": "35d41d03",
   "metadata": {},
   "outputs": [
    {
     "data": {
      "text/plain": [
       "['Dream Theatre', 10.1, 1982, 'pop', 10, 'pop', 10, ['zen', 3, 6, 9]]"
      ]
     },
     "execution_count": 74,
     "metadata": {},
     "output_type": "execute_result"
    }
   ],
   "source": [
    "# lists are mutable, and elements are replacable\n",
    "L[0]=\"Dream Theatre\"  # replacing \"Michaed Jackson\" with \"Dream Theatre\"\n",
    "\n",
    "L"
   ]
  },
  {
   "cell_type": "code",
   "execution_count": 76,
   "id": "d7c29c9f",
   "metadata": {},
   "outputs": [
    {
     "data": {
      "text/plain": [
       "['Dream Theatre', 10.1, 1982, 10, 'pop', 10, ['zen', 3, 6, 9]]"
      ]
     },
     "execution_count": 76,
     "metadata": {},
     "output_type": "execute_result"
    }
   ],
   "source": [
    "# del() function deletes as instructd\n",
    "del(L[3])\n",
    "\n",
    "L"
   ]
  },
  {
   "cell_type": "code",
   "execution_count": 79,
   "id": "6478c983",
   "metadata": {},
   "outputs": [
    {
     "data": {
      "text/plain": [
       "['Janilin', 'Wu', 'Shoaei', 'Seing', 'Bappi', '(Zen)']"
      ]
     },
     "execution_count": 79,
     "metadata": {},
     "output_type": "execute_result"
    }
   ],
   "source": [
    "# .split() helpt to convert into list from string\n",
    "\"Janilin Wu Shoaei Seing Bappi (Zen)\".split()"
   ]
  },
  {
   "cell_type": "code",
   "execution_count": 80,
   "id": "8c8689e5",
   "metadata": {},
   "outputs": [
    {
     "data": {
      "text/plain": [
       "['Jackson', 'Thowain', 'Shoaei', 'Seing']"
      ]
     },
     "execution_count": 80,
     "metadata": {},
     "output_type": "execute_result"
    }
   ],
   "source": [
    "\"Jackson,Thowain,Shoaei,Seing\".split(\",\") # setting delimiter \",\" to split"
   ]
  },
  {
   "cell_type": "code",
   "execution_count": 89,
   "id": "34eed1cf",
   "metadata": {},
   "outputs": [
    {
     "data": {
      "text/plain": [
       "[1, 2, 3, 4]"
      ]
     },
     "execution_count": 89,
     "metadata": {},
     "output_type": "execute_result"
    }
   ],
   "source": [
    "# Aliasing (Alias)\n",
    "X=[1,2,3,4]  # creating a list\n",
    "Y=X  # akiasing Y to X\n",
    "\n",
    "Y"
   ]
  },
  {
   "cell_type": "code",
   "execution_count": 93,
   "id": "814ab734",
   "metadata": {},
   "outputs": [
    {
     "data": {
      "text/plain": [
       "[1, 2, 3]"
      ]
     },
     "execution_count": 93,
     "metadata": {},
     "output_type": "execute_result"
    }
   ],
   "source": [
    "del(X[3])  # deleting 4th element from X's list\n",
    "\n",
    "X"
   ]
  },
  {
   "cell_type": "code",
   "execution_count": 94,
   "id": "1f5aff3c",
   "metadata": {},
   "outputs": [
    {
     "data": {
      "text/plain": [
       "[1, 2, 3]"
      ]
     },
     "execution_count": 94,
     "metadata": {},
     "output_type": "execute_result"
    }
   ],
   "source": [
    "Y   # since X's 4th value is deleted, Y's value also is deleted, as aliased"
   ]
  },
  {
   "cell_type": "code",
   "execution_count": 95,
   "id": "b9b5c86c",
   "metadata": {},
   "outputs": [
    {
     "data": {
      "text/plain": [
       "[1, 2, 3]"
      ]
     },
     "execution_count": 95,
     "metadata": {},
     "output_type": "execute_result"
    }
   ],
   "source": [
    "# Cloning (Clone)\n",
    "\n",
    "A=X[:]  # cloning X's value to A\n",
    "\n",
    "A"
   ]
  },
  {
   "cell_type": "code",
   "execution_count": 98,
   "id": "face62e3",
   "metadata": {},
   "outputs": [
    {
     "data": {
      "text/plain": [
       "[2, 3]"
      ]
     },
     "execution_count": 98,
     "metadata": {},
     "output_type": "execute_result"
    }
   ],
   "source": [
    "del(X[0]) # deleting X's 1st element\n",
    "\n",
    "X"
   ]
  },
  {
   "cell_type": "code",
   "execution_count": 100,
   "id": "3f8ceb91",
   "metadata": {},
   "outputs": [
    {
     "data": {
      "text/plain": [
       "[1, 2, 3]"
      ]
     },
     "execution_count": 100,
     "metadata": {},
     "output_type": "execute_result"
    }
   ],
   "source": [
    "A  # deleting X's value doesn't effct A"
   ]
  },
  {
   "cell_type": "code",
   "execution_count": 46,
   "id": "5b0abeb6",
   "metadata": {},
   "outputs": [
    {
     "name": "stdout",
     "output_type": "stream",
     "text": [
      "Help on bool object:\n",
      "\n",
      "class bool(int)\n",
      " |  bool(x) -> bool\n",
      " |  \n",
      " |  Returns True when the argument x is true, False otherwise.\n",
      " |  The builtins True and False are the only two instances of the class bool.\n",
      " |  The class bool is a subclass of the class int, and cannot be subclassed.\n",
      " |  \n",
      " |  Method resolution order:\n",
      " |      bool\n",
      " |      int\n",
      " |      object\n",
      " |  \n",
      " |  Methods defined here:\n",
      " |  \n",
      " |  __and__(self, value, /)\n",
      " |      Return self&value.\n",
      " |  \n",
      " |  __or__(self, value, /)\n",
      " |      Return self|value.\n",
      " |  \n",
      " |  __rand__(self, value, /)\n",
      " |      Return value&self.\n",
      " |  \n",
      " |  __repr__(self, /)\n",
      " |      Return repr(self).\n",
      " |  \n",
      " |  __ror__(self, value, /)\n",
      " |      Return value|self.\n",
      " |  \n",
      " |  __rxor__(self, value, /)\n",
      " |      Return value^self.\n",
      " |  \n",
      " |  __xor__(self, value, /)\n",
      " |      Return self^value.\n",
      " |  \n",
      " |  ----------------------------------------------------------------------\n",
      " |  Static methods defined here:\n",
      " |  \n",
      " |  __new__(*args, **kwargs) from builtins.type\n",
      " |      Create and return a new object.  See help(type) for accurate signature.\n",
      " |  \n",
      " |  ----------------------------------------------------------------------\n",
      " |  Methods inherited from int:\n",
      " |  \n",
      " |  __abs__(self, /)\n",
      " |      abs(self)\n",
      " |  \n",
      " |  __add__(self, value, /)\n",
      " |      Return self+value.\n",
      " |  \n",
      " |  __bool__(self, /)\n",
      " |      self != 0\n",
      " |  \n",
      " |  __ceil__(...)\n",
      " |      Ceiling of an Integral returns itself.\n",
      " |  \n",
      " |  __divmod__(self, value, /)\n",
      " |      Return divmod(self, value).\n",
      " |  \n",
      " |  __eq__(self, value, /)\n",
      " |      Return self==value.\n",
      " |  \n",
      " |  __float__(self, /)\n",
      " |      float(self)\n",
      " |  \n",
      " |  __floor__(...)\n",
      " |      Flooring an Integral returns itself.\n",
      " |  \n",
      " |  __floordiv__(self, value, /)\n",
      " |      Return self//value.\n",
      " |  \n",
      " |  __format__(self, format_spec, /)\n",
      " |      Default object formatter.\n",
      " |  \n",
      " |  __ge__(self, value, /)\n",
      " |      Return self>=value.\n",
      " |  \n",
      " |  __getattribute__(self, name, /)\n",
      " |      Return getattr(self, name).\n",
      " |  \n",
      " |  __getnewargs__(self, /)\n",
      " |  \n",
      " |  __gt__(self, value, /)\n",
      " |      Return self>value.\n",
      " |  \n",
      " |  __hash__(self, /)\n",
      " |      Return hash(self).\n",
      " |  \n",
      " |  __index__(self, /)\n",
      " |      Return self converted to an integer, if self is suitable for use as an index into a list.\n",
      " |  \n",
      " |  __int__(self, /)\n",
      " |      int(self)\n",
      " |  \n",
      " |  __invert__(self, /)\n",
      " |      ~self\n",
      " |  \n",
      " |  __le__(self, value, /)\n",
      " |      Return self<=value.\n",
      " |  \n",
      " |  __lshift__(self, value, /)\n",
      " |      Return self<<value.\n",
      " |  \n",
      " |  __lt__(self, value, /)\n",
      " |      Return self<value.\n",
      " |  \n",
      " |  __mod__(self, value, /)\n",
      " |      Return self%value.\n",
      " |  \n",
      " |  __mul__(self, value, /)\n",
      " |      Return self*value.\n",
      " |  \n",
      " |  __ne__(self, value, /)\n",
      " |      Return self!=value.\n",
      " |  \n",
      " |  __neg__(self, /)\n",
      " |      -self\n",
      " |  \n",
      " |  __pos__(self, /)\n",
      " |      +self\n",
      " |  \n",
      " |  __pow__(self, value, mod=None, /)\n",
      " |      Return pow(self, value, mod).\n",
      " |  \n",
      " |  __radd__(self, value, /)\n",
      " |      Return value+self.\n",
      " |  \n",
      " |  __rdivmod__(self, value, /)\n",
      " |      Return divmod(value, self).\n",
      " |  \n",
      " |  __rfloordiv__(self, value, /)\n",
      " |      Return value//self.\n",
      " |  \n",
      " |  __rlshift__(self, value, /)\n",
      " |      Return value<<self.\n",
      " |  \n",
      " |  __rmod__(self, value, /)\n",
      " |      Return value%self.\n",
      " |  \n",
      " |  __rmul__(self, value, /)\n",
      " |      Return value*self.\n",
      " |  \n",
      " |  __round__(...)\n",
      " |      Rounding an Integral returns itself.\n",
      " |      Rounding with an ndigits argument also returns an integer.\n",
      " |  \n",
      " |  __rpow__(self, value, mod=None, /)\n",
      " |      Return pow(value, self, mod).\n",
      " |  \n",
      " |  __rrshift__(self, value, /)\n",
      " |      Return value>>self.\n",
      " |  \n",
      " |  __rshift__(self, value, /)\n",
      " |      Return self>>value.\n",
      " |  \n",
      " |  __rsub__(self, value, /)\n",
      " |      Return value-self.\n",
      " |  \n",
      " |  __rtruediv__(self, value, /)\n",
      " |      Return value/self.\n",
      " |  \n",
      " |  __sizeof__(self, /)\n",
      " |      Returns size in memory, in bytes.\n",
      " |  \n",
      " |  __sub__(self, value, /)\n",
      " |      Return self-value.\n",
      " |  \n",
      " |  __truediv__(self, value, /)\n",
      " |      Return self/value.\n",
      " |  \n",
      " |  __trunc__(...)\n",
      " |      Truncating an Integral returns itself.\n",
      " |  \n",
      " |  as_integer_ratio(self, /)\n",
      " |      Return integer ratio.\n",
      " |      \n",
      " |      Return a pair of integers, whose ratio is exactly equal to the original int\n",
      " |      and with a positive denominator.\n",
      " |      \n",
      " |      >>> (10).as_integer_ratio()\n",
      " |      (10, 1)\n",
      " |      >>> (-10).as_integer_ratio()\n",
      " |      (-10, 1)\n",
      " |      >>> (0).as_integer_ratio()\n",
      " |      (0, 1)\n",
      " |  \n",
      " |  bit_length(self, /)\n",
      " |      Number of bits necessary to represent self in binary.\n",
      " |      \n",
      " |      >>> bin(37)\n",
      " |      '0b100101'\n",
      " |      >>> (37).bit_length()\n",
      " |      6\n",
      " |  \n",
      " |  conjugate(...)\n",
      " |      Returns self, the complex conjugate of any int.\n",
      " |  \n",
      " |  to_bytes(self, /, length, byteorder, *, signed=False)\n",
      " |      Return an array of bytes representing an integer.\n",
      " |      \n",
      " |      length\n",
      " |        Length of bytes object to use.  An OverflowError is raised if the\n",
      " |        integer is not representable with the given number of bytes.\n",
      " |      byteorder\n",
      " |        The byte order used to represent the integer.  If byteorder is 'big',\n",
      " |        the most significant byte is at the beginning of the byte array.  If\n",
      " |        byteorder is 'little', the most significant byte is at the end of the\n",
      " |        byte array.  To request the native byte order of the host system, use\n",
      " |        `sys.byteorder' as the byte order value.\n",
      " |      signed\n",
      " |        Determines whether two's complement is used to represent the integer.\n",
      " |        If signed is False and a negative integer is given, an OverflowError\n",
      " |        is raised.\n",
      " |  \n",
      " |  ----------------------------------------------------------------------\n",
      " |  Class methods inherited from int:\n",
      " |  \n",
      " |  from_bytes(bytes, byteorder, *, signed=False) from builtins.type\n",
      " |      Return the integer represented by the given array of bytes.\n",
      " |      \n",
      " |      bytes\n",
      " |        Holds the array of bytes to convert.  The argument must either\n",
      " |        support the buffer protocol or be an iterable object producing bytes.\n",
      " |        Bytes and bytearray are examples of built-in objects that support the\n",
      " |        buffer protocol.\n",
      " |      byteorder\n",
      " |        The byte order used to represent the integer.  If byteorder is 'big',\n",
      " |        the most significant byte is at the beginning of the byte array.  If\n",
      " |        byteorder is 'little', the most significant byte is at the end of the\n",
      " |        byte array.  To request the native byte order of the host system, use\n",
      " |        `sys.byteorder' as the byte order value.\n",
      " |      signed\n",
      " |        Indicates whether two's complement is used to represent the integer.\n",
      " |  \n",
      " |  ----------------------------------------------------------------------\n",
      " |  Data descriptors inherited from int:\n",
      " |  \n",
      " |  denominator\n",
      " |      the denominator of a rational number in lowest terms\n",
      " |  \n",
      " |  imag\n",
      " |      the imaginary part of a complex number\n",
      " |  \n",
      " |  numerator\n",
      " |      the numerator of a rational number in lowest terms\n",
      " |  \n",
      " |  real\n",
      " |      the real part of a complex number\n",
      "\n"
     ]
    }
   ],
   "source": [
    "help(A)  # the command shows help "
   ]
  },
  {
   "cell_type": "markdown",
   "id": "83eaa781",
   "metadata": {},
   "source": [
    "<h4>Random</h4>"
   ]
  },
  {
   "cell_type": "code",
   "execution_count": 18,
   "id": "d40a777b",
   "metadata": {},
   "outputs": [
    {
     "data": {
      "text/plain": [
       "0.7756105175072288"
      ]
     },
     "execution_count": 18,
     "metadata": {},
     "output_type": "execute_result"
    }
   ],
   "source": [
    "# importing random package\n",
    "import random\n",
    "\n",
    "#generate float number between 0 and 1.\n",
    "random.random()"
   ]
  },
  {
   "cell_type": "code",
   "execution_count": 21,
   "id": "7a5a354e",
   "metadata": {},
   "outputs": [
    {
     "data": {
      "text/plain": [
       "21"
      ]
     },
     "execution_count": 21,
     "metadata": {},
     "output_type": "execute_result"
    }
   ],
   "source": [
    "# setting minimum and maximum value for integer\n",
    "random.randint(0, 30)"
   ]
  },
  {
   "cell_type": "code",
   "execution_count": 22,
   "id": "3875662c",
   "metadata": {},
   "outputs": [
    {
     "data": {
      "text/plain": [
       "[-13, -24, -28, -12, 11]"
      ]
     },
     "execution_count": 22,
     "metadata": {},
     "output_type": "execute_result"
    }
   ],
   "source": [
    "# generating random samples, with limit of value, and number\n",
    "\n",
    "random.sample(range(-30, 30), 5)"
   ]
  },
  {
   "cell_type": "markdown",
   "id": "ee69b29e",
   "metadata": {},
   "source": [
    "<h3><font color=blue>Sets</font></h3>"
   ]
  },
  {
   "cell_type": "markdown",
   "id": "e4f1c6b2",
   "metadata": {},
   "source": [
    "<div style=\"text-align: justify\"> <b>Sets</b> are a type of collection, which means that like lists and tuples, we can input different Python types. Unlike lists and tuples, they are unordered, which means sets set does not record element position, like indexing. Sets only contain unique elements, like only one of t a particular element in a set. \n",
    "\n",
    "For set, curly brackets {} are used.    \n",
    "</div>"
   ]
  },
  {
   "cell_type": "code",
   "execution_count": 2,
   "id": "f12f70e8",
   "metadata": {},
   "outputs": [
    {
     "data": {
      "text/plain": [
       "{'R&B', 'disco', 'hard rock', 'pop', 'rock', 'soul'}"
      ]
     },
     "execution_count": 2,
     "metadata": {},
     "output_type": "execute_result"
    }
   ],
   "source": [
    "set1={\"pop\", \"rock\", \"soul\", \"hard rock\", \"rock\", \"R&B\", \"disco\"}\n",
    "\n",
    "set1"
   ]
  },
  {
   "cell_type": "markdown",
   "id": "cdf58adb",
   "metadata": {},
   "source": [
    "Here, \"rock\" appeared 3 times, but the set only shows one element.\n",
    "We can <b>Typecast</b> or convert a list into set by using set() function."
   ]
  },
  {
   "cell_type": "code",
   "execution_count": 4,
   "id": "5f5f0370",
   "metadata": {},
   "outputs": [
    {
     "data": {
      "text/plain": [
       "['Micharl Jackson', 'Thriller', 'Thriller', 1982]"
      ]
     },
     "execution_count": 4,
     "metadata": {},
     "output_type": "execute_result"
    }
   ],
   "source": [
    "# let's create a list\n",
    "album_list=[\"Micharl Jackson\", \"Thriller\", \"Thriller\", 1982]\n",
    "\n",
    "album_list"
   ]
  },
  {
   "cell_type": "code",
   "execution_count": 5,
   "id": "413ea584",
   "metadata": {},
   "outputs": [
    {
     "data": {
      "text/plain": [
       "list"
      ]
     },
     "execution_count": 5,
     "metadata": {},
     "output_type": "execute_result"
    }
   ],
   "source": [
    "type(album_list)"
   ]
  },
  {
   "cell_type": "code",
   "execution_count": 9,
   "id": "10c903cd",
   "metadata": {},
   "outputs": [
    {
     "data": {
      "text/plain": [
       "{1982, 'Micharl Jackson', 'Thriller'}"
      ]
     },
     "execution_count": 9,
     "metadata": {},
     "output_type": "execute_result"
    }
   ],
   "source": [
    "# now, let's convert the list into set\n",
    "album_set=set(album_list) # converting list to set and storing\n",
    "\n",
    "album_set"
   ]
  },
  {
   "cell_type": "code",
   "execution_count": 10,
   "id": "15f3257b",
   "metadata": {},
   "outputs": [
    {
     "data": {
      "text/plain": [
       "set"
      ]
     },
     "execution_count": 10,
     "metadata": {},
     "output_type": "execute_result"
    }
   ],
   "source": [
    "type(album_set)"
   ]
  },
  {
   "cell_type": "code",
   "execution_count": 28,
   "id": "d3809ead",
   "metadata": {},
   "outputs": [
    {
     "data": {
      "text/plain": [
       "True"
      ]
     },
     "execution_count": 28,
     "metadata": {},
     "output_type": "execute_result"
    }
   ],
   "source": [
    "A=[1,2,2,1]  # creating a list\n",
    "\n",
    "A=set(A)  # convertin the list into set\n",
    "\n",
    "B={1,2}  # creating a set\n",
    "\n",
    "A==B  # checking if A is equal to B"
   ]
  },
  {
   "cell_type": "markdown",
   "id": "986b337b",
   "metadata": {},
   "source": [
    "<h4>Set Operation</h4>"
   ]
  },
  {
   "cell_type": "code",
   "execution_count": 11,
   "id": "fd2eb47d",
   "metadata": {},
   "outputs": [
    {
     "data": {
      "text/plain": [
       "{'AC/DC', 'Black in Black', 'Thriller'}"
      ]
     },
     "execution_count": 11,
     "metadata": {},
     "output_type": "execute_result"
    }
   ],
   "source": [
    "A={\"Thriller\", \"Black in Black\", \"AC/DC\"}\n",
    "A"
   ]
  },
  {
   "cell_type": "code",
   "execution_count": 12,
   "id": "1e75754a",
   "metadata": {},
   "outputs": [
    {
     "data": {
      "text/plain": [
       "{'AC/DC', 'Black in Black', 'NYNC', 'Thriller'}"
      ]
     },
     "execution_count": 12,
     "metadata": {},
     "output_type": "execute_result"
    }
   ],
   "source": [
    "# adding elements into set\n",
    "A.add(\"NYNC\")\n",
    "\n",
    "A"
   ]
  },
  {
   "cell_type": "code",
   "execution_count": 13,
   "id": "3ccd830c",
   "metadata": {},
   "outputs": [
    {
     "data": {
      "text/plain": [
       "{'AC/DC', 'Black in Black', 'Thriller'}"
      ]
     },
     "execution_count": 13,
     "metadata": {},
     "output_type": "execute_result"
    }
   ],
   "source": [
    "# removing elements from a set\n",
    "A.remove(\"NYNC\")\n",
    "\n",
    "A"
   ]
  },
  {
   "cell_type": "code",
   "execution_count": 14,
   "id": "0376b02b",
   "metadata": {},
   "outputs": [
    {
     "data": {
      "text/plain": [
       "True"
      ]
     },
     "execution_count": 14,
     "metadata": {},
     "output_type": "execute_result"
    }
   ],
   "source": [
    "# checking if an element is in a set\n",
    "\"AC/DC\" in A  # the results shows as True or False"
   ]
  },
  {
   "cell_type": "code",
   "execution_count": 18,
   "id": "c4574171",
   "metadata": {},
   "outputs": [],
   "source": [
    "# creating 2 sets\n",
    "album_set_1={\"AC/DC\", \"Black in Black\", \"Thriller\"}\n",
    "album_set_2={\"AC/DC\", \"Black in Black\", \"The Dark Side in the Moon\"}"
   ]
  },
  {
   "cell_type": "code",
   "execution_count": 22,
   "id": "705a18ec",
   "metadata": {},
   "outputs": [
    {
     "data": {
      "text/plain": [
       "{'AC/DC', 'Black in Black'}"
      ]
     },
     "execution_count": 22,
     "metadata": {},
     "output_type": "execute_result"
    }
   ],
   "source": [
    "# set intersection, A∩B\n",
    "album_set_1 & album_set_2"
   ]
  },
  {
   "cell_type": "code",
   "execution_count": 23,
   "id": "fcf863c2",
   "metadata": {},
   "outputs": [
    {
     "data": {
      "text/plain": [
       "{'AC/DC', 'Black in Black', 'The Dark Side in the Moon', 'Thriller'}"
      ]
     },
     "execution_count": 23,
     "metadata": {},
     "output_type": "execute_result"
    }
   ],
   "source": [
    "# set union, A∪B\n",
    "album_set_1.union(album_set_2)"
   ]
  },
  {
   "cell_type": "code",
   "execution_count": 26,
   "id": "e1403a9a",
   "metadata": {},
   "outputs": [
    {
     "data": {
      "text/plain": [
       "True"
      ]
     },
     "execution_count": 26,
     "metadata": {},
     "output_type": "execute_result"
    }
   ],
   "source": [
    "# creating a subset of album_set_1 for subset operation\n",
    "album_set_3={\"AC/DC\", \"Black in Black\"}\n",
    "\n",
    "album_set_3.issubset(album_set_1)  # checking if subset"
   ]
  },
  {
   "cell_type": "code",
   "execution_count": 27,
   "id": "99dab68b",
   "metadata": {},
   "outputs": [
    {
     "data": {
      "text/plain": [
       "True"
      ]
     },
     "execution_count": 27,
     "metadata": {},
     "output_type": "execute_result"
    }
   ],
   "source": [
    "album_set_1.issuperset(album_set_3)  # checking if superset"
   ]
  },
  {
   "cell_type": "markdown",
   "id": "91ebe0c0",
   "metadata": {},
   "source": [
    "<h3><font color=blue>Dictionaries</font></h3>\n",
    "Type of collection in Python. Dictionaries are denoted with curly Brackets {}. The keys have to be immutable and unique. The values can be immutable, mutable, and duplicates. Each key and value pair is separated by a comma."
   ]
  },
  {
   "cell_type": "code",
   "execution_count": 2,
   "id": "fa7e4180",
   "metadata": {},
   "outputs": [
    {
     "data": {
      "text/plain": [
       "1982"
      ]
     },
     "execution_count": 2,
     "metadata": {},
     "output_type": "execute_result"
    }
   ],
   "source": [
    "DICT={\"Thriller\":1982,  # creating a dictionary\n",
    "     \"Black in Black\": 1980, \n",
    "     \"The Dark Side of the Moon\": 1973, \n",
    "     \"The Bodyguard\": 1992, \n",
    "     \"Bat Out of Hell\": 1977, \n",
    "     \"Their Greatest\": 1976, \n",
    "     \"Saturday Night Fever\": 1977, \n",
    "      \"Rumors\": 1977}\n",
    "\n",
    "DICT[\"Thriller\"]  # extracting the corresponding value from the dictionary"
   ]
  },
  {
   "cell_type": "code",
   "execution_count": 31,
   "id": "850bf2c6",
   "metadata": {},
   "outputs": [
    {
     "data": {
      "text/plain": [
       "{'Thriller': 1982,\n",
       " 'Black in Black': 1980,\n",
       " 'The Dark Side of the Moon': 1973,\n",
       " 'The Bodyguard': 1992,\n",
       " 'Bat Out of Hell': 1977,\n",
       " 'Their Greatest': 1976,\n",
       " 'Saturday Night Fever': 1977,\n",
       " 'Rumors': 1977,\n",
       " 'Aniket Prantor': 2007}"
      ]
     },
     "execution_count": 31,
     "metadata": {},
     "output_type": "execute_result"
    }
   ],
   "source": [
    "DICT[\"Aniket Prantor\"]=2007  # adding new entry to the dictionary\n",
    "\n",
    "DICT"
   ]
  },
  {
   "cell_type": "code",
   "execution_count": 32,
   "id": "b9fc5bf2",
   "metadata": {
    "scrolled": true
   },
   "outputs": [
    {
     "data": {
      "text/plain": [
       "{'Black in Black': 1980,\n",
       " 'The Dark Side of the Moon': 1973,\n",
       " 'The Bodyguard': 1992,\n",
       " 'Bat Out of Hell': 1977,\n",
       " 'Their Greatest': 1976,\n",
       " 'Saturday Night Fever': 1977,\n",
       " 'Rumors': 1977,\n",
       " 'Aniket Prantor': 2007}"
      ]
     },
     "execution_count": 32,
     "metadata": {},
     "output_type": "execute_result"
    }
   ],
   "source": [
    "del(DICT[\"Thriller\"])  # deleting from the dictionary\n",
    "\n",
    "DICT"
   ]
  },
  {
   "cell_type": "code",
   "execution_count": 34,
   "id": "99f1b1a6",
   "metadata": {},
   "outputs": [
    {
     "data": {
      "text/plain": [
       "True"
      ]
     },
     "execution_count": 34,
     "metadata": {},
     "output_type": "execute_result"
    }
   ],
   "source": [
    "\"Aniket Prantor\" in DICT  # checks if the element is in the dictionary"
   ]
  },
  {
   "cell_type": "code",
   "execution_count": 35,
   "id": "5ac491c3",
   "metadata": {},
   "outputs": [
    {
     "data": {
      "text/plain": [
       "dict_keys(['Black in Black', 'The Dark Side of the Moon', 'The Bodyguard', 'Bat Out of Hell', 'Their Greatest', 'Saturday Night Fever', 'Rumors', 'Aniket Prantor'])"
      ]
     },
     "execution_count": 35,
     "metadata": {},
     "output_type": "execute_result"
    }
   ],
   "source": [
    "DICT.keys()  # shows the keys of the dictionary"
   ]
  },
  {
   "cell_type": "code",
   "execution_count": 36,
   "id": "2da669d1",
   "metadata": {},
   "outputs": [
    {
     "data": {
      "text/plain": [
       "dict_values([1980, 1973, 1992, 1977, 1976, 1977, 1977, 2007])"
      ]
     },
     "execution_count": 36,
     "metadata": {},
     "output_type": "execute_result"
    }
   ],
   "source": [
    "DICT.values()  # shows the values of the dictionary"
   ]
  },
  {
   "cell_type": "code",
   "execution_count": 40,
   "id": "47f0b6ca",
   "metadata": {},
   "outputs": [],
   "source": [
    "# creating a dictionary with list and tuple\n",
    "Dict={\"A\":1,\"B\":\"2\",\"C\":[3,3,3],\"D\":(4,4,4),'E':5,'F':6}"
   ]
  },
  {
   "cell_type": "code",
   "execution_count": 42,
   "id": "afd2d4ef",
   "metadata": {},
   "outputs": [
    {
     "data": {
      "text/plain": [
       "(4, 4, 4)"
      ]
     },
     "execution_count": 42,
     "metadata": {},
     "output_type": "execute_result"
    }
   ],
   "source": [
    "Dict[\"D\"]  # extracting the corresponding value"
   ]
  },
  {
   "cell_type": "markdown",
   "id": "f6af274c",
   "metadata": {},
   "source": [
    "<h3><font color=blue>Conditions and Branching</h3>"
   ]
  },
  {
   "cell_type": "markdown",
   "id": "c1a32408",
   "metadata": {},
   "source": [
    "<b>Comparison Operators:</b> checks if two values are equal. Like, <br>\n",
    "X == Y for, if X is equal to Y <br>\n",
    "X != Y for, if X is not equal to Y <br>\n",
    "X > Y  for, if X is greater than Y <br>\n",
    "X >= Y for, if X is greater or equal to Y <br>\n",
    "X < Y  for, if X is less than Y <br>\n",
    "X <= Y for, if X is less or equal to Y <br>\n",
    "The output is either <font color=green>True</font> or <font color=green>False</font>."
   ]
  },
  {
   "cell_type": "code",
   "execution_count": 3,
   "id": "144f0fc5",
   "metadata": {},
   "outputs": [
    {
     "data": {
      "text/plain": [
       "False"
      ]
     },
     "execution_count": 3,
     "metadata": {},
     "output_type": "execute_result"
    }
   ],
   "source": [
    "a = 7\n",
    "b = 8\n",
    "\n",
    "a == b  # checking condition"
   ]
  },
  {
   "cell_type": "code",
   "execution_count": 2,
   "id": "35e0e3a4",
   "metadata": {},
   "outputs": [
    {
     "data": {
      "text/plain": [
       "True"
      ]
     },
     "execution_count": 2,
     "metadata": {},
     "output_type": "execute_result"
    }
   ],
   "source": [
    "a != b  # checking condition"
   ]
  },
  {
   "cell_type": "code",
   "execution_count": 5,
   "id": "f6768046",
   "metadata": {},
   "outputs": [
    {
     "data": {
      "text/plain": [
       "False"
      ]
     },
     "execution_count": 5,
     "metadata": {},
     "output_type": "execute_result"
    }
   ],
   "source": [
    "a > b   # checking condition"
   ]
  },
  {
   "cell_type": "code",
   "execution_count": 6,
   "id": "47e985d1",
   "metadata": {},
   "outputs": [
    {
     "data": {
      "text/plain": [
       "False"
      ]
     },
     "execution_count": 6,
     "metadata": {},
     "output_type": "execute_result"
    }
   ],
   "source": [
    "a >= b  # checking condition"
   ]
  },
  {
   "cell_type": "code",
   "execution_count": 7,
   "id": "f25f36df",
   "metadata": {},
   "outputs": [
    {
     "data": {
      "text/plain": [
       "True"
      ]
     },
     "execution_count": 7,
     "metadata": {},
     "output_type": "execute_result"
    }
   ],
   "source": [
    "a < b   # checking condition"
   ]
  },
  {
   "cell_type": "code",
   "execution_count": 8,
   "id": "387b87f4",
   "metadata": {},
   "outputs": [
    {
     "data": {
      "text/plain": [
       "True"
      ]
     },
     "execution_count": 8,
     "metadata": {},
     "output_type": "execute_result"
    }
   ],
   "source": [
    "a <= b  # checking condition"
   ]
  },
  {
   "cell_type": "code",
   "execution_count": 9,
   "id": "6478051c",
   "metadata": {},
   "outputs": [
    {
     "data": {
      "text/plain": [
       "False"
      ]
     },
     "execution_count": 9,
     "metadata": {},
     "output_type": "execute_result"
    }
   ],
   "source": [
    "\"zen\" == \"zack\""
   ]
  },
  {
   "cell_type": "code",
   "execution_count": 10,
   "id": "400119d8",
   "metadata": {},
   "outputs": [
    {
     "data": {
      "text/plain": [
       "True"
      ]
     },
     "execution_count": 10,
     "metadata": {},
     "output_type": "execute_result"
    }
   ],
   "source": [
    "\"zen\" != \"zack\""
   ]
  },
  {
   "cell_type": "markdown",
   "id": "811edf92",
   "metadata": {},
   "source": [
    "<h4>Branching</h4>"
   ]
  },
  {
   "cell_type": "code",
   "execution_count": 14,
   "id": "6a49aeff",
   "metadata": {},
   "outputs": [
    {
     "name": "stdout",
     "output_type": "stream",
     "text": [
      "you can enter\n",
      "move on\n"
     ]
    }
   ],
   "source": [
    "age=19\n",
    "\n",
    "if (age>=18):\n",
    "    print(\"you can enter\") # prints only the condition is matches\n",
    "print(\"move on\")  # printed regardless the condition is matched or not"
   ]
  },
  {
   "cell_type": "code",
   "execution_count": 15,
   "id": "2b5d329a",
   "metadata": {},
   "outputs": [
    {
     "name": "stdout",
     "output_type": "stream",
     "text": [
      "move on\n"
     ]
    }
   ],
   "source": [
    "age=17\n",
    "\n",
    "if (age>=18):\n",
    "    print(\"you can enter\") \n",
    "print(\"move on\")  "
   ]
  },
  {
   "cell_type": "code",
   "execution_count": 16,
   "id": "cfe39a11",
   "metadata": {},
   "outputs": [
    {
     "name": "stdout",
     "output_type": "stream",
     "text": [
      "you can enter into Meat Loaf concert\n",
      "move on\n"
     ]
    }
   ],
   "source": [
    "age=17\n",
    "\n",
    "if(age>=18):\n",
    "    print(\"you can enter into AC/DC concert\") # prints when true\n",
    "else:\n",
    "    print(\"you can enter into Meat Loaf concert\") # prints when false\n",
    "print(\"move on\") # prints in both true and false"
   ]
  },
  {
   "cell_type": "code",
   "execution_count": 19,
   "id": "77da1791",
   "metadata": {},
   "outputs": [
    {
     "name": "stdout",
     "output_type": "stream",
     "text": [
      "you can enter into Pink Floyd concert\n",
      "move on\n"
     ]
    }
   ],
   "source": [
    "age=18\n",
    "\n",
    "if(age>18):\n",
    "    print(\"you can enter into AC/DC concert\") # prints when true\n",
    "elif(age==18):\n",
    "    print(\"you can enter into Pink Floyd concert\") # prints when 1st statement is false but 2nd statement is true\n",
    "else:\n",
    "    print(\"you can enter into Meat Loaf concert\") # prints when both the statements are false\n",
    "print(\"move on\") # prints in all cases"
   ]
  },
  {
   "cell_type": "markdown",
   "id": "7d860c03",
   "metadata": {},
   "source": [
    "<h4>Logic Operators</h4>"
   ]
  },
  {
   "cell_type": "code",
   "execution_count": 30,
   "id": "755a06db",
   "metadata": {},
   "outputs": [
    {
     "data": {
      "text/plain": [
       "False"
      ]
     },
     "execution_count": 30,
     "metadata": {},
     "output_type": "execute_result"
    }
   ],
   "source": [
    "A = True\n",
    "B = False\n",
    "\n",
    "A & B"
   ]
  },
  {
   "cell_type": "code",
   "execution_count": 31,
   "id": "a334de63",
   "metadata": {},
   "outputs": [
    {
     "data": {
      "text/plain": [
       "True"
      ]
     },
     "execution_count": 31,
     "metadata": {},
     "output_type": "execute_result"
    }
   ],
   "source": [
    "A or B"
   ]
  },
  {
   "cell_type": "markdown",
   "id": "4bc2b320",
   "metadata": {},
   "source": [
    "<h4>Boolean Logic Table</h4>\n",
    "\n",
    "|   A   |   B   |   <font color=blue>A & B</font>   |   <font color=violet>A or B</font>   |\n",
    "| :-: | :-: | :-: | :-: |\n",
    "| <font color=red>False</font> | <font color=red>False</font> | <font color=red>False</font> | <font color=red>False</font> |\n",
    "| <font color=red>False</font> | <font color=green>True</font> | <font color=red>False</font> | <font color=green>True</font> |\n",
    "| <font color=green>True</font> | <font color=red>False</font> | <font color=red>False</font> | <font color=green>True</font> |\n",
    "| <font color=green>True</font> | <font color=green>True</font> | <font color=green>True</font> | <font color=green>True</font> |\n",
    "\n",
    "\n",
    "|  A | A!  |\n",
    "| :-: | :-: |\n",
    "| <font color=red>False</font> | <font color=green>True</font> |\n",
    "| <font color=green>True</font> | <font color=red>False</font> |"
   ]
  },
  {
   "cell_type": "code",
   "execution_count": 3,
   "id": "e36cb438",
   "metadata": {},
   "outputs": [
    {
     "name": "stdout",
     "output_type": "stream",
     "text": [
      "it is not an 80's album\n"
     ]
    }
   ],
   "source": [
    "# checking if album was produced in 80's, sing \"or\" logic\n",
    "album_year = 1990\n",
    "if(album_year < 1980) or (album_year > 1989):\n",
    "    print(\"it is not an 80's album\")\n",
    "else:\n",
    "    print(\"it is an 80's album\")"
   ]
  },
  {
   "cell_type": "code",
   "execution_count": 37,
   "id": "df7904b4",
   "metadata": {},
   "outputs": [
    {
     "name": "stdout",
     "output_type": "stream",
     "text": [
      "it is an 80's album\n"
     ]
    }
   ],
   "source": [
    "# checking if album was produced in 80's, using \"and\" logic\n",
    "album_year = 1983\n",
    "\n",
    "if(album_year>=1980) and (album_year<1990):\n",
    "    print(\"it is an 80's album\")\n",
    "else:\n",
    "    print(\"it is not an 80's album\")"
   ]
  },
  {
   "cell_type": "markdown",
   "id": "ebeb4a84",
   "metadata": {},
   "source": [
    "<h3><font color=blue>Loops</font></h3>"
   ]
  },
  {
   "cell_type": "markdown",
   "id": "c60fff5e",
   "metadata": {},
   "source": [
    "<h4>Range</h4> The range function <b>range()</b> outputs an ordered sequence as list \"i\". If the input is a positive integer, the output is a sequence. The sequence contains the same number of elements as the input, but starts at zero.<br>\n",
    "\n",
    "Like, range(n) ==> [0,...,(N-1)]"
   ]
  },
  {
   "cell_type": "code",
   "execution_count": 83,
   "id": "063ce277",
   "metadata": {},
   "outputs": [
    {
     "data": {
      "text/plain": [
       "range(0, 5)"
      ]
     },
     "execution_count": 83,
     "metadata": {},
     "output_type": "execute_result"
    }
   ],
   "source": [
    "range(5) # states that the range starts from 0 till 4. ceiling doesn't print"
   ]
  },
  {
   "cell_type": "code",
   "execution_count": 79,
   "id": "8f3e3671",
   "metadata": {},
   "outputs": [
    {
     "data": {
      "text/plain": [
       "[0, 1, 2, 3, 4]"
      ]
     },
     "execution_count": 79,
     "metadata": {},
     "output_type": "execute_result"
    }
   ],
   "source": [
    "list( range(5) )"
   ]
  },
  {
   "cell_type": "code",
   "execution_count": 1,
   "id": "2429e91b",
   "metadata": {},
   "outputs": [
    {
     "data": {
      "text/plain": [
       "[0, 3, 6, 9, 12, 15, 18]"
      ]
     },
     "execution_count": 1,
     "metadata": {},
     "output_type": "execute_result"
    }
   ],
   "source": [
    "# list( range(start_value, end_value, interval) ), is the periodic formula\n",
    "\n",
    "list( range(0, 20, 3) )"
   ]
  },
  {
   "cell_type": "code",
   "execution_count": 64,
   "id": "c4b14b94",
   "metadata": {
    "scrolled": true
   },
   "outputs": [
    {
     "name": "stdout",
     "output_type": "stream",
     "text": [
      "0\n",
      "1\n",
      "2\n",
      "3\n",
      "4\n"
     ]
    }
   ],
   "source": [
    "for i in range(5):  # prints from 0 to 4, NB: the ceiling (5) doesn't print\n",
    "    print(i)"
   ]
  },
  {
   "cell_type": "code",
   "execution_count": 10,
   "id": "97e9e0a6",
   "metadata": {},
   "outputs": [
    {
     "name": "stdout",
     "output_type": "stream",
     "text": [
      "-4\n",
      "-3\n",
      "-2\n",
      "-1\n",
      "0\n",
      "1\n",
      "2\n",
      "3\n",
      "4\n"
     ]
    }
   ],
   "source": [
    "# printing all the elements between -5 and 5\n",
    "\n",
    "for i in range(-4,5):  # starts from the 1st value, ends before last value\n",
    "    print(i)"
   ]
  },
  {
   "cell_type": "markdown",
   "id": "0c18f1eb",
   "metadata": {},
   "source": [
    "<h4>For Loops</h4>"
   ]
  },
  {
   "cell_type": "code",
   "execution_count": 66,
   "id": "126c2af1",
   "metadata": {
    "scrolled": true
   },
   "outputs": [
    {
     "name": "stdout",
     "output_type": "stream",
     "text": [
      "5\n",
      "6\n",
      "7\n",
      "8\n",
      "9\n"
     ]
    }
   ],
   "source": [
    "# prints from 5 to 9\n",
    "# after \"for\", anything like i, x or whatever could be used\n",
    "\n",
    "for x in range(5, 10): \n",
    "    print(x)"
   ]
  },
  {
   "cell_type": "code",
   "execution_count": 68,
   "id": "f22cfc33",
   "metadata": {},
   "outputs": [
    {
     "name": "stdout",
     "output_type": "stream",
     "text": [
      "marry\n",
      "had\n",
      "a\n",
      "little\n",
      "lamb\n"
     ]
    }
   ],
   "source": [
    "a = [\"marry\", \"had\", \"a\", \"little\", \"lamb\"]  # creating a list for loop\n",
    "\n",
    "for i in a:  # prints the list objects by iteration\n",
    "    print(i)"
   ]
  },
  {
   "cell_type": "code",
   "execution_count": 84,
   "id": "185c3639",
   "metadata": {
    "scrolled": true
   },
   "outputs": [
    {
     "name": "stdout",
     "output_type": "stream",
     "text": [
      "0 marry\n",
      "1 had\n",
      "2 a\n",
      "3 little\n",
      "4 lamb\n"
     ]
    }
   ],
   "source": [
    "for i in range(len(a)): # this prints the the elements with its index\n",
    "    print(i, a[i])"
   ]
  },
  {
   "cell_type": "code",
   "execution_count": 1,
   "id": "1519695c",
   "metadata": {},
   "outputs": [
    {
     "name": "stdout",
     "output_type": "stream",
     "text": [
      "1982\n",
      "1980\n",
      "1973\n"
     ]
    }
   ],
   "source": [
    "dates = [1982, 1980, 1973]\n",
    "N = len(dates)\n",
    "\n",
    "for i in range(N):\n",
    "    print(dates[i])"
   ]
  },
  {
   "cell_type": "code",
   "execution_count": 85,
   "id": "7cc44eef",
   "metadata": {},
   "outputs": [
    {
     "data": {
      "text/plain": [
       "['red', 'yellow', 'green', 'pueple', 'blue']"
      ]
     },
     "execution_count": 85,
     "metadata": {},
     "output_type": "execute_result"
    }
   ],
   "source": [
    "# creating a list for changing values using loop\n",
    "squares=[\"red\", \"yellow\", \"green\", \"pueple\", \"blue\"]\n",
    "\n",
    "squares"
   ]
  },
  {
   "cell_type": "code",
   "execution_count": 90,
   "id": "95d745a7",
   "metadata": {},
   "outputs": [
    {
     "data": {
      "text/plain": [
       "['white', 'white', 'white', 'white', 'white']"
      ]
     },
     "execution_count": 90,
     "metadata": {},
     "output_type": "execute_result"
    }
   ],
   "source": [
    "# changing the values of \"squares\" list using loop\n",
    "\n",
    "for i in list( range(0,5) ):\n",
    "    squares[i]=\"white\"\n",
    "\n",
    "squares"
   ]
  },
  {
   "cell_type": "code",
   "execution_count": 96,
   "id": "b880518f",
   "metadata": {},
   "outputs": [
    {
     "name": "stdout",
     "output_type": "stream",
     "text": [
      "1 red\n",
      "1 yellow\n",
      "1 green\n"
     ]
    }
   ],
   "source": [
    "colors=[\"red\", \"yellow\", \"green\"]\n",
    "\n",
    "for i, colors in enumerate(colors):\n",
    "    print(1, colors)"
   ]
  },
  {
   "cell_type": "code",
   "execution_count": 17,
   "id": "497d8952",
   "metadata": {},
   "outputs": [
    {
     "name": "stdout",
     "output_type": "stream",
     "text": [
      "0 apples\n",
      "1 pears\n",
      "2 oranges\n",
      "3 fruits\n"
     ]
    }
   ],
   "source": [
    "my_list = [\"apples\", \"pears\", \"oranges\", \"fruits\"]\n",
    "\n",
    "for x, element in enumerate(my_list): # with enumerate, helps looping easy\n",
    "    print(x, element)"
   ]
  },
  {
   "cell_type": "code",
   "execution_count": 18,
   "id": "05f1be66",
   "metadata": {},
   "outputs": [
    {
     "name": "stdout",
     "output_type": "stream",
     "text": [
      "apples\n",
      "pears\n",
      "oranges\n",
      "fruits\n"
     ]
    }
   ],
   "source": [
    "for x, element in enumerate(my_list):\n",
    "    print(element)  # only prints element, without indexes"
   ]
  },
  {
   "cell_type": "markdown",
   "id": "06208ff8",
   "metadata": {},
   "source": [
    "<h4>While Loops</h4>\n",
    "\n",
    "It runs only when a condition is met."
   ]
  },
  {
   "cell_type": "code",
   "execution_count": 16,
   "id": "bb503c9e",
   "metadata": {},
   "outputs": [
    {
     "name": "stdout",
     "output_type": "stream",
     "text": [
      "0\n",
      "1\n",
      "2\n",
      "3\n",
      "4\n",
      "5\n",
      "6\n",
      "7\n"
     ]
    }
   ],
   "source": [
    "x = 0  # setting a value to \"x\"\n",
    "\n",
    "while x <= 7:  # setting the while arguement\n",
    "    print(x)   # printing x's value\n",
    "    x = x + 1  # incrementing x's value for the looping process"
   ]
  },
  {
   "cell_type": "code",
   "execution_count": 18,
   "id": "5c02b207",
   "metadata": {},
   "outputs": [
    {
     "name": "stdout",
     "output_type": "stream",
     "text": [
      "Janilin\n",
      "Janilin\n",
      "Janilin\n"
     ]
    }
   ],
   "source": [
    "i = 1\n",
    "\n",
    "while i <= 3:\n",
    "    print(\"Janilin\") # prints 3 times in new lines\n",
    "    i = i + 1"
   ]
  },
  {
   "cell_type": "code",
   "execution_count": 19,
   "id": "5cd155f6",
   "metadata": {},
   "outputs": [
    {
     "name": "stdout",
     "output_type": "stream",
     "text": [
      "Janilin Janilin Janilin "
     ]
    }
   ],
   "source": [
    "i = 1\n",
    "\n",
    "while i <= 3:\n",
    "    print(\"Janilin\", end=\" \") # prints 3 times in the same line\n",
    "    i = i + 1"
   ]
  },
  {
   "cell_type": "code",
   "execution_count": 26,
   "id": "9e2d2ae4",
   "metadata": {},
   "outputs": [
    {
     "name": "stdout",
     "output_type": "stream",
     "text": [
      "JanilinXXXXXJanilinXXXXXJanilinXXXXX"
     ]
    }
   ],
   "source": [
    "i = 1\n",
    "\n",
    "while i <= 3:\n",
    "    print(\"Janilin\", end=\"\")\n",
    "    j = 1\n",
    "    while j <= 5:\n",
    "        print(\"X\", end=\"\")\n",
    "        j = j + 1\n",
    "    i = i + 1"
   ]
  },
  {
   "cell_type": "code",
   "execution_count": 3,
   "id": "41b7a8b6",
   "metadata": {},
   "outputs": [
    {
     "name": "stdout",
     "output_type": "stream",
     "text": [
      "JanilinXXXXX\n",
      "JanilinXXXXX\n",
      "JanilinXXXXX\n"
     ]
    }
   ],
   "source": [
    "i = 1\n",
    "\n",
    "while i <= 3:\n",
    "    print(\"Janilin\", end=\"\")\n",
    "    j = 1    \n",
    "    while j <= 5:  # setting value for 1st nested loop\n",
    "        print(\"X\", end=\"\")  # printing \"X\" next to \"Janilin\"\n",
    "        j = j + 1    \n",
    "    for k in range(1):   # it's used to print in multiple lines\n",
    "        print()\n",
    "        i = i + 1"
   ]
  },
  {
   "cell_type": "code",
   "execution_count": 3,
   "id": "85328132",
   "metadata": {},
   "outputs": [
    {
     "name": "stdout",
     "output_type": "stream",
     "text": [
      "It took 2 repetitions to get out of loop.\n"
     ]
    }
   ],
   "source": [
    "dates=[1982, 1980, 1973, 2000]\n",
    "\n",
    "i=0  # setting i's default value as 0\n",
    "year=dates[0] # setting \"year\"s value first index element of \"dates\" list\n",
    "\n",
    "while(year != 1973):\n",
    "    i = i + 1\n",
    "    year = dates[i]\n",
    "    \n",
    "print(\"It took\", i, \"repetitions to get out of loop.\")"
   ]
  },
  {
   "cell_type": "code",
   "execution_count": 14,
   "id": "3f1a160d",
   "metadata": {},
   "outputs": [
    {
     "name": "stdout",
     "output_type": "stream",
     "text": [
      "['orange', 'orange']\n"
     ]
    }
   ],
   "source": [
    "squares = ['orange', 'orange', 'purple', 'blue ', 'orange']\n",
    "new_squares = []\n",
    "i = 0\n",
    "while(i < len(squares) and squares[i] == 'orange'):\n",
    "    new_squares.append(squares[i])\n",
    "    i = i + 1\n",
    "print (new_squares)"
   ]
  },
  {
   "cell_type": "markdown",
   "id": "3f5d2300",
   "metadata": {},
   "source": [
    "<h3><font color=blue>Functions<font></h3>"
   ]
  },
  {
   "cell_type": "code",
   "execution_count": 52,
   "id": "6073779f",
   "metadata": {
    "scrolled": true
   },
   "outputs": [
    {
     "data": {
      "text/plain": [
       "10"
      ]
     },
     "execution_count": 52,
     "metadata": {},
     "output_type": "execute_result"
    }
   ],
   "source": [
    "ex_1=list(range(0, 10))  # making a list from 0 to 9\n",
    "\n",
    "len(ex_1)  # leng() function shows the item number of ex_1's length"
   ]
  },
  {
   "cell_type": "code",
   "execution_count": 39,
   "id": "ef52e7ad",
   "metadata": {},
   "outputs": [
    {
     "data": {
      "text/plain": [
       "[64, 47, 16, 35, 3, 53, 59, 20, 52, 9, 35]"
      ]
     },
     "execution_count": 39,
     "metadata": {},
     "output_type": "execute_result"
    }
   ],
   "source": [
    "import random  # importing package to generate random number\n",
    "\n",
    "i=0  # setting i's value as 0\n",
    "n=10  # setting the limit for the list\n",
    "ex_list=[]  # creating an empty list\n",
    "\n",
    "while i <= n:  # setting arguement for looping and inserting element\n",
    "    ex_list.append(random.randint(1,100))  # generating random numbers\n",
    "    i=i+1  # increment of i\n",
    "    \n",
    "ex_list"
   ]
  },
  {
   "cell_type": "code",
   "execution_count": 40,
   "id": "b89aad7e",
   "metadata": {},
   "outputs": [
    {
     "data": {
      "text/plain": [
       "393"
      ]
     },
     "execution_count": 40,
     "metadata": {},
     "output_type": "execute_result"
    }
   ],
   "source": [
    "sum(ex_list)  # sum function helps for summation "
   ]
  },
  {
   "cell_type": "markdown",
   "id": "8219c73f",
   "metadata": {},
   "source": [
    "<h4>Sorted</h4>\n",
    "It helps to return a new sorted list or tuple. However, it does not mutate, or make any change to the original list."
   ]
  },
  {
   "cell_type": "code",
   "execution_count": 45,
   "id": "2253f0e2",
   "metadata": {},
   "outputs": [
    {
     "data": {
      "text/plain": [
       "[3, 9, 16, 20, 35, 35, 47, 52, 53, 59, 64]"
      ]
     },
     "execution_count": 45,
     "metadata": {},
     "output_type": "execute_result"
    }
   ],
   "source": [
    "sorted(ex_list)  # using previously created list"
   ]
  },
  {
   "cell_type": "code",
   "execution_count": 46,
   "id": "996102eb",
   "metadata": {},
   "outputs": [
    {
     "data": {
      "text/plain": [
       "[64, 47, 16, 35, 3, 53, 59, 20, 52, 9, 35]"
      ]
     },
     "execution_count": 46,
     "metadata": {},
     "output_type": "execute_result"
    }
   ],
   "source": [
    "ex_list  # sorted did not make any change to the list"
   ]
  },
  {
   "cell_type": "markdown",
   "id": "76e6ca34",
   "metadata": {},
   "source": [
    "<h4>Short</h4>\n",
    ".sort() function sorts and mutates or changes the list."
   ]
  },
  {
   "cell_type": "code",
   "execution_count": 50,
   "id": "e0f95f96",
   "metadata": {},
   "outputs": [
    {
     "data": {
      "text/plain": [
       "[3, 9, 16, 20, 35, 35, 47, 52, 53, 59, 64]"
      ]
     },
     "execution_count": 50,
     "metadata": {},
     "output_type": "execute_result"
    }
   ],
   "source": [
    "ex_list.sort()  # sorts the list and mutates\n",
    "ex_list"
   ]
  },
  {
   "cell_type": "code",
   "execution_count": 53,
   "id": "c6b94e71",
   "metadata": {},
   "outputs": [
    {
     "data": {
      "text/plain": [
       "[64, 59, 53, 52, 47, 35, 35, 20, 16, 9, 3]"
      ]
     },
     "execution_count": 53,
     "metadata": {},
     "output_type": "execute_result"
    }
   ],
   "source": [
    "ex_list.reverse() # reverses the sorting order and mutates\n",
    "ex_list"
   ]
  },
  {
   "cell_type": "markdown",
   "id": "ee6f43be",
   "metadata": {},
   "source": [
    "<h4>Making Function</h4>"
   ]
  },
  {
   "cell_type": "code",
   "execution_count": 80,
   "id": "6d33a9b9",
   "metadata": {},
   "outputs": [
    {
     "data": {
      "text/plain": [
       "11"
      ]
     },
     "execution_count": 80,
     "metadata": {},
     "output_type": "execute_result"
    }
   ],
   "source": [
    "def add_1(a):  # creating a user defined function\n",
    "    b=a+1      # the funciton adds 1 to the given number\n",
    "    return b\n",
    "\n",
    "add_1(10)  # calling the function if is working"
   ]
  },
  {
   "cell_type": "code",
   "execution_count": 81,
   "id": "921f6bfd",
   "metadata": {
    "scrolled": true
   },
   "outputs": [
    {
     "data": {
      "text/plain": [
       "10"
      ]
     },
     "execution_count": 81,
     "metadata": {},
     "output_type": "execute_result"
    }
   ],
   "source": [
    "c = add_1(9)  # using add_1 function\n",
    "\n",
    "c"
   ]
  },
  {
   "cell_type": "code",
   "execution_count": 82,
   "id": "00a5d126",
   "metadata": {},
   "outputs": [
    {
     "data": {
      "text/plain": [
       "20"
      ]
     },
     "execution_count": 82,
     "metadata": {},
     "output_type": "execute_result"
    }
   ],
   "source": [
    "def mult(a, b):  # creating a user defined function\n",
    "    c = a * b    # the function multiplies two given numbers\n",
    "    return c\n",
    "\n",
    "mult(4,5)  # calling the function if is working"
   ]
  },
  {
   "cell_type": "code",
   "execution_count": 84,
   "id": "27962f6d",
   "metadata": {},
   "outputs": [
    {
     "data": {
      "text/plain": [
       "132"
      ]
     },
     "execution_count": 84,
     "metadata": {},
     "output_type": "execute_result"
    }
   ],
   "source": [
    "c = mult(11, 12)  # using mult() function\n",
    "\n",
    "c"
   ]
  },
  {
   "cell_type": "code",
   "execution_count": 87,
   "id": "ec00f751",
   "metadata": {},
   "outputs": [
    {
     "data": {
      "text/plain": [
       "'Zen Zen Zen '"
      ]
     },
     "execution_count": 87,
     "metadata": {},
     "output_type": "execute_result"
    }
   ],
   "source": [
    "c = mult(3, \"Zen \")  # in this case, the number 3, multplied the stirng 3 times\n",
    "\n",
    "c   "
   ]
  },
  {
   "cell_type": "code",
   "execution_count": 90,
   "id": "f460a1c2",
   "metadata": {},
   "outputs": [
    {
     "name": "stdout",
     "output_type": "stream",
     "text": [
      "Hello, Zen\n"
     ]
    }
   ],
   "source": [
    "def hello(a):   # greeting with the input\n",
    "    print(\"Hello,\", a)\n",
    "    \n",
    "hello(\"Zen\")"
   ]
  },
  {
   "cell_type": "code",
   "execution_count": 106,
   "id": "c511bb1d",
   "metadata": {},
   "outputs": [
    {
     "name": "stdout",
     "output_type": "stream",
     "text": [
      "100 plus 1 equals 101\n"
     ]
    }
   ],
   "source": [
    "# assigning multiple task in a function\n",
    "\n",
    "def add_print(a):\n",
    "    b = a + 1;\n",
    "    print(a, \"plus 1 equals\", b)\n",
    "    \n",
    "add_print(100)"
   ]
  },
  {
   "cell_type": "code",
   "execution_count": 28,
   "id": "75cc8f06",
   "metadata": {},
   "outputs": [
    {
     "data": {
      "text/plain": [
       "'Janilin Bappi'"
      ]
     },
     "execution_count": 28,
     "metadata": {},
     "output_type": "execute_result"
    }
   ],
   "source": [
    "def join(a, b):\n",
    "    return(a+b) # creating a function, that concatenates\n",
    "\n",
    "join(\"Janilin \", \"Bappi\")"
   ]
  },
  {
   "cell_type": "code",
   "execution_count": 29,
   "id": "1f638ea9",
   "metadata": {},
   "outputs": [
    {
     "data": {
      "text/plain": [
       "21"
      ]
     },
     "execution_count": 29,
     "metadata": {},
     "output_type": "execute_result"
    }
   ],
   "source": [
    "join(10, 11)   # help to join, rather add numbers"
   ]
  },
  {
   "cell_type": "code",
   "execution_count": 36,
   "id": "664bf3e0",
   "metadata": {},
   "outputs": [
    {
     "data": {
      "text/plain": [
       "[1, 2, 3, 'a', 'b']"
      ]
     },
     "execution_count": 36,
     "metadata": {},
     "output_type": "execute_result"
    }
   ],
   "source": [
    "a=[1,2,3]\n",
    "b=[\"a\",\"b\"]\n",
    "\n",
    "join(a, b)   # joins lists or tuples, but can't join sets"
   ]
  },
  {
   "cell_type": "markdown",
   "id": "5a14061b",
   "metadata": {},
   "source": [
    "<h4>Using Loops in Function</h4>"
   ]
  },
  {
   "cell_type": "code",
   "execution_count": 108,
   "id": "1969ffa5",
   "metadata": {},
   "outputs": [
    {
     "name": "stdout",
     "output_type": "stream",
     "text": [
      "Album 0 Rating is 10\n",
      "Album 1 Rating is 8\n",
      "Album 2 Rating is 9\n",
      "Album 3 Rating is 6\n",
      "Album 4 Rating is 7\n"
     ]
    }
   ],
   "source": [
    "def print_stuff(stuff):\n",
    "    for i, s in enumerate(stuff):  # \"i\" indicates iteration, \"s\" indicates \n",
    "                                   # the index's chronological increment\n",
    "        print(\"Album\", i, \"Rating is\", s)\n",
    "        \n",
    "album_ratings=[10, 8, 9, 6, 7]   # 5 albums' 5 ratings\n",
    "\n",
    "print_stuff(album_ratings)"
   ]
  },
  {
   "cell_type": "markdown",
   "id": "1331a5e2",
   "metadata": {},
   "source": [
    "<h4>Variadic Parameters</h4>\n",
    "It allows parameter to input a varible number of multiple elements."
   ]
  },
  {
   "cell_type": "code",
   "execution_count": 112,
   "id": "b66fb5fd",
   "metadata": {},
   "outputs": [
    {
     "name": "stdout",
     "output_type": "stream",
     "text": [
      "Dream Theatre\n",
      "Artcell\n",
      "Katie Melua\n"
     ]
    }
   ],
   "source": [
    "def artist_names(*names):  # the * allows to input multiple elements and \n",
    "                           # print individually\n",
    "    for name in names:\n",
    "        print(name)\n",
    "        \n",
    "artist_names(\"Dream Theatre\", \"Artcell\", \"Katie Melua\") # checking function"
   ]
  },
  {
   "cell_type": "markdown",
   "id": "b570b6a3",
   "metadata": {},
   "source": [
    "<h4>Scope</h4>\n",
    "\n",
    "Scope is either local or global and likewise the variables are 2 types, local and global.\n",
    "\n",
    "<b>Local Variable:</b> It resides withing an arguement, function, or loop. It cannot be used or called outside the environment. However, in local scope, if we state a variable as global, then it can be used at the global scope, e.g.<br><font color=green>global x = 10</font>\n",
    "\n",
    "<b>Global Variable:</b> It is uable at anywhere, in any environment. \n",
    "\n",
    "When a variable is not defined within a function or at local scope, then Python will check the global scope for that variable."
   ]
  },
  {
   "cell_type": "markdown",
   "id": "22886f14",
   "metadata": {},
   "source": [
    "<h4>Pass Statement</h4>\n",
    "In python, pass is a null sttement that does othing. It is used to create loops, if..else statements, functions, and classes with an empty body. Like, running an incomplete code with unanimous output."
   ]
  },
  {
   "cell_type": "code",
   "execution_count": 105,
   "id": "6d70d8f9",
   "metadata": {},
   "outputs": [],
   "source": [
    "def example():\n",
    "    pass\n",
    "\n",
    "example()  # as pass is assigned, the function gives no output, when is ran"
   ]
  },
  {
   "cell_type": "code",
   "execution_count": 21,
   "id": "a978c802",
   "metadata": {},
   "outputs": [],
   "source": [
    "def Zen():   \n",
    "    print(\"Zen\")\n",
    "    return(None) # return None gives no outputs"
   ]
  },
  {
   "cell_type": "markdown",
   "id": "50c66fe4",
   "metadata": {},
   "source": [
    "<h3><font color=blue>Objects and Classes</font></h3>\n",
    "\n",
    "Python has lots of data types:<br>\n",
    "* int: 1, 2, 123.. <br>\n",
    "* float: 1.2, 0.369.. <br>\n",
    "* string: \"a\", \"Zen\".. <br>\n",
    "* list: [1, \"Wu\", 3]  <br>\n",
    "* dictionary: {\"dragon\":1, \"unicorn\":2}  <br>\n",
    "* bool: False, True  <br>\n",
    "<br>\n",
    "Each considered as an object. Every object has: <br>\n",
    "* A type,<br>\n",
    "* An internal data representation (a blueprint),<br>\n",
    "* a set of procedures ofr interacting with the object (methods)<br>\n",
    "<br>\n",
    "Note: an object is an instance of a particular type."
   ]
  },
  {
   "cell_type": "markdown",
   "id": "c5f211ad",
   "metadata": {},
   "source": [
    "Methods:<br>\n",
    "    A class or type's methods are functions that every instance of that class or type provides. It's how your interact with the data in a object. Sorting is an example of a method that interacts with the data in the object."
   ]
  },
  {
   "cell_type": "markdown",
   "id": "0d27756d",
   "metadata": {},
   "source": [
    "Class:<br>\n",
    "  It hase data attributes, and methods.  "
   ]
  },
  {
   "cell_type": "markdown",
   "id": "2706342c",
   "metadata": {},
   "source": [
    "<h4>Glimpse of Matplotlib</h4>"
   ]
  },
  {
   "cell_type": "code",
   "execution_count": 9,
   "id": "b0828cef",
   "metadata": {},
   "outputs": [],
   "source": [
    "# import things\n",
    "import matplotlib.pyplot as plt\n",
    "\n",
    "# visualizes plot in the notebook\n",
    "%matplotlib inline"
   ]
  },
  {
   "cell_type": "code",
   "execution_count": 14,
   "id": "fbb7fd23",
   "metadata": {},
   "outputs": [
    {
     "data": {
      "text/plain": [
       "[<matplotlib.lines.Line2D at 0x17e1eabcf10>]"
      ]
     },
     "execution_count": 14,
     "metadata": {},
     "output_type": "execute_result"
    },
    {
     "data": {
      "image/png": "[encoded data removed]",
      "text/plain": [
       "<Figure size 432x288 with 1 Axes>"
      ]
     },
     "metadata": {
      "needs_background": "light"
     },
     "output_type": "display_data"
    }
   ],
   "source": [
    "### example  ###\n",
    "\n",
    "# generating data for plotting\n",
    "x = list(range(0,10))\n",
    "y = list(range(-10,0))\n",
    "\n",
    "#plot the graph using matplot lib \n",
    "plt.plot(x,y)"
   ]
  },
  {
   "cell_type": "code",
   "execution_count": 13,
   "id": "a79a0568",
   "metadata": {},
   "outputs": [
    {
     "data": {
      "text/plain": [
       "[<matplotlib.lines.Line2D at 0x17e1ea4f7f0>]"
      ]
     },
     "execution_count": 13,
     "metadata": {},
     "output_type": "execute_result"
    },
    {
     "data": {
      "image/png": "[encoded data removed]",
      "text/plain": [
       "<Figure size 432x288 with 1 Axes>"
      ]
     },
     "metadata": {
      "needs_background": "light"
     },
     "output_type": "display_data"
    }
   ],
   "source": [
    "### Example ###\n",
    "\n",
    "# generating data for plotting\n",
    "a = [0, -100, 25, 67, -323]\n",
    "b = [0, 3, 7, 3, 9]\n",
    "\n",
    "plotting\n",
    "plt.plot(a,b)"
   ]
  },
  {
   "cell_type": "code",
   "execution_count": 28,
   "id": "4f1ced8d",
   "metadata": {},
   "outputs": [
    {
     "data": {
      "text/plain": [
       "[<matplotlib.lines.Line2D at 0x17e1ede6910>]"
      ]
     },
     "execution_count": 28,
     "metadata": {},
     "output_type": "execute_result"
    },
    {
     "data": {
      "image/png": "[encoded data removed]",
      "text/plain": [
       "<Figure size 432x288 with 1 Axes>"
      ]
     },
     "metadata": {
      "needs_background": "light"
     },
     "output_type": "display_data"
    }
   ],
   "source": [
    "# following previous graph, selecting specific region for plotting / zooming\n",
    "# example: plt.axis([x_1, x_2, y_1, y_2])\n",
    "\n",
    "plt.axis([-50, 80, 2, 8])\n",
    "plt.plot(a, b)"
   ]
  },
  {
   "cell_type": "code",
   "execution_count": 34,
   "id": "e4fd8c2f",
   "metadata": {},
   "outputs": [
    {
     "data": {
      "text/plain": [
       "[<matplotlib.lines.Line2D at 0x17e1ff431c0>]"
      ]
     },
     "execution_count": 34,
     "metadata": {},
     "output_type": "execute_result"
    },
    {
     "data": {
      "image/png": "[encoded data removed]",
      "text/plain": [
       "<Figure size 432x288 with 1 Axes>"
      ]
     },
     "metadata": {
      "needs_background": "light"
     },
     "output_type": "display_data"
    }
   ],
   "source": [
    "# adding label in the plotting\n",
    "\n",
    "plt.title(\"Plot Title\")\n",
    "plt.xlabel(\"X axis Label\")\n",
    "plt.ylabel(\"Y axis Label\")\n",
    "\n",
    "plt.axis([-50, 80, 2, 8])\n",
    "plt.plot(a, b)"
   ]
  },
  {
   "cell_type": "code",
   "execution_count": 40,
   "id": "c9725fc3",
   "metadata": {},
   "outputs": [
    {
     "data": {
      "text/plain": [
       "[<matplotlib.lines.Line2D at 0x17e201b4ca0>]"
      ]
     },
     "execution_count": 40,
     "metadata": {},
     "output_type": "execute_result"
    },
    {
     "data": {
      "image/png": "[encoded data removed]",
      "text/plain": [
       "<Figure size 432x288 with 1 Axes>"
      ]
     },
     "metadata": {
      "needs_background": "light"
     },
     "output_type": "display_data"
    }
   ],
   "source": [
    "# changing the tick values of the graph, and changing color\n",
    "\n",
    "plt.title(\"Plot Title\")\n",
    "plt.xlabel(\"X axis Label\")\n",
    "plt.ylabel(\"Y axis Label\")\n",
    "\n",
    "plt.xticks( (-40, -20, 0, 20, 40, 60, 80),(\"a\", \"b\", \"c\", \"d\", \"e\", \"f\", \"g\") )\n",
    "plt.yticks( (2, 3, 4, 5, 6, 7, 8),(\"i\", \"ii\", \"iii\", \"iv\", \"v\", \"vi\", \"vii\") )\n",
    "\n",
    "plt.axis([-50, 80, 2, 8])\n",
    "plt.plot(a, b, color=\"violet\")"
   ]
  },
  {
   "cell_type": "code",
   "execution_count": 55,
   "id": "c3a8b732",
   "metadata": {},
   "outputs": [
    {
     "data": {
      "text/plain": [
       "(array([1., 1., 1., 1., 1., 1., 1., 1., 1., 1.]),\n",
       " array([-10. ,  -9.1,  -8.2,  -7.3,  -6.4,  -5.5,  -4.6,  -3.7,  -2.8,\n",
       "         -1.9,  -1. ]),\n",
       " <BarContainer object of 10 artists>)"
      ]
     },
     "execution_count": 55,
     "metadata": {},
     "output_type": "execute_result"
    },
    {
     "data": {
      "image/png": "[encoded data removed]",
      "text/plain": [
       "<Figure size 432x288 with 1 Axes>"
      ]
     },
     "metadata": {
      "needs_background": "light"
     },
     "output_type": "display_data"
    }
   ],
   "source": [
    "plt.hist(x)\n",
    "plt.hist(y)"
   ]
  },
  {
   "cell_type": "code",
   "execution_count": 49,
   "id": "27be70c7",
   "metadata": {},
   "outputs": [
    {
     "data": {
      "text/plain": [
       "(array([2., 2., 4., 2., 0., 4., 2., 2., 1., 1.]),\n",
       " array([1. , 1.8, 2.6, 3.4, 4.2, 5. , 5.8, 6.6, 7.4, 8.2, 9. ]),\n",
       " <BarContainer object of 10 artists>)"
      ]
     },
     "execution_count": 49,
     "metadata": {},
     "output_type": "execute_result"
    },
    {
     "data": {
      "image/png": "[encoded data removed]",
      "text/plain": [
       "<Figure size 432x288 with 1 Axes>"
      ]
     },
     "metadata": {
      "needs_background": "light"
     },
     "output_type": "display_data"
    }
   ],
   "source": [
    "# plotting histogram\n",
    "\n",
    "plt.hist([2,5,3,1,1,8,5,9,7,4,6,3,5,4,3,5,7,3,2,6])"
   ]
  },
  {
   "cell_type": "markdown",
   "id": "ce064c24",
   "metadata": {},
   "source": [
    "<h4>Create a class: Circle</h4>\n",
    "<font color=green>class</font> <font color=blue>Circle</font> (<font color=green>object</font>):\n",
    "\n",
    "<img src=\"http://janilin-bappi.ueuo.com/class_circle.jpg\" width=\"400\" />"
   ]
  },
  {
   "cell_type": "code",
   "execution_count": 22,
   "id": "4ece78cf",
   "metadata": {},
   "outputs": [],
   "source": [
    "# Import the library\n",
    "import matplotlib.pyplot as plt\n",
    "\n",
    "# this code helps to plot in the notebook environemnt \n",
    "%matplotlib inline   "
   ]
  },
  {
   "cell_type": "code",
   "execution_count": 53,
   "id": "169cbf69",
   "metadata": {},
   "outputs": [],
   "source": [
    "# Create a class Circle\n",
    "\n",
    "class Circle(object):\n",
    "    \n",
    "    # Constructor\n",
    "    def __init__(self, radius=3, color='blue'):\n",
    "        self.radius = radius\n",
    "        self.color = color \n",
    "    \n",
    "    # Method\n",
    "    def add_radius(self, r):\n",
    "        self.radius = self.radius + r\n",
    "        return(self.radius)\n",
    "    \n",
    "    # Method: using matplotlib to plot circle, with alies \"plt\"\n",
    "    def drawCircle(self):\n",
    "        plt.gca().add_patch(plt.Circle((0, 0), radius=self.radius, fc=self.color))\n",
    "        plt.axis('scaled')\n",
    "        plt.show()  "
   ]
  },
  {
   "cell_type": "code",
   "execution_count": 54,
   "id": "93394ddd",
   "metadata": {},
   "outputs": [
    {
     "data": {
      "image/png": "[encoded data removed]",
      "text/plain": [
       "<Figure size 432x288 with 1 Axes>"
      ]
     },
     "metadata": {
      "needs_background": "light"
     },
     "output_type": "display_data"
    }
   ],
   "source": [
    "Circle(10, \"red\").drawCircle()"
   ]
  },
  {
   "cell_type": "markdown",
   "id": "44a7ab8d",
   "metadata": {},
   "source": [
    "<b>The Ractangele Class</b>"
   ]
  },
  {
   "cell_type": "code",
   "execution_count": 57,
   "id": "f76bffcd",
   "metadata": {},
   "outputs": [],
   "source": [
    "class Rectangle(object):\n",
    "    \n",
    "    def __init__(self, width=2, height=3, color='r'):\n",
    "        self.height = height \n",
    "        self.width = width\n",
    "        self.color = color\n",
    "    \n",
    "    def drawRectangle(self):\n",
    "        plt.gca().add_patch(plt.Rectangle((0, 0), self.width, self.height ,fc=self.color))\n",
    "        plt.axis('scaled')\n",
    "        plt.show()"
   ]
  },
  {
   "cell_type": "code",
   "execution_count": 58,
   "id": "4a2093f4",
   "metadata": {},
   "outputs": [],
   "source": [
    "BlueRectangle = Rectangle(9, 3, \"green\")"
   ]
  },
  {
   "cell_type": "code",
   "execution_count": 59,
   "id": "d5236ff4",
   "metadata": {
    "scrolled": true
   },
   "outputs": [
    {
     "data": {
      "image/png": "[encoded data removed]",
      "text/plain": [
       "<Figure size 432x288 with 1 Axes>"
      ]
     },
     "metadata": {
      "needs_background": "light"
     },
     "output_type": "display_data"
    }
   ],
   "source": [
    "BlueRectangle.drawRectangle()"
   ]
  },
  {
   "cell_type": "markdown",
   "id": "6d7f3b5a",
   "metadata": {},
   "source": [
    "<h3><font color=\"blue\"> Reading Files with Open</font></h3>"
   ]
  },
  {
   "cell_type": "markdown",
   "id": "fd1581a0",
   "metadata": {},
   "source": [
    "<h4>Open Function</h4>\n",
    "example: file=open(\"/filepath/data.txt\", \"w\")<br>\n",
    "r, for reading<br>\n",
    "w, for writing<br>\n",
    "a, for appending<br>\n",
    "\n",
    "NB: with file=open(\"/filepath/data.txt\", \"w\") # automatically closes the file<br>\n",
    "print( file.readline() )   # reads line, one at once<br>\n",
    "\n",
    "for i in file:   <br>\n",
    "<font color=\"white\">--</font>print(i) <font color=\"white\">---</font>    # using loop to print all, instead of one line at a time<br>\n",
    "\n",
    "print( file.readline(4) )<font color=\"white\">--</font># reads first 4 characters from the line"
   ]
  },
  {
   "cell_type": "code",
   "execution_count": 3,
   "id": "c3a795b1",
   "metadata": {},
   "outputs": [],
   "source": [
    "file_1=open(\"file_1.txt\", \"r\")"
   ]
  },
  {
   "cell_type": "code",
   "execution_count": 4,
   "id": "dc13dece",
   "metadata": {},
   "outputs": [
    {
     "name": "stdout",
     "output_type": "stream",
     "text": [
      "Bangladesh Bank the central bank as well as chief authority to regulate the state's monetary and financial system, was established in Dhaka as a body corporate vide the Bangladesh Bank Order, 1972 (P.O No. 127 of 1972) with effect from 16th December, 1971. Bangladesh Bank started functioning with all capital and liabilities of Dhaka branch of State Bank of Pakistan.\n",
      "\n"
     ]
    }
   ],
   "source": [
    "print( file_1.readline() )   # prints only one line"
   ]
  },
  {
   "cell_type": "code",
   "execution_count": 5,
   "id": "42de5c62",
   "metadata": {
    "scrolled": true
   },
   "outputs": [
    {
     "name": "stdout",
     "output_type": "stream",
     "text": [
      "\n",
      "\n",
      "The paid up capital of Bangladesh Bank is Tk. 30 million divided into 300,000 shares of Tk. 100 each that are fully paid up by the government. A board of directors comprising the Governor as the Chairman, one deputy governor and seven other members oversees the affairs of the bank. The Governor and the deputy governors of the Bank are appointed by the government for a period not exceeding five years and are eligible for reappointment. The Governors who have served since its inception are: ANM Hamidullah (1972-74); AKN Ahmed (1974-76); M Nurul Islam (1976-87); Shegufta Bakht Chaudhuri (1987-92); Khorshed Alam (1992-96); Lutfar Rahman Sarkar (1996-98); Dr. Mohammed Farashuddin (1998-2001); Dr. Fakhruddin Ahmed (2001-2005); Dr. Salehuddin Ahmed (2005-2009); and Dr. Atiur Rahman (2009-till date).\n",
      "\n",
      "\n",
      "\n",
      "The head office of Bangladesh Bank is motijheel. Besides this Bangladesh Bank have 8 branch offices, one in Dhaka city (sadarghat), and one each in Chittagong, Khulna, Rajshahi, Syhlet, Bogra, Rangpur and Barisal. There are 31 departments in the head office. The head office discharges its duties with 31 departments.\n",
      "\n",
      "\n",
      "\n",
      "Bangladesh Bank, as a central bank, reserve bank, or monetary authority, is the banking institution granted the exclusive privilege to lend the government its currency. Like a normal commercial bank, Bangladesh Bank charges interest on the loans made to borrowers, primarily the government, and to other commercial banks, typically as a 'lender of last resort'. However, a central bank is distinguished from a normal commercial bank because it has the monopoly on creating the currency, which is loaned to the government in the form of legal tender. It is a bank that can lend money to other banks in times of need. Its primary function is to provide the nation's money supply, but more active duties include controlling subsidized-loan interest rates, and acting as a lender of last resort to the banking sector during times of financial crisis (private banks often being integral to the national financial system). Bangladesh Bank, as a central bank, also has supervisory powers, to ensure that banks and other financial institutions do not behave recklessly or fraudulently.\n",
      "\n",
      "\n",
      "\n",
      "Vision and mission  The vision of the Bangladesh Bank (BB) aspires, through ensuring the quality of services and the competence of its staff, shall operate as a modern, dynamic, effective, and forward-looking central bank to manage the countryâ€™s monetary and financial system with a view to establishing the internal and external value of Bangladesh Taka conductive to rapid growth and development of the economy. To uphold the vision, BBâ€™s mission is to manage the monetary and credit system of Bangladesh with a view to establishing domestic monetary value and maintaining a competitive external per value of the Bangladesh Taka towards fostering growth and development of countryâ€™s productive resources in the best national interest. In order to achieve these objectives BB mainly (i) Conduct monetary policy and (ii) Regulates banks and NBFIs (Non-banking Financial Institution) to develop a sound financial system\n"
     ]
    }
   ],
   "source": [
    "for i in file_1:\n",
    "    print(i)   # prints all thee lines"
   ]
  },
  {
   "cell_type": "markdown",
   "id": "3d089611",
   "metadata": {},
   "source": [
    "<h3><font color=\"blue\">Writing Files with Open</font></h3>"
   ]
  },
  {
   "cell_type": "code",
   "execution_count": 15,
   "id": "b908a9b1",
   "metadata": {},
   "outputs": [],
   "source": [
    "file_2=open(\"file_2.txt\", \"w\")"
   ]
  },
  {
   "cell_type": "code",
   "execution_count": 16,
   "id": "e80a3418",
   "metadata": {},
   "outputs": [],
   "source": [
    "# using list elements to write into the .txt with loop\n",
    "\n",
    "lines=[\"1st line written using Python\\n\", \"2nd line written using Python \\n\", \"3rd line written using Python \\n\"]\n",
    "\n",
    "for i in lines:\n",
    "    file_2.write(i)"
   ]
  },
  {
   "cell_type": "code",
   "execution_count": 20,
   "id": "6ce946bc",
   "metadata": {},
   "outputs": [],
   "source": [
    "test_for_file_2 = open(\"file_2.txt\",\"r\")"
   ]
  },
  {
   "cell_type": "code",
   "execution_count": 22,
   "id": "4c2f5bed",
   "metadata": {},
   "outputs": [
    {
     "name": "stdout",
     "output_type": "stream",
     "text": [
      "2nd line written using Python \n",
      "\n",
      "3rd line written using Python \n",
      "\n",
      "1st line written using Python\n",
      "\n",
      "2nd line written using Python \n",
      "\n",
      "3rd line written using Python \n",
      "\n",
      "1st line written using Python\n",
      "\n",
      "2nd line written using Python \n",
      "\n",
      "3rd line written using Python \n",
      "\n"
     ]
    }
   ],
   "source": [
    "for i in test_for_file_2:\n",
    "    print(i)"
   ]
  },
  {
   "cell_type": "markdown",
   "id": "339b84d9",
   "metadata": {},
   "source": [
    "<h3><font color=\"blue\"> Loading Data with Pandas </font></h3>"
   ]
  },
  {
   "cell_type": "code",
   "execution_count": 12,
   "id": "c112f301",
   "metadata": {},
   "outputs": [],
   "source": [
    "# importing elements\n",
    "import pandas as pd"
   ]
  },
  {
   "cell_type": "markdown",
   "id": "d1897a4c",
   "metadata": {},
   "source": [
    "<h4> Reading CSV files </h4>\n",
    "<br>\n",
    "df = pd.read_csv(\"<font color=\"blue\">file_path/file.csv</font>\")<br>\n",
    "<font color=\"purple\">df.</font><font color=\"green\">head()</font><font color=\"white\">---</font> # examines or shows 1st 5 rows of the dataframe.\n",
    "<br>\n",
    "<br>\n",
    "<h4> Reading Excel files </h4>\n",
    "<br>\n",
    "df = pd.read_excel(\"<font color=\"blue\">file_path/file.xlsx</font>\")<br>\n",
    "<font color=\"purple\">df.</font><font color=\"green\">head()</font><font color=\"white\">---</font> # examines or shows 1st 5 rows of the dataframe.\n"
   ]
  },
  {
   "cell_type": "code",
   "execution_count": 13,
   "id": "2c937c93",
   "metadata": {},
   "outputs": [
    {
     "data": {
      "text/html": [
       "<div>\n",
       "<style scoped>\n",
       "    .dataframe tbody tr th:only-of-type {\n",
       "        vertical-align: middle;\n",
       "    }\n",
       "\n",
       "    .dataframe tbody tr th {\n",
       "        vertical-align: top;\n",
       "    }\n",
       "\n",
       "    .dataframe thead th {\n",
       "        text-align: right;\n",
       "    }\n",
       "</style>\n",
       "<table border=\"1\" class=\"dataframe\">\n",
       "  <thead>\n",
       "    <tr style=\"text-align: right;\">\n",
       "      <th></th>\n",
       "      <th>album</th>\n",
       "      <th>released</th>\n",
       "      <th>length</th>\n",
       "    </tr>\n",
       "  </thead>\n",
       "  <tbody>\n",
       "    <tr>\n",
       "      <th>0</th>\n",
       "      <td>thriller</td>\n",
       "      <td>1982</td>\n",
       "      <td>00:42:19</td>\n",
       "    </tr>\n",
       "    <tr>\n",
       "      <th>1</th>\n",
       "      <td>black in black</td>\n",
       "      <td>1980</td>\n",
       "      <td>00:42:11</td>\n",
       "    </tr>\n",
       "    <tr>\n",
       "      <th>2</th>\n",
       "      <td>the dark side of the moon</td>\n",
       "      <td>1973</td>\n",
       "      <td>00:42:49</td>\n",
       "    </tr>\n",
       "  </tbody>\n",
       "</table>\n",
       "</div>"
      ],
      "text/plain": [
       "                       album  released    length\n",
       "0                   thriller      1982  00:42:19\n",
       "1             black in black      1980  00:42:11\n",
       "2  the dark side of the moon      1973  00:42:49"
      ]
     },
     "execution_count": 13,
     "metadata": {},
     "output_type": "execute_result"
    }
   ],
   "source": [
    "# Creating dataframe\n",
    "\n",
    "songs={'album':['thriller', 'black in black', 'the dark side of the moon'],\n",
    "      'released':[1982, 1980, 1973],\n",
    "      'length':['00:42:19', '00:42:11', '00:42:49']}\n",
    "\n",
    "songs_df = pd.DataFrame(songs)\n",
    "\n",
    "songs_df"
   ]
  },
  {
   "cell_type": "code",
   "execution_count": 34,
   "id": "4ec4f356",
   "metadata": {},
   "outputs": [
    {
     "data": {
      "text/html": [
       "<div>\n",
       "<style scoped>\n",
       "    .dataframe tbody tr th:only-of-type {\n",
       "        vertical-align: middle;\n",
       "    }\n",
       "\n",
       "    .dataframe tbody tr th {\n",
       "        vertical-align: top;\n",
       "    }\n",
       "\n",
       "    .dataframe thead th {\n",
       "        text-align: right;\n",
       "    }\n",
       "</style>\n",
       "<table border=\"1\" class=\"dataframe\">\n",
       "  <thead>\n",
       "    <tr style=\"text-align: right;\">\n",
       "      <th></th>\n",
       "      <th>album</th>\n",
       "      <th>released</th>\n",
       "    </tr>\n",
       "  </thead>\n",
       "  <tbody>\n",
       "    <tr>\n",
       "      <th>0</th>\n",
       "      <td>thriller</td>\n",
       "      <td>1982</td>\n",
       "    </tr>\n",
       "    <tr>\n",
       "      <th>1</th>\n",
       "      <td>black in black</td>\n",
       "      <td>1980</td>\n",
       "    </tr>\n",
       "    <tr>\n",
       "      <th>2</th>\n",
       "      <td>the dark side of the moon</td>\n",
       "      <td>1973</td>\n",
       "    </tr>\n",
       "  </tbody>\n",
       "</table>\n",
       "</div>"
      ],
      "text/plain": [
       "                       album  released\n",
       "0                   thriller      1982\n",
       "1             black in black      1980\n",
       "2  the dark side of the moon      1973"
      ]
     },
     "execution_count": 34,
     "metadata": {},
     "output_type": "execute_result"
    }
   ],
   "source": [
    "# create new dataframe consisting selective columns form the data frame\n",
    "\n",
    "x=songs_df[['album', 'released']]\n",
    "\n",
    "x"
   ]
  },
  {
   "cell_type": "code",
   "execution_count": 29,
   "id": "ddaee144",
   "metadata": {},
   "outputs": [
    {
     "data": {
      "text/html": [
       "<div>\n",
       "<style scoped>\n",
       "    .dataframe tbody tr th:only-of-type {\n",
       "        vertical-align: middle;\n",
       "    }\n",
       "\n",
       "    .dataframe tbody tr th {\n",
       "        vertical-align: top;\n",
       "    }\n",
       "\n",
       "    .dataframe thead th {\n",
       "        text-align: right;\n",
       "    }\n",
       "</style>\n",
       "<table border=\"1\" class=\"dataframe\">\n",
       "  <thead>\n",
       "    <tr style=\"text-align: right;\">\n",
       "      <th></th>\n",
       "      <th>album</th>\n",
       "      <th>released</th>\n",
       "    </tr>\n",
       "  </thead>\n",
       "  <tbody>\n",
       "    <tr>\n",
       "      <th>0</th>\n",
       "      <td>thriller</td>\n",
       "      <td>1982</td>\n",
       "    </tr>\n",
       "    <tr>\n",
       "      <th>1</th>\n",
       "      <td>black in black</td>\n",
       "      <td>1980</td>\n",
       "    </tr>\n",
       "    <tr>\n",
       "      <th>2</th>\n",
       "      <td>the dark side of the moon</td>\n",
       "      <td>1973</td>\n",
       "    </tr>\n",
       "  </tbody>\n",
       "</table>\n",
       "</div>"
      ],
      "text/plain": [
       "                       album  released\n",
       "0                   thriller      1982\n",
       "1             black in black      1980\n",
       "2  the dark side of the moon      1973"
      ]
     },
     "execution_count": 29,
     "metadata": {},
     "output_type": "execute_result"
    }
   ],
   "source": [
    "# shows columns\n",
    "\n",
    "songs_df[['album', 'released']]"
   ]
  },
  {
   "cell_type": "code",
   "execution_count": 43,
   "id": "cb8f64b9",
   "metadata": {},
   "outputs": [
    {
     "data": {
      "text/plain": [
       "array([1982, 1980, 1973], dtype=int64)"
      ]
     },
     "execution_count": 43,
     "metadata": {},
     "output_type": "execute_result"
    }
   ],
   "source": [
    "songs_df['released'].unique()   # shows unique data from the column"
   ]
  },
  {
   "cell_type": "code",
   "execution_count": 51,
   "id": "3065c7fb",
   "metadata": {},
   "outputs": [
    {
     "data": {
      "text/html": [
       "<div>\n",
       "<style scoped>\n",
       "    .dataframe tbody tr th:only-of-type {\n",
       "        vertical-align: middle;\n",
       "    }\n",
       "\n",
       "    .dataframe tbody tr th {\n",
       "        vertical-align: top;\n",
       "    }\n",
       "\n",
       "    .dataframe thead th {\n",
       "        text-align: right;\n",
       "    }\n",
       "</style>\n",
       "<table border=\"1\" class=\"dataframe\">\n",
       "  <thead>\n",
       "    <tr style=\"text-align: right;\">\n",
       "      <th></th>\n",
       "      <th>x</th>\n",
       "      <th>y</th>\n",
       "    </tr>\n",
       "  </thead>\n",
       "  <tbody>\n",
       "    <tr>\n",
       "      <th>0</th>\n",
       "      <td>1</td>\n",
       "      <td>a</td>\n",
       "    </tr>\n",
       "    <tr>\n",
       "      <th>1</th>\n",
       "      <td>2</td>\n",
       "      <td>a</td>\n",
       "    </tr>\n",
       "    <tr>\n",
       "      <th>2</th>\n",
       "      <td>3</td>\n",
       "      <td>a</td>\n",
       "    </tr>\n",
       "    <tr>\n",
       "      <th>3</th>\n",
       "      <td>4</td>\n",
       "      <td>b</td>\n",
       "    </tr>\n",
       "    <tr>\n",
       "      <th>4</th>\n",
       "      <td>5</td>\n",
       "      <td>b</td>\n",
       "    </tr>\n",
       "    <tr>\n",
       "      <th>5</th>\n",
       "      <td>6</td>\n",
       "      <td>b</td>\n",
       "    </tr>\n",
       "    <tr>\n",
       "      <th>6</th>\n",
       "      <td>7</td>\n",
       "      <td>c</td>\n",
       "    </tr>\n",
       "    <tr>\n",
       "      <th>7</th>\n",
       "      <td>8</td>\n",
       "      <td>c</td>\n",
       "    </tr>\n",
       "    <tr>\n",
       "      <th>8</th>\n",
       "      <td>9</td>\n",
       "      <td>c</td>\n",
       "    </tr>\n",
       "  </tbody>\n",
       "</table>\n",
       "</div>"
      ],
      "text/plain": [
       "   x  y\n",
       "0  1  a\n",
       "1  2  a\n",
       "2  3  a\n",
       "3  4  b\n",
       "4  5  b\n",
       "5  6  b\n",
       "6  7  c\n",
       "7  8  c\n",
       "8  9  c"
      ]
     },
     "execution_count": 51,
     "metadata": {},
     "output_type": "execute_result"
    }
   ],
   "source": [
    "# creating a dataframe for filtering example\n",
    "set_df={'x':[1,2,3,4,5,6,7,8,9],\n",
    "    'y':['a','a','a','b','b','b','c','c','c']}\n",
    "\n",
    "df=pd.DataFrame(set_df)\n",
    "\n",
    "df"
   ]
  },
  {
   "cell_type": "code",
   "execution_count": 52,
   "id": "e8fe12c0",
   "metadata": {},
   "outputs": [
    {
     "data": {
      "text/plain": [
       "0     True\n",
       "1     True\n",
       "2     True\n",
       "3    False\n",
       "4    False\n",
       "5    False\n",
       "6    False\n",
       "7    False\n",
       "8    False\n",
       "Name: y, dtype: bool"
      ]
     },
     "execution_count": 52,
     "metadata": {},
     "output_type": "execute_result"
    }
   ],
   "source": [
    "# filtering where y column matches 'a'\n",
    "df['y']=='a'"
   ]
  },
  {
   "cell_type": "code",
   "execution_count": 55,
   "id": "7eea2836",
   "metadata": {},
   "outputs": [
    {
     "data": {
      "text/html": [
       "<div>\n",
       "<style scoped>\n",
       "    .dataframe tbody tr th:only-of-type {\n",
       "        vertical-align: middle;\n",
       "    }\n",
       "\n",
       "    .dataframe tbody tr th {\n",
       "        vertical-align: top;\n",
       "    }\n",
       "\n",
       "    .dataframe thead th {\n",
       "        text-align: right;\n",
       "    }\n",
       "</style>\n",
       "<table border=\"1\" class=\"dataframe\">\n",
       "  <thead>\n",
       "    <tr style=\"text-align: right;\">\n",
       "      <th></th>\n",
       "      <th>x</th>\n",
       "      <th>y</th>\n",
       "    </tr>\n",
       "  </thead>\n",
       "  <tbody>\n",
       "    <tr>\n",
       "      <th>0</th>\n",
       "      <td>1</td>\n",
       "      <td>a</td>\n",
       "    </tr>\n",
       "    <tr>\n",
       "      <th>1</th>\n",
       "      <td>2</td>\n",
       "      <td>a</td>\n",
       "    </tr>\n",
       "    <tr>\n",
       "      <th>2</th>\n",
       "      <td>3</td>\n",
       "      <td>a</td>\n",
       "    </tr>\n",
       "  </tbody>\n",
       "</table>\n",
       "</div>"
      ],
      "text/plain": [
       "   x  y\n",
       "0  1  a\n",
       "1  2  a\n",
       "2  3  a"
      ]
     },
     "execution_count": 55,
     "metadata": {},
     "output_type": "execute_result"
    }
   ],
   "source": [
    "# filtering data\n",
    "df[ df['y']=='a' ]"
   ]
  },
  {
   "cell_type": "code",
   "execution_count": 56,
   "id": "08ee6c54",
   "metadata": {},
   "outputs": [],
   "source": [
    "# saving the dataframe as CSV file\n",
    "\n",
    "df.to_csv('exp.csv')"
   ]
  },
  {
   "cell_type": "code",
   "execution_count": 61,
   "id": "82736b73",
   "metadata": {},
   "outputs": [
    {
     "data": {
      "text/html": [
       "<div>\n",
       "<style scoped>\n",
       "    .dataframe tbody tr th:only-of-type {\n",
       "        vertical-align: middle;\n",
       "    }\n",
       "\n",
       "    .dataframe tbody tr th {\n",
       "        vertical-align: top;\n",
       "    }\n",
       "\n",
       "    .dataframe thead th {\n",
       "        text-align: right;\n",
       "    }\n",
       "</style>\n",
       "<table border=\"1\" class=\"dataframe\">\n",
       "  <thead>\n",
       "    <tr style=\"text-align: right;\">\n",
       "      <th></th>\n",
       "      <th>Unnamed: 0</th>\n",
       "      <th>x</th>\n",
       "      <th>y</th>\n",
       "    </tr>\n",
       "  </thead>\n",
       "  <tbody>\n",
       "    <tr>\n",
       "      <th>0</th>\n",
       "      <td>0</td>\n",
       "      <td>1</td>\n",
       "      <td>a</td>\n",
       "    </tr>\n",
       "    <tr>\n",
       "      <th>1</th>\n",
       "      <td>1</td>\n",
       "      <td>2</td>\n",
       "      <td>a</td>\n",
       "    </tr>\n",
       "    <tr>\n",
       "      <th>2</th>\n",
       "      <td>2</td>\n",
       "      <td>3</td>\n",
       "      <td>a</td>\n",
       "    </tr>\n",
       "    <tr>\n",
       "      <th>3</th>\n",
       "      <td>3</td>\n",
       "      <td>4</td>\n",
       "      <td>b</td>\n",
       "    </tr>\n",
       "    <tr>\n",
       "      <th>4</th>\n",
       "      <td>4</td>\n",
       "      <td>5</td>\n",
       "      <td>b</td>\n",
       "    </tr>\n",
       "    <tr>\n",
       "      <th>5</th>\n",
       "      <td>5</td>\n",
       "      <td>6</td>\n",
       "      <td>b</td>\n",
       "    </tr>\n",
       "    <tr>\n",
       "      <th>6</th>\n",
       "      <td>6</td>\n",
       "      <td>7</td>\n",
       "      <td>c</td>\n",
       "    </tr>\n",
       "    <tr>\n",
       "      <th>7</th>\n",
       "      <td>7</td>\n",
       "      <td>8</td>\n",
       "      <td>c</td>\n",
       "    </tr>\n",
       "    <tr>\n",
       "      <th>8</th>\n",
       "      <td>8</td>\n",
       "      <td>9</td>\n",
       "      <td>c</td>\n",
       "    </tr>\n",
       "  </tbody>\n",
       "</table>\n",
       "</div>"
      ],
      "text/plain": [
       "   Unnamed: 0  x  y\n",
       "0           0  1  a\n",
       "1           1  2  a\n",
       "2           2  3  a\n",
       "3           3  4  b\n",
       "4           4  5  b\n",
       "5           5  6  b\n",
       "6           6  7  c\n",
       "7           7  8  c\n",
       "8           8  9  c"
      ]
     },
     "execution_count": 61,
     "metadata": {},
     "output_type": "execute_result"
    }
   ],
   "source": [
    "# reading the CSV file\n",
    "pd.read_csv('exp.csv')"
   ]
  },
  {
   "cell_type": "code",
   "execution_count": 73,
   "id": "671a2785",
   "metadata": {},
   "outputs": [
    {
     "data": {
      "text/plain": [
       "'b'"
      ]
     },
     "execution_count": 73,
     "metadata": {},
     "output_type": "execute_result"
    }
   ],
   "source": [
    "# extracting from a specific cell / finding value, method_1\n",
    "# dataframe.iat[row, column]\n",
    "# in the row and column, either index number of values can be given\n",
    "\n",
    "df.iat[4,1]"
   ]
  },
  {
   "cell_type": "code",
   "execution_count": 76,
   "id": "7febcbfb",
   "metadata": {},
   "outputs": [
    {
     "data": {
      "text/plain": [
       "'b'"
      ]
     },
     "execution_count": 76,
     "metadata": {},
     "output_type": "execute_result"
    }
   ],
   "source": [
    "# # extracting from a specific cell / finding value, method_2\n",
    "# dataframe.iloc[row][column]\n",
    "# in the row and column, either index number of values can be given\n",
    "\n",
    "df.iloc[4][1]"
   ]
  },
  {
   "cell_type": "code",
   "execution_count": 81,
   "id": "18d29c14",
   "metadata": {},
   "outputs": [
    {
     "data": {
      "text/html": [
       "<div>\n",
       "<style scoped>\n",
       "    .dataframe tbody tr th:only-of-type {\n",
       "        vertical-align: middle;\n",
       "    }\n",
       "\n",
       "    .dataframe tbody tr th {\n",
       "        vertical-align: top;\n",
       "    }\n",
       "\n",
       "    .dataframe thead th {\n",
       "        text-align: right;\n",
       "    }\n",
       "</style>\n",
       "<table border=\"1\" class=\"dataframe\">\n",
       "  <thead>\n",
       "    <tr style=\"text-align: right;\">\n",
       "      <th></th>\n",
       "      <th>x</th>\n",
       "      <th>y</th>\n",
       "    </tr>\n",
       "  </thead>\n",
       "  <tbody>\n",
       "    <tr>\n",
       "      <th>0</th>\n",
       "      <td>1</td>\n",
       "      <td>a</td>\n",
       "    </tr>\n",
       "    <tr>\n",
       "      <th>1</th>\n",
       "      <td>2</td>\n",
       "      <td>a</td>\n",
       "    </tr>\n",
       "    <tr>\n",
       "      <th>2</th>\n",
       "      <td>3</td>\n",
       "      <td>a</td>\n",
       "    </tr>\n",
       "    <tr>\n",
       "      <th>3</th>\n",
       "      <td>4</td>\n",
       "      <td>b</td>\n",
       "    </tr>\n",
       "    <tr>\n",
       "      <th>4</th>\n",
       "      <td>5</td>\n",
       "      <td>b</td>\n",
       "    </tr>\n",
       "  </tbody>\n",
       "</table>\n",
       "</div>"
      ],
      "text/plain": [
       "   x  y\n",
       "0  1  a\n",
       "1  2  a\n",
       "2  3  a\n",
       "3  4  b\n",
       "4  5  b"
      ]
     },
     "execution_count": 81,
     "metadata": {},
     "output_type": "execute_result"
    }
   ],
   "source": [
    "# filtering data from dataframe\n",
    "\n",
    "df.loc[df.x <= 5]"
   ]
  },
  {
   "cell_type": "code",
   "execution_count": 100,
   "id": "0fc096e8",
   "metadata": {},
   "outputs": [
    {
     "data": {
      "text/plain": [
       "0    a\n",
       "1    a\n",
       "2    a\n",
       "3    b\n",
       "4    b\n",
       "Name: y, dtype: object"
      ]
     },
     "execution_count": 100,
     "metadata": {},
     "output_type": "execute_result"
    }
   ],
   "source": [
    "# filtering data from dataframe and showing corresponding column's element\n",
    "\n",
    "df.loc[df.x <= 5, 'y']"
   ]
  },
  {
   "cell_type": "code",
   "execution_count": 87,
   "id": "47fe6719",
   "metadata": {},
   "outputs": [
    {
     "data": {
      "text/plain": [
       "['a', 'a', 'a', 'b', 'b']"
      ]
     },
     "execution_count": 87,
     "metadata": {},
     "output_type": "execute_result"
    }
   ],
   "source": [
    "# filtering data from dataframe and showing corresponding column's element\n",
    "# output shows as list with .tolist() function\n",
    "\n",
    "df.loc[df.x <= 5, 'y'].tolist()"
   ]
  },
  {
   "cell_type": "markdown",
   "id": "6e370524",
   "metadata": {},
   "source": [
    "<h3><font color=\"blue\">Numpy 1D Array</font></h3>"
   ]
  },
  {
   "cell_type": "code",
   "execution_count": 1,
   "id": "63b41a50",
   "metadata": {},
   "outputs": [],
   "source": [
    "# importing package\n",
    "\n",
    "import numpy as np"
   ]
  },
  {
   "cell_type": "code",
   "execution_count": 2,
   "id": "5f1a3dab",
   "metadata": {},
   "outputs": [
    {
     "data": {
      "text/plain": [
       "3"
      ]
     },
     "execution_count": 2,
     "metadata": {},
     "output_type": "execute_result"
    }
   ],
   "source": [
    "# creating a numpy array\n",
    "\n",
    "a=np.array([0,1,2,3,4,])\n",
    "\n",
    "a[3]"
   ]
  },
  {
   "cell_type": "code",
   "execution_count": 5,
   "id": "08d54798",
   "metadata": {},
   "outputs": [
    {
     "data": {
      "text/plain": [
       "numpy.ndarray"
      ]
     },
     "execution_count": 5,
     "metadata": {},
     "output_type": "execute_result"
    }
   ],
   "source": [
    "type(a)"
   ]
  },
  {
   "cell_type": "code",
   "execution_count": 105,
   "id": "7cea13d3",
   "metadata": {},
   "outputs": [
    {
     "data": {
      "text/plain": [
       "numpy.ndarray"
      ]
     },
     "execution_count": 105,
     "metadata": {},
     "output_type": "execute_result"
    }
   ],
   "source": [
    "type(a)   # checking datatype"
   ]
  },
  {
   "cell_type": "code",
   "execution_count": 107,
   "id": "b45b3c86",
   "metadata": {},
   "outputs": [
    {
     "data": {
      "text/plain": [
       "dtype('int32')"
      ]
     },
     "execution_count": 107,
     "metadata": {},
     "output_type": "execute_result"
    }
   ],
   "source": [
    "a.dtype   # another method of checking datatype"
   ]
  },
  {
   "cell_type": "code",
   "execution_count": 109,
   "id": "48fcc80d",
   "metadata": {},
   "outputs": [
    {
     "data": {
      "text/plain": [
       "5"
      ]
     },
     "execution_count": 109,
     "metadata": {},
     "output_type": "execute_result"
    }
   ],
   "source": [
    "a.size   # checking the size"
   ]
  },
  {
   "cell_type": "code",
   "execution_count": 111,
   "id": "e11a35fb",
   "metadata": {},
   "outputs": [
    {
     "data": {
      "text/plain": [
       "1"
      ]
     },
     "execution_count": 111,
     "metadata": {},
     "output_type": "execute_result"
    }
   ],
   "source": [
    "a.ndim   # checking the dimentino "
   ]
  },
  {
   "cell_type": "code",
   "execution_count": 113,
   "id": "9e62ec78",
   "metadata": {},
   "outputs": [
    {
     "data": {
      "text/plain": [
       "(5,)"
      ]
     },
     "execution_count": 113,
     "metadata": {},
     "output_type": "execute_result"
    }
   ],
   "source": [
    "a.shape   # tuple of integers indicating thee size of the array"
   ]
  },
  {
   "cell_type": "code",
   "execution_count": 116,
   "id": "3aa0e7bf",
   "metadata": {},
   "outputs": [
    {
     "data": {
      "text/plain": [
       "numpy.ndarray"
      ]
     },
     "execution_count": 116,
     "metadata": {},
     "output_type": "execute_result"
    }
   ],
   "source": [
    "# practicing with floating numbers\n",
    "b=np.array([3.1,11.02,6.2,213.2,5.2])\n",
    "\n",
    "type(b)"
   ]
  },
  {
   "cell_type": "code",
   "execution_count": 115,
   "id": "77a6ba7d",
   "metadata": {},
   "outputs": [
    {
     "data": {
      "text/plain": [
       "dtype('float64')"
      ]
     },
     "execution_count": 115,
     "metadata": {},
     "output_type": "execute_result"
    }
   ],
   "source": [
    "b.dtype"
   ]
  },
  {
   "cell_type": "code",
   "execution_count": 117,
   "id": "2ea856fd",
   "metadata": {},
   "outputs": [
    {
     "data": {
      "text/plain": [
       "array([20,  1,  2,  3,  4])"
      ]
     },
     "execution_count": 117,
     "metadata": {},
     "output_type": "execute_result"
    }
   ],
   "source": [
    "# practing with Numpy indexing\n",
    "c=np.array([20,1,2,3,4])\n",
    "\n",
    "c"
   ]
  },
  {
   "cell_type": "code",
   "execution_count": 119,
   "id": "74b462c3",
   "metadata": {},
   "outputs": [
    {
     "data": {
      "text/plain": [
       "array([100,   1,   2,   3,   4])"
      ]
     },
     "execution_count": 119,
     "metadata": {},
     "output_type": "execute_result"
    }
   ],
   "source": [
    "c[0]=100   # replacing 100 with 20, into the 0 index\n",
    "\n",
    "c"
   ]
  },
  {
   "cell_type": "code",
   "execution_count": 121,
   "id": "eded1f71",
   "metadata": {},
   "outputs": [
    {
     "data": {
      "text/plain": [
       "array([100,   1,   2,   3,   0])"
      ]
     },
     "execution_count": 121,
     "metadata": {},
     "output_type": "execute_result"
    }
   ],
   "source": [
    "c[4]=0   # replacing 0 with 4, into the 4 index\n",
    "\n",
    "c"
   ]
  },
  {
   "cell_type": "code",
   "execution_count": 124,
   "id": "f2be8756",
   "metadata": {},
   "outputs": [
    {
     "data": {
      "text/plain": [
       "array([1, 2, 3])"
      ]
     },
     "execution_count": 124,
     "metadata": {},
     "output_type": "execute_result"
    }
   ],
   "source": [
    "# slicing a Numpy array\n",
    "\n",
    "d=c[1:4]\n",
    "\n",
    "d"
   ]
  },
  {
   "cell_type": "code",
   "execution_count": 128,
   "id": "61b56352",
   "metadata": {},
   "outputs": [
    {
     "data": {
      "text/plain": [
       "array([ 1, 11, 22])"
      ]
     },
     "execution_count": 128,
     "metadata": {},
     "output_type": "execute_result"
    }
   ],
   "source": [
    "d[1:3]=11,22\n",
    "\n",
    "d"
   ]
  },
  {
   "cell_type": "markdown",
   "id": "43291e16",
   "metadata": {},
   "source": [
    "<h4>Vector Addition and Subtraction</h4>"
   ]
  },
  {
   "cell_type": "code",
   "execution_count": 131,
   "id": "b52bb2b5",
   "metadata": {},
   "outputs": [
    {
     "data": {
      "text/plain": [
       "[1, 1]"
      ]
     },
     "execution_count": 131,
     "metadata": {},
     "output_type": "execute_result"
    }
   ],
   "source": [
    "# performing vector addition\n",
    "\n",
    "u=[1,0]\n",
    "v=[0,1]\n",
    "\n",
    "z=[]\n",
    "\n",
    "for i_1, i_2 in zip(u, v):\n",
    "    z.append(i_1 + i_2)\n",
    "    \n",
    "z"
   ]
  },
  {
   "cell_type": "code",
   "execution_count": 132,
   "id": "73120d50",
   "metadata": {},
   "outputs": [
    {
     "data": {
      "text/plain": [
       "[1, -1]"
      ]
     },
     "execution_count": 132,
     "metadata": {},
     "output_type": "execute_result"
    }
   ],
   "source": [
    "# performing vector subtraction\n",
    "\n",
    "u=[1,0]\n",
    "v=[0,1]\n",
    "\n",
    "z=[]\n",
    "\n",
    "for i_1, i_2 in zip(u, v):\n",
    "    z.append(i_1 - i_2)\n",
    "    \n",
    "z"
   ]
  },
  {
   "cell_type": "markdown",
   "id": "ee154ced",
   "metadata": {},
   "source": [
    "<h4>Array Multiplication with a Scalar</h4>"
   ]
  },
  {
   "cell_type": "code",
   "execution_count": 133,
   "id": "8fe57119",
   "metadata": {},
   "outputs": [
    {
     "data": {
      "text/plain": [
       "array([2, 4])"
      ]
     },
     "execution_count": 133,
     "metadata": {},
     "output_type": "execute_result"
    }
   ],
   "source": [
    "# multiplication, method_1\n",
    "\n",
    "y=np.array([1,2])\n",
    "\n",
    "z=2*y\n",
    "\n",
    "z"
   ]
  },
  {
   "cell_type": "code",
   "execution_count": 136,
   "id": "859f6098",
   "metadata": {},
   "outputs": [
    {
     "data": {
      "text/plain": [
       "[2, 4]"
      ]
     },
     "execution_count": 136,
     "metadata": {},
     "output_type": "execute_result"
    }
   ],
   "source": [
    "# multiplication, method_2, lengthy, and not preffered, as it's slower\n",
    "\n",
    "y=[1,2]\n",
    "z=[]\n",
    "\n",
    "for i in y:\n",
    "    z.append(2*i)\n",
    "    \n",
    "z"
   ]
  },
  {
   "cell_type": "markdown",
   "id": "66572188",
   "metadata": {},
   "source": [
    "<h4>Product of Two Numpy Arrays</h4>"
   ]
  },
  {
   "cell_type": "code",
   "execution_count": 139,
   "id": "96575ee5",
   "metadata": {},
   "outputs": [
    {
     "data": {
      "text/plain": [
       "array([3, 4])"
      ]
     },
     "execution_count": 139,
     "metadata": {},
     "output_type": "execute_result"
    }
   ],
   "source": [
    "# Multiplication of Multiple Vectors, method_1\n",
    "\n",
    "u=np.array([1,2])\n",
    "v=np.array([3,2])\n",
    "\n",
    "z=u*v\n",
    "\n",
    "z"
   ]
  },
  {
   "cell_type": "code",
   "execution_count": 141,
   "id": "61e857f9",
   "metadata": {},
   "outputs": [
    {
     "data": {
      "text/plain": [
       "[3, 4]"
      ]
     },
     "execution_count": 141,
     "metadata": {},
     "output_type": "execute_result"
    }
   ],
   "source": [
    "# Multiplication, method_2, not preffered, as it's slower\n",
    "\n",
    "u=[1,2]\n",
    "v=[3,2]\n",
    "z=[]\n",
    "\n",
    "for i_1, i_2 in zip(u,v):\n",
    "    z.append(i_1 * i_2)\n",
    "    \n",
    "z"
   ]
  },
  {
   "cell_type": "markdown",
   "id": "172cbb23",
   "metadata": {},
   "source": [
    "<h4>Dot Product</h4>\n",
    "At first, multiplies the corresponding columns, then makes addition"
   ]
  },
  {
   "cell_type": "code",
   "execution_count": 145,
   "id": "2224784d",
   "metadata": {},
   "outputs": [
    {
     "data": {
      "text/plain": [
       "-1"
      ]
     },
     "execution_count": 145,
     "metadata": {},
     "output_type": "execute_result"
    }
   ],
   "source": [
    "u=np.array([1,2,3])\n",
    "v=np.array([3,1,-2])\n",
    "\n",
    "result=np.dot(u,v)\n",
    "\n",
    "result"
   ]
  },
  {
   "cell_type": "markdown",
   "id": "97e6db8f",
   "metadata": {},
   "source": [
    "<h4>Adding Constant to an Numpy Array</h4>"
   ]
  },
  {
   "cell_type": "code",
   "execution_count": 148,
   "id": "771d3510",
   "metadata": {},
   "outputs": [
    {
     "data": {
      "text/plain": [
       "array([2, 3, 4, 0])"
      ]
     },
     "execution_count": 148,
     "metadata": {},
     "output_type": "execute_result"
    }
   ],
   "source": [
    "u=np.array([1,2,3,-1])\n",
    "\n",
    "z=u+1   # the result is given using broadcasting\n",
    "\n",
    "z"
   ]
  },
  {
   "cell_type": "markdown",
   "id": "00f5a296",
   "metadata": {},
   "source": [
    "<h4>Universal Functions</h4>\n",
    "Operated in nd arrays"
   ]
  },
  {
   "cell_type": "code",
   "execution_count": 151,
   "id": "d1dd9d8e",
   "metadata": {},
   "outputs": [
    {
     "data": {
      "text/plain": [
       "0.0"
      ]
     },
     "execution_count": 151,
     "metadata": {},
     "output_type": "execute_result"
    }
   ],
   "source": [
    "# fetching average value, or mean\n",
    "\n",
    "a=np.array([1,-1,1,-1])\n",
    "\n",
    "a.mean()"
   ]
  },
  {
   "cell_type": "code",
   "execution_count": 152,
   "id": "0216c127",
   "metadata": {},
   "outputs": [
    {
     "data": {
      "text/plain": [
       "576"
      ]
     },
     "execution_count": 152,
     "metadata": {},
     "output_type": "execute_result"
    }
   ],
   "source": [
    "# fetching the maximum value\n",
    "\n",
    "b=np.array([346,6,456,6,6,7,8,9,567,576])\n",
    "\n",
    "b.max()"
   ]
  },
  {
   "cell_type": "code",
   "execution_count": 153,
   "id": "15105f90",
   "metadata": {},
   "outputs": [
    {
     "data": {
      "text/plain": [
       "3.141592653589793"
      ]
     },
     "execution_count": 153,
     "metadata": {},
     "output_type": "execute_result"
    }
   ],
   "source": [
    "# value of pi\n",
    "np.pi"
   ]
  },
  {
   "cell_type": "code",
   "execution_count": 159,
   "id": "91a54d2d",
   "metadata": {},
   "outputs": [
    {
     "data": {
      "text/plain": [
       "array([-0.63585993, -0.8559934 ,  2.23716094])"
      ]
     },
     "execution_count": 159,
     "metadata": {},
     "output_type": "execute_result"
    }
   ],
   "source": [
    "# trigonomitrical operator's operaton\n",
    "x=[12,15,20]\n",
    "\n",
    "np.tan(x)"
   ]
  },
  {
   "cell_type": "markdown",
   "id": "74d2cdae",
   "metadata": {},
   "source": [
    "<h4>.linspace()</h4>"
   ]
  },
  {
   "cell_type": "code",
   "execution_count": 162,
   "id": "75669491",
   "metadata": {},
   "outputs": [
    {
     "data": {
      "text/plain": [
       "array([-2., -1.,  0.,  1.,  2.])"
      ]
     },
     "execution_count": 162,
     "metadata": {},
     "output_type": "execute_result"
    }
   ],
   "source": [
    "np.linspace(-2, 2, num=5)   # 5 evenly spaced numbers, from -2 to 2"
   ]
  },
  {
   "cell_type": "code",
   "execution_count": 165,
   "id": "80e6eef1",
   "metadata": {},
   "outputs": [
    {
     "data": {
      "text/plain": [
       "array([-2. , -1.5, -1. , -0.5,  0. ,  0.5,  1. ,  1.5,  2. ])"
      ]
     },
     "execution_count": 165,
     "metadata": {},
     "output_type": "execute_result"
    }
   ],
   "source": [
    "np.linspace(-2, 2, num=9)   # 9 evenly spaced numbers, from -2 to 2"
   ]
  },
  {
   "cell_type": "code",
   "execution_count": 169,
   "id": "bdc1fdb4",
   "metadata": {},
   "outputs": [
    {
     "data": {
      "text/plain": [
       "array([0.        , 0.06346652, 0.12693304, 0.19039955, 0.25386607,\n",
       "       0.31733259, 0.38079911, 0.44426563, 0.50773215, 0.57119866,\n",
       "       0.63466518, 0.6981317 , 0.76159822, 0.82506474, 0.88853126,\n",
       "       0.95199777, 1.01546429, 1.07893081, 1.14239733, 1.20586385,\n",
       "       1.26933037, 1.33279688, 1.3962634 , 1.45972992, 1.52319644,\n",
       "       1.58666296, 1.65012947, 1.71359599, 1.77706251, 1.84052903,\n",
       "       1.90399555, 1.96746207, 2.03092858, 2.0943951 , 2.15786162,\n",
       "       2.22132814, 2.28479466, 2.34826118, 2.41172769, 2.47519421,\n",
       "       2.53866073, 2.60212725, 2.66559377, 2.72906028, 2.7925268 ,\n",
       "       2.85599332, 2.91945984, 2.98292636, 3.04639288, 3.10985939,\n",
       "       3.17332591, 3.23679243, 3.30025895, 3.36372547, 3.42719199,\n",
       "       3.4906585 , 3.55412502, 3.61759154, 3.68105806, 3.74452458,\n",
       "       3.8079911 , 3.87145761, 3.93492413, 3.99839065, 4.06185717,\n",
       "       4.12532369, 4.1887902 , 4.25225672, 4.31572324, 4.37918976,\n",
       "       4.44265628, 4.5061228 , 4.56958931, 4.63305583, 4.69652235,\n",
       "       4.75998887, 4.82345539, 4.88692191, 4.95038842, 5.01385494,\n",
       "       5.07732146, 5.14078798, 5.2042545 , 5.26772102, 5.33118753,\n",
       "       5.39465405, 5.45812057, 5.52158709, 5.58505361, 5.64852012,\n",
       "       5.71198664, 5.77545316, 5.83891968, 5.9023862 , 5.96585272,\n",
       "       6.02931923, 6.09278575, 6.15625227, 6.21971879, 6.28318531])"
      ]
     },
     "execution_count": 169,
     "metadata": {},
     "output_type": "execute_result"
    }
   ],
   "source": [
    "theta=np.linspace(0,2*np.pi, 100) # 100 samples from 0 to 2*pi\n",
    "\n",
    "theta"
   ]
  },
  {
   "cell_type": "code",
   "execution_count": 174,
   "id": "49029728",
   "metadata": {},
   "outputs": [
    {
     "data": {
      "text/plain": [
       "array([ 0.00000000e+00,  6.34239197e-02,  1.26592454e-01,  1.89251244e-01,\n",
       "        2.51147987e-01,  3.12033446e-01,  3.71662456e-01,  4.29794912e-01,\n",
       "        4.86196736e-01,  5.40640817e-01,  5.92907929e-01,  6.42787610e-01,\n",
       "        6.90079011e-01,  7.34591709e-01,  7.76146464e-01,  8.14575952e-01,\n",
       "        8.49725430e-01,  8.81453363e-01,  9.09631995e-01,  9.34147860e-01,\n",
       "        9.54902241e-01,  9.71811568e-01,  9.84807753e-01,  9.93838464e-01,\n",
       "        9.98867339e-01,  9.99874128e-01,  9.96854776e-01,  9.89821442e-01,\n",
       "        9.78802446e-01,  9.63842159e-01,  9.45000819e-01,  9.22354294e-01,\n",
       "        8.95993774e-01,  8.66025404e-01,  8.32569855e-01,  7.95761841e-01,\n",
       "        7.55749574e-01,  7.12694171e-01,  6.66769001e-01,  6.18158986e-01,\n",
       "        5.67059864e-01,  5.13677392e-01,  4.58226522e-01,  4.00930535e-01,\n",
       "        3.42020143e-01,  2.81732557e-01,  2.20310533e-01,  1.58001396e-01,\n",
       "        9.50560433e-02,  3.17279335e-02, -3.17279335e-02, -9.50560433e-02,\n",
       "       -1.58001396e-01, -2.20310533e-01, -2.81732557e-01, -3.42020143e-01,\n",
       "       -4.00930535e-01, -4.58226522e-01, -5.13677392e-01, -5.67059864e-01,\n",
       "       -6.18158986e-01, -6.66769001e-01, -7.12694171e-01, -7.55749574e-01,\n",
       "       -7.95761841e-01, -8.32569855e-01, -8.66025404e-01, -8.95993774e-01,\n",
       "       -9.22354294e-01, -9.45000819e-01, -9.63842159e-01, -9.78802446e-01,\n",
       "       -9.89821442e-01, -9.96854776e-01, -9.99874128e-01, -9.98867339e-01,\n",
       "       -9.93838464e-01, -9.84807753e-01, -9.71811568e-01, -9.54902241e-01,\n",
       "       -9.34147860e-01, -9.09631995e-01, -8.81453363e-01, -8.49725430e-01,\n",
       "       -8.14575952e-01, -7.76146464e-01, -7.34591709e-01, -6.90079011e-01,\n",
       "       -6.42787610e-01, -5.92907929e-01, -5.40640817e-01, -4.86196736e-01,\n",
       "       -4.29794912e-01, -3.71662456e-01, -3.12033446e-01, -2.51147987e-01,\n",
       "       -1.89251244e-01, -1.26592454e-01, -6.34239197e-02, -2.44929360e-16])"
      ]
     },
     "execution_count": 174,
     "metadata": {},
     "output_type": "execute_result"
    }
   ],
   "source": [
    "sin_theta=np.sin(theta)   # generating sin value of theta array\n",
    "\n",
    "sin_theta"
   ]
  },
  {
   "cell_type": "code",
   "execution_count": 176,
   "id": "6979d30c",
   "metadata": {},
   "outputs": [
    {
     "data": {
      "text/plain": [
       "[<matplotlib.lines.Line2D at 0x169d9d3baf0>]"
      ]
     },
     "execution_count": 176,
     "metadata": {},
     "output_type": "execute_result"
    },
    {
     "data": {
      "image/png": "[encoded data removed]",
      "text/plain": [
       "<Figure size 432x288 with 1 Axes>"
      ]
     },
     "metadata": {
      "needs_background": "light"
     },
     "output_type": "display_data"
    }
   ],
   "source": [
    "# importing matplotlib for plotting \n",
    "import matplotlib.pyplot as plt\n",
    "%matplotlib inline\n",
    "\n",
    "# plotting theta and sin_theta\n",
    "plt.plot(theta, sin_theta)"
   ]
  },
  {
   "cell_type": "markdown",
   "id": "ed327240",
   "metadata": {},
   "source": [
    "<h3><font color=\"blue\">Numpy 2D Array</font></h3>"
   ]
  },
  {
   "cell_type": "code",
   "execution_count": 181,
   "id": "b0968279",
   "metadata": {},
   "outputs": [
    {
     "data": {
      "text/plain": [
       "array([[11, 12, 13],\n",
       "       [21, 22, 23],\n",
       "       [31, 32, 33]])"
      ]
     },
     "execution_count": 181,
     "metadata": {},
     "output_type": "execute_result"
    }
   ],
   "source": [
    "a=[[11,12,13], [21,22,23], [31,32,33]]\n",
    "\n",
    "A=np.array(a)\n",
    "\n",
    "A"
   ]
  },
  {
   "cell_type": "code",
   "execution_count": 182,
   "id": "11897297",
   "metadata": {},
   "outputs": [
    {
     "data": {
      "text/plain": [
       "2"
      ]
     },
     "execution_count": 182,
     "metadata": {},
     "output_type": "execute_result"
    }
   ],
   "source": [
    "A.ndim   # shows number of dimention"
   ]
  },
  {
   "cell_type": "code",
   "execution_count": 185,
   "id": "3dc65e73",
   "metadata": {},
   "outputs": [
    {
     "data": {
      "text/plain": [
       "(3, 3)"
      ]
     },
     "execution_count": 185,
     "metadata": {},
     "output_type": "execute_result"
    }
   ],
   "source": [
    "A.shape   # returns the tuple, (nested_list, elements_of_each_lists)"
   ]
  },
  {
   "cell_type": "code",
   "execution_count": 186,
   "id": "9731c32f",
   "metadata": {},
   "outputs": [
    {
     "data": {
      "text/plain": [
       "9"
      ]
     },
     "execution_count": 186,
     "metadata": {},
     "output_type": "execute_result"
    }
   ],
   "source": [
    "A.size   # shows the size, elements"
   ]
  },
  {
   "cell_type": "markdown",
   "id": "8be484d2",
   "metadata": {},
   "source": [
    "Indexing<br>\n",
    "A[0][0]---<font color=\"green\">A[0][1]</font>---A[0][2]<br>\n",
    "A[1][0]---<font color=\"green\">A[1][1]</font>---A[1][2]<br>\n",
    "A[2][0]---<font color=\"green\">A[2][1]</font>---A[2][2] "
   ]
  },
  {
   "cell_type": "code",
   "execution_count": 188,
   "id": "2024ad31",
   "metadata": {},
   "outputs": [
    {
     "data": {
      "text/plain": [
       "22"
      ]
     },
     "execution_count": 188,
     "metadata": {},
     "output_type": "execute_result"
    }
   ],
   "source": [
    "# selecting certain element\n",
    "\n",
    "A[1][1]"
   ]
  },
  {
   "cell_type": "code",
   "execution_count": 193,
   "id": "d42e270c",
   "metadata": {},
   "outputs": [
    {
     "data": {
      "text/plain": [
       "array([[11, 12],\n",
       "       [21, 22]])"
      ]
     },
     "execution_count": 193,
     "metadata": {},
     "output_type": "execute_result"
    }
   ],
   "source": [
    "# slicing elements\n",
    "\n",
    "A[0:2, 0:2]   # 1st and 2nd row, 1st and 2nd column"
   ]
  },
  {
   "cell_type": "code",
   "execution_count": 200,
   "id": "ed47a38b",
   "metadata": {},
   "outputs": [],
   "source": [
    "import numpy as np"
   ]
  },
  {
   "cell_type": "code",
   "execution_count": 202,
   "id": "c3bc0f95",
   "metadata": {},
   "outputs": [
    {
     "data": {
      "text/plain": [
       "array([[4, 4],\n",
       "       [6, 6]])"
      ]
     },
     "execution_count": 202,
     "metadata": {},
     "output_type": "execute_result"
    }
   ],
   "source": [
    "# adding matrix\n",
    "X=np.array([[1,1],[2,2]])\n",
    "Y=np.array([[3,3],[4,4]])\n",
    "\n",
    "Z=X+Y\n",
    "\n",
    "Z"
   ]
  },
  {
   "cell_type": "code",
   "execution_count": 204,
   "id": "2f1c4294",
   "metadata": {},
   "outputs": [
    {
     "data": {
      "text/plain": [
       "array([[6, 6],\n",
       "       [8, 8]])"
      ]
     },
     "execution_count": 204,
     "metadata": {},
     "output_type": "execute_result"
    }
   ],
   "source": [
    "# scaler multiplication\n",
    "2*Y"
   ]
  },
  {
   "cell_type": "code",
   "execution_count": 205,
   "id": "69c10d18",
   "metadata": {},
   "outputs": [
    {
     "data": {
      "text/plain": [
       "array([[3, 3],\n",
       "       [8, 8]])"
      ]
     },
     "execution_count": 205,
     "metadata": {},
     "output_type": "execute_result"
    }
   ],
   "source": [
    "# multiplication\n",
    "X*Y"
   ]
  },
  {
   "cell_type": "code",
   "execution_count": 207,
   "id": "024bc9fc",
   "metadata": {},
   "outputs": [
    {
     "data": {
      "text/plain": [
       "array([[0, 2],\n",
       "       [0, 2]])"
      ]
     },
     "execution_count": 207,
     "metadata": {},
     "output_type": "execute_result"
    }
   ],
   "source": [
    "#matrix multiplication\n",
    "\n",
    "P=np.array([[0,1,1],[1,0,1]])\n",
    "Q=np.array([[1,1],[1,1],[-1,1]])\n",
    "\n",
    "np.dot(P, Q)"
   ]
  },
  {
   "cell_type": "markdown",
   "id": "c5307843",
   "metadata": {},
   "source": [
    "<h3><font color=\"blue\">HTTP and Requests</font></h3>"
   ]
  },
  {
   "cell_type": "code",
   "execution_count": 3,
   "id": "5ca52843",
   "metadata": {},
   "outputs": [],
   "source": [
    "# requests is a Python Library, allows to send HTTP/1.1 requests\n",
    "\n",
    "import requests"
   ]
  },
  {
   "cell_type": "code",
   "execution_count": 5,
   "id": "55e757a6",
   "metadata": {},
   "outputs": [],
   "source": [
    "# following libraries are required\n",
    "\n",
    "import os \n",
    "from PIL import Image\n",
    "from IPython.display import IFrame"
   ]
  },
  {
   "cell_type": "code",
   "execution_count": 14,
   "id": "9805e0cb",
   "metadata": {},
   "outputs": [],
   "source": [
    "# Get a request via the method get to www.ibm.com\n",
    "\n",
    "url='https://www.bbc.com/'\n",
    "r=requests.get(url)"
   ]
  },
  {
   "cell_type": "code",
   "execution_count": 15,
   "id": "0cb03275",
   "metadata": {},
   "outputs": [
    {
     "data": {
      "text/plain": [
       "200"
      ]
     },
     "execution_count": 15,
     "metadata": {},
     "output_type": "execute_result"
    }
   ],
   "source": [
    "# checking the status code\n",
    "\n",
    "r.status_code"
   ]
  },
  {
   "cell_type": "code",
   "execution_count": 16,
   "id": "f1e670c8",
   "metadata": {},
   "outputs": [
    {
     "name": "stdout",
     "output_type": "stream",
     "text": [
      "{'User-Agent': 'python-requests/2.26.0', 'Accept-Encoding': 'gzip, deflate, br', 'Accept': '*/*', 'Connection': 'keep-alive'}\n"
     ]
    }
   ],
   "source": [
    "# Viewing request headers\n",
    "\n",
    "print(r.request.headers)"
   ]
  },
  {
   "cell_type": "code",
   "execution_count": 17,
   "id": "19545c93",
   "metadata": {},
   "outputs": [
    {
     "name": "stdout",
     "output_type": "stream",
     "text": [
      "request body: None\n"
     ]
    }
   ],
   "source": [
    "# Viewing request body\n",
    "\n",
    "print(\"request body:\", r.request.body)"
   ]
  },
  {
   "cell_type": "code",
   "execution_count": 20,
   "id": "0adc6cfc",
   "metadata": {},
   "outputs": [
    {
     "name": "stdout",
     "output_type": "stream",
     "text": [
      "{'Connection': 'keep-alive', 'Content-Length': '46671', 'Content-Type': 'text/html; charset=UTF-8', 'Cache-Control': 'public, max-age=60, stale-if-error=90, stale-while-revalidate=30', 'ETag': 'W/\"3fdd6f603147c4d345361a96d6f368e0\"', 'Content-Encoding': 'gzip', 'Via': '1.1 BBC-GTM, 1.1 569d1c431d473cc631a7da026d9efbf2.cloudfront.net (CloudFront), 1.1 varnish', 'X-Amz-Cf-Pop': 'LHR61-P3', 'X-Amz-Cf-Id': 's10Ys-mhz8_EC6AQ6zNt5AdUkAggZBJv1TreSX5AYGSGwjnIHIaBVQ==', 'nel': '{\"report_to\":\"default\",\"max_age\":2592000,\"include_subdomains\":true,\"failure_fraction\":0.05}', 'req-svc-chain': 'FASTLY,GTM', 'X-BBC-Edge-Cache-Status': 'EXPIRED', 'X-BBC-Origin-Response-Status': '200', 'report-to': '{\"group\":\"default\",\"max_age\":2592000,\"endpoints\":[{\"url\":\"https://europe-west1-bbc-otg-traf-mgr-bq-prod-4591.cloudfunctions.net/report-endpoint\",\"priority\":1}],\"include_subdomains\":true}', 'Server': 'BBC-GTM', 'Fastly-Restarts': '1', 'Accept-Ranges': 'bytes', 'Date': 'Wed, 12 Jan 2022 07:29:46 GMT', 'Age': '36', 'X-Fastly-Cache-Status': 'HIT-CLUSTER', 'X-Served-By': 'cache-qpg1256-QPG', 'X-Cache': 'Miss from cloudfront, HIT', 'X-Cache-Hits': '1', 'X-Timer': 'S1641972586.471582,VS0,VE5', 'X-LB-NoCache': 'true', 'Vary': 'X-BBC-Edge-Scheme,Accept-Encoding'}\n"
     ]
    }
   ],
   "source": [
    "# Viewing HTTP response header using the atribute headers\n",
    "\n",
    "header=r.headers\n",
    "print(header)"
   ]
  },
  {
   "cell_type": "code",
   "execution_count": 31,
   "id": "4c7d521a",
   "metadata": {},
   "outputs": [
    {
     "data": {
      "text/plain": [
       "'Wed, 12 Jan 2022 07:29:46 GMT'"
      ]
     },
     "execution_count": 31,
     "metadata": {},
     "output_type": "execute_result"
    }
   ],
   "source": [
    "# obtaining the date, the request was sent using the key\n",
    "\n",
    "header['date']"
   ]
  },
  {
   "cell_type": "code",
   "execution_count": 32,
   "id": "03c169cc",
   "metadata": {},
   "outputs": [
    {
     "data": {
      "text/plain": [
       "'text/html; charset=UTF-8'"
      ]
     },
     "execution_count": 32,
     "metadata": {},
     "output_type": "execute_result"
    }
   ],
   "source": [
    "# checking content type\n",
    "\n",
    "header['Content-Type']"
   ]
  },
  {
   "cell_type": "code",
   "execution_count": 33,
   "id": "ca9d2618",
   "metadata": {},
   "outputs": [
    {
     "data": {
      "text/plain": [
       "'UTF-8'"
      ]
     },
     "execution_count": 33,
     "metadata": {},
     "output_type": "execute_result"
    }
   ],
   "source": [
    "# checking the encoding\n",
    "\n",
    "r.encoding"
   ]
  },
  {
   "cell_type": "code",
   "execution_count": 34,
   "id": "83e6ccd3",
   "metadata": {},
   "outputs": [
    {
     "data": {
      "text/plain": [
       "'    <!DOCTYPE html>\\n<html class=\"b-header--black--white b-pw-1280 b-reith-sans-font\">\\n\\n    <head>\\n        <meta http-equiv=\"Content-Type\" content=\"text/html; charset=UTF-8\">\\n        <meta name=\"description\" content=\"Breaking news, sport, TV, radio and a whole lot more.\\n        The BBC informs, educates and entertains - wherever you are, whatever your age.\">\\n        <meta name=\"keywords\" content=\"BBC, bbc.co.uk, bbc.com, Search, British Broadcasting Corporation, BBC iPlayer, BBCi\">\\n        <title'"
      ]
     },
     "execution_count": 34,
     "metadata": {},
     "output_type": "execute_result"
    }
   ],
   "source": [
    "# checking the first 500 charecters\n",
    "\n",
    "r.text[0:500]"
   ]
  },
  {
   "cell_type": "markdown",
   "id": "33982da9",
   "metadata": {},
   "source": [
    "**Further practice**<br>\n",
    "\n",
    "<font color=\"green\">\"https://docs.python.org/3/\"</font>"
   ]
  },
  {
   "cell_type": "code",
   "execution_count": 1,
   "id": "b4058925",
   "metadata": {},
   "outputs": [],
   "source": [
    "def srijon(x,y):\n",
    "    z = x + y\n",
    "    return z"
   ]
  },
  {
   "cell_type": "code",
   "execution_count": 2,
   "id": "77e6ec81",
   "metadata": {},
   "outputs": [
    {
     "data": {
      "text/plain": [
       "23"
      ]
     },
     "execution_count": 2,
     "metadata": {},
     "output_type": "execute_result"
    }
   ],
   "source": [
    "srijon(11, 12)"
   ]
  },
  {
   "cell_type": "code",
   "execution_count": 3,
   "id": "216622b6",
   "metadata": {},
   "outputs": [],
   "source": [
    "x = [1,2,3,4,5]"
   ]
  },
  {
   "cell_type": "code",
   "execution_count": 4,
   "id": "147d8711",
   "metadata": {},
   "outputs": [
    {
     "data": {
      "text/plain": [
       "list"
      ]
     },
     "execution_count": 4,
     "metadata": {},
     "output_type": "execute_result"
    }
   ],
   "source": [
    "type(x)"
   ]
  }
 ],
 "metadata": {
  "kernelspec": {
   "display_name": "Python 3 (ipykernel)",
   "language": "python",
   "name": "python3"
  },
  "language_info": {
   "codemirror_mode": {
    "name": "ipython",
    "version": 3
   },
   "file_extension": ".py",
   "mimetype": "text/x-python",
   "name": "python",
   "nbconvert_exporter": "python",
   "pygments_lexer": "ipython3",
   "version": "3.9.7"
  }
 },
 "nbformat": 4,
 "nbformat_minor": 5
}
